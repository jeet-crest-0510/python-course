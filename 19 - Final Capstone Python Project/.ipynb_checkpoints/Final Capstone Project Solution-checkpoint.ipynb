{
 "cells": [
  {
   "cell_type": "markdown",
   "id": "a5f8f8d3-32db-4a5f-962f-21d2f47b9b87",
   "metadata": {},
   "source": [
    "# Numbers"
   ]
  },
  {
   "cell_type": "markdown",
   "id": "5440a060-8972-4cc6-bf5b-b1ed2993877d",
   "metadata": {},
   "source": [
    "**1) Find PI to the Nth Digit - Enter a number and have the program generate π (pi) up to that many decimal places. Keep a limit to how far the program will go.**"
   ]
  },
  {
   "cell_type": "code",
   "execution_count": 2,
   "id": "3cd7a1d4-513d-4750-bdc9-075f09425ece",
   "metadata": {},
   "outputs": [],
   "source": [
    "import math"
   ]
  },
  {
   "cell_type": "code",
   "execution_count": 17,
   "id": "19f4f8cc-5b7a-4fcf-9499-81f07094988e",
   "metadata": {},
   "outputs": [
    {
     "name": "stdin",
     "output_type": "stream",
     "text": [
      "Enter the decimal required for PI:  str\n"
     ]
    },
    {
     "name": "stdout",
     "output_type": "stream",
     "text": [
      "Sorry, Please Enter Integer! \n"
     ]
    },
    {
     "name": "stdin",
     "output_type": "stream",
     "text": [
      "Enter the decimal required for PI:  40\n"
     ]
    },
    {
     "name": "stdout",
     "output_type": "stream",
     "text": [
      "3.141592653589793\n"
     ]
    }
   ],
   "source": [
    "while True:\n",
    "    try:\n",
    "        dec = int(input('Enter the decimal required for PI: '))\n",
    "    except:\n",
    "        print('Sorry, Please Enter Integer! ')\n",
    "        continue\n",
    "    else:\n",
    "        break\n",
    "\n",
    "print(round(math.pi,dec))"
   ]
  },
  {
   "cell_type": "code",
   "execution_count": 20,
   "id": "4a5f468e-4024-4713-a595-0bf1f0c385f0",
   "metadata": {},
   "outputs": [],
   "source": [
    "from mpmath import mp"
   ]
  },
  {
   "cell_type": "code",
   "execution_count": 32,
   "id": "6381be7c-ec14-4873-9c91-9800f31e1838",
   "metadata": {},
   "outputs": [
    {
     "name": "stdin",
     "output_type": "stream",
     "text": [
      "Enter the decimal required for PI:  100\n"
     ]
    },
    {
     "name": "stdout",
     "output_type": "stream",
     "text": [
      "3.141592653589793238462643383279502884197169399375105820974944592307816406286208998628034825342117068\n"
     ]
    }
   ],
   "source": [
    "while True:\n",
    "    try:\n",
    "        dec = int(input('Enter the decimal required for PI: '))\n",
    "    except:\n",
    "        print('Sorry, Please Enter Integer! ')\n",
    "        continue\n",
    "    else:\n",
    "        mp.dps = dec +1\n",
    "        break\n",
    "\n",
    "print(mp.pi)"
   ]
  },
  {
   "cell_type": "markdown",
   "id": "2662bbd5-3864-4a35-b69c-12b0b9d6183a",
   "metadata": {},
   "source": [
    "**2) Find e to the Nth Digit - Just like the previous problem, but with e instead of π (pi). Enter a number and have the program generate e up to that many decimal places. Keep a limit to how far the program will go.**"
   ]
  },
  {
   "cell_type": "code",
   "execution_count": 33,
   "id": "ff57c7db-e336-47e5-ba47-fc81e308eb3c",
   "metadata": {},
   "outputs": [
    {
     "name": "stdin",
     "output_type": "stream",
     "text": [
      "Enter the decimal required for e:  s\n"
     ]
    },
    {
     "name": "stdout",
     "output_type": "stream",
     "text": [
      "Sorry, Please Enter Integer! \n"
     ]
    },
    {
     "name": "stdin",
     "output_type": "stream",
     "text": [
      "Enter the decimal required for e:  20\n"
     ]
    },
    {
     "name": "stdout",
     "output_type": "stream",
     "text": [
      "2.718281828459045\n"
     ]
    }
   ],
   "source": [
    "while True:\n",
    "    try:\n",
    "        dec = int(input('Enter the decimal required for e: '))\n",
    "    except:\n",
    "        print('Sorry, Please Enter Integer! ')\n",
    "        continue\n",
    "    else:\n",
    "        break\n",
    "\n",
    "print(round(math.e,dec))"
   ]
  },
  {
   "cell_type": "code",
   "execution_count": 34,
   "id": "85c71daa-dadc-46ee-9418-e4eb7fb05533",
   "metadata": {},
   "outputs": [
    {
     "name": "stdin",
     "output_type": "stream",
     "text": [
      "Enter the decimal required for e:  20\n"
     ]
    },
    {
     "name": "stdout",
     "output_type": "stream",
     "text": [
      "2.71828182845904523536\n"
     ]
    }
   ],
   "source": [
    "while True:\n",
    "    try:\n",
    "        dec = int(input('Enter the decimal required for e: '))\n",
    "    except:\n",
    "        print('Sorry, Please Enter Integer! ')\n",
    "        continue\n",
    "    else:\n",
    "        mp.dps = dec + 1\n",
    "        break\n",
    "\n",
    "print(mp.e)"
   ]
  },
  {
   "cell_type": "markdown",
   "id": "0a4e1dc4-fdd4-47e6-9cd7-2bec013aeb62",
   "metadata": {},
   "source": [
    "**3) Fibonacci Sequence - Enter a number and have the program generate the Fibonacci sequence to that number or to the Nth number.**"
   ]
  },
  {
   "cell_type": "code",
   "execution_count": 50,
   "id": "422b833c-9c34-4683-b41c-ffbcb74a1d6c",
   "metadata": {},
   "outputs": [],
   "source": [
    "def fibon(n):\n",
    "    a = 1\n",
    "    b = 1\n",
    "    while n>0:\n",
    "        yield a\n",
    "        a, b = (b, a+b)\n",
    "        n-=1"
   ]
  },
  {
   "cell_type": "code",
   "execution_count": 51,
   "id": "b2e7dfbb-6dab-4ea8-a235-cae1b25e0bac",
   "metadata": {},
   "outputs": [
    {
     "name": "stdin",
     "output_type": "stream",
     "text": [
      "Enter the number of Fibonacci Sequence:  7\n"
     ]
    },
    {
     "data": {
      "text/plain": [
       "[1, 1, 2, 3, 5, 8, 13]"
      ]
     },
     "execution_count": 51,
     "metadata": {},
     "output_type": "execute_result"
    }
   ],
   "source": [
    "while True:\n",
    "    try:\n",
    "        n = int(input('Enter the number of Fibonacci Sequence: '))\n",
    "    except:\n",
    "        print('Sorry, Please Enter Integer! ')\n",
    "        continue\n",
    "    else:\n",
    "        break\n",
    "\n",
    "seq = fibon(n)\n",
    "list(seq)"
   ]
  },
  {
   "cell_type": "markdown",
   "id": "619b4ddb-df26-4a1a-a9e9-c29b0456559a",
   "metadata": {},
   "source": [
    "**4) Next Prime Number - Have the program find prime numbers until the user chooses to stop asking for the next one.**"
   ]
  },
  {
   "cell_type": "code",
   "execution_count": 48,
   "id": "7dfdd9ba-d9e2-4f9d-af80-9fb15c471375",
   "metadata": {},
   "outputs": [],
   "source": [
    "def isPrime(n):\n",
    "    for i in range(2, n//2+1):\n",
    "        if n%i ==0:\n",
    "            return False\n",
    "    return True"
   ]
  },
  {
   "cell_type": "code",
   "execution_count": 49,
   "id": "0c5aba2b-eb9b-4566-b013-1cf0173f96ff",
   "metadata": {},
   "outputs": [
    {
     "name": "stdin",
     "output_type": "stream",
     "text": [
      "For Next Prime Number: (next), Stop: (stop)  next\n"
     ]
    },
    {
     "name": "stdout",
     "output_type": "stream",
     "text": [
      "2\n"
     ]
    },
    {
     "name": "stdin",
     "output_type": "stream",
     "text": [
      "For Next Prime Number: (next), Stop: (stop)  next\n"
     ]
    },
    {
     "name": "stdout",
     "output_type": "stream",
     "text": [
      "3\n"
     ]
    },
    {
     "name": "stdin",
     "output_type": "stream",
     "text": [
      "For Next Prime Number: (next), Stop: (stop)  next\n"
     ]
    },
    {
     "name": "stdout",
     "output_type": "stream",
     "text": [
      "5\n"
     ]
    },
    {
     "name": "stdin",
     "output_type": "stream",
     "text": [
      "For Next Prime Number: (next), Stop: (stop)  next\n"
     ]
    },
    {
     "name": "stdout",
     "output_type": "stream",
     "text": [
      "7\n"
     ]
    },
    {
     "name": "stdin",
     "output_type": "stream",
     "text": [
      "For Next Prime Number: (next), Stop: (stop)  next\n"
     ]
    },
    {
     "name": "stdout",
     "output_type": "stream",
     "text": [
      "11\n"
     ]
    },
    {
     "name": "stdin",
     "output_type": "stream",
     "text": [
      "For Next Prime Number: (next), Stop: (stop)  next\n"
     ]
    },
    {
     "name": "stdout",
     "output_type": "stream",
     "text": [
      "13\n"
     ]
    },
    {
     "name": "stdin",
     "output_type": "stream",
     "text": [
      "For Next Prime Number: (next), Stop: (stop)  next\n"
     ]
    },
    {
     "name": "stdout",
     "output_type": "stream",
     "text": [
      "17\n"
     ]
    },
    {
     "name": "stdin",
     "output_type": "stream",
     "text": [
      "For Next Prime Number: (next), Stop: (stop)  next\n"
     ]
    },
    {
     "name": "stdout",
     "output_type": "stream",
     "text": [
      "19\n"
     ]
    },
    {
     "name": "stdin",
     "output_type": "stream",
     "text": [
      "For Next Prime Number: (next), Stop: (stop)  next\n"
     ]
    },
    {
     "name": "stdout",
     "output_type": "stream",
     "text": [
      "23\n"
     ]
    },
    {
     "name": "stdin",
     "output_type": "stream",
     "text": [
      "For Next Prime Number: (next), Stop: (stop)  next\n"
     ]
    },
    {
     "name": "stdout",
     "output_type": "stream",
     "text": [
      "29\n"
     ]
    },
    {
     "name": "stdin",
     "output_type": "stream",
     "text": [
      "For Next Prime Number: (next), Stop: (stop)  next\n"
     ]
    },
    {
     "name": "stdout",
     "output_type": "stream",
     "text": [
      "31\n"
     ]
    },
    {
     "name": "stdin",
     "output_type": "stream",
     "text": [
      "For Next Prime Number: (next), Stop: (stop)  next\n"
     ]
    },
    {
     "name": "stdout",
     "output_type": "stream",
     "text": [
      "37\n"
     ]
    },
    {
     "name": "stdin",
     "output_type": "stream",
     "text": [
      "For Next Prime Number: (next), Stop: (stop)  next\n"
     ]
    },
    {
     "name": "stdout",
     "output_type": "stream",
     "text": [
      "41\n"
     ]
    },
    {
     "name": "stdin",
     "output_type": "stream",
     "text": [
      "For Next Prime Number: (next), Stop: (stop)  Next\n"
     ]
    },
    {
     "name": "stdout",
     "output_type": "stream",
     "text": [
      "43\n"
     ]
    },
    {
     "name": "stdin",
     "output_type": "stream",
     "text": [
      "For Next Prime Number: (next), Stop: (stop)  stop\n"
     ]
    }
   ],
   "source": [
    "prime = 2\n",
    "\n",
    "while True:\n",
    "    x = input('For Next Prime Number: (next), Stop: (stop) ')\n",
    "    if x.lower() == 'next':\n",
    "        print(prime)\n",
    "        y = prime+1\n",
    "        while not isPrime(y):\n",
    "            y+=1\n",
    "        prime = y\n",
    "    else:\n",
    "        break"
   ]
  },
  {
   "cell_type": "markdown",
   "id": "d55cffa5-e288-4e23-9154-63dbce89442d",
   "metadata": {},
   "source": [
    "**5) Find Cost of Tile to Cover W x H Floor - Calculate the total cost of tile it would take to cover a floor plan of width and height, using a cost entered by the user.**"
   ]
  },
  {
   "cell_type": "code",
   "execution_count": 58,
   "id": "754db2fd-48ab-4712-8114-9929367af688",
   "metadata": {},
   "outputs": [
    {
     "name": "stdin",
     "output_type": "stream",
     "text": [
      "Enter the width of tile:  2\n",
      "Enter the height of tile:  2\n",
      "Enter the width of floor plan:  10\n",
      "Enter the height of floor plan:  21\n",
      "Enter the cost of 1 tile:  10\n"
     ]
    },
    {
     "name": "stdout",
     "output_type": "stream",
     "text": [
      "Tiles Required: 53\n",
      "Cost: 530.0\n"
     ]
    }
   ],
   "source": [
    "\n",
    "while True:\n",
    "    try:\n",
    "        wtile = float(input('Enter the width of tile: '))\n",
    "        htile = float(input('Enter the height of tile: '))\n",
    "        wfloor = float(input('Enter the width of floor plan: '))\n",
    "        hfloor = float(input('Enter the height of floor plan: '))\n",
    "        cost = float(input('Enter the cost of 1 tile: '))\n",
    "    except:\n",
    "        print('Please enter the floating value!!')\n",
    "        continue\n",
    "    else:\n",
    "        break\n",
    "\n",
    "total_tiles_required = math.ceil((wfloor*hfloor) / (wtile*htile))\n",
    "\n",
    "total_cost = total_tiles_required*cost\n",
    "print(f'Tiles Required: {total_tiles_required}')\n",
    "print(f'Cost: {total_cost}')"
   ]
  },
  {
   "cell_type": "markdown",
   "id": "3cbd2fda-2562-4aa8-a61c-c793ef8a2188",
   "metadata": {},
   "source": [
    "**6) Binary to Decimal and Back Converter - Develop a converter to convert a decimal number to binary or a binary number to its decimal equivalent.**\n"
   ]
  },
  {
   "cell_type": "code",
   "execution_count": 59,
   "id": "91a143be-4fce-4fbd-b263-281c952c5bf9",
   "metadata": {},
   "outputs": [],
   "source": [
    "def binary_to_decimal(binary):\n",
    "    decimal, i = 0, 0\n",
    "    while binary!=0:\n",
    "        d = binary%10\n",
    "        decimal += d*pow(2,i)\n",
    "        binary //=10\n",
    "        i+=1\n",
    "    return decimal"
   ]
  },
  {
   "cell_type": "code",
   "execution_count": 60,
   "id": "98712a8b-a730-4a1c-ac80-3c8986ee4a83",
   "metadata": {},
   "outputs": [
    {
     "data": {
      "text/plain": [
       "6"
      ]
     },
     "execution_count": 60,
     "metadata": {},
     "output_type": "execute_result"
    }
   ],
   "source": [
    "binary_to_decimal(110)"
   ]
  },
  {
   "cell_type": "code",
   "execution_count": 67,
   "id": "3d83970b-9b60-4eff-afff-5bd658583f8e",
   "metadata": {},
   "outputs": [],
   "source": [
    "def decimal_to_binary(decimal):\n",
    "    binary = ''\n",
    "    while decimal:\n",
    "        binary += str(decimal%2)\n",
    "        decimal //=2\n",
    "    return int(binary[::-1])"
   ]
  },
  {
   "cell_type": "code",
   "execution_count": 68,
   "id": "f0aff58c-3bf3-4ec4-918f-4714b652d8ea",
   "metadata": {},
   "outputs": [
    {
     "data": {
      "text/plain": [
       "10"
      ]
     },
     "execution_count": 68,
     "metadata": {},
     "output_type": "execute_result"
    }
   ],
   "source": [
    "decimal_to_binary(2)"
   ]
  },
  {
   "cell_type": "code",
   "execution_count": 69,
   "id": "bb6e7e0e-ca85-4621-b198-e1f982f51e53",
   "metadata": {},
   "outputs": [
    {
     "data": {
      "text/plain": [
       "10011"
      ]
     },
     "execution_count": 69,
     "metadata": {},
     "output_type": "execute_result"
    }
   ],
   "source": [
    "decimal_to_binary(19)"
   ]
  },
  {
   "cell_type": "code",
   "execution_count": null,
   "id": "eca7edf4-0ad2-4504-94f7-3e166fb2464f",
   "metadata": {},
   "outputs": [],
   "source": []
  }
 ],
 "metadata": {
  "kernelspec": {
   "display_name": "Python 3 (ipykernel)",
   "language": "python",
   "name": "python3"
  },
  "language_info": {
   "codemirror_mode": {
    "name": "ipython",
    "version": 3
   },
   "file_extension": ".py",
   "mimetype": "text/x-python",
   "name": "python",
   "nbconvert_exporter": "python",
   "pygments_lexer": "ipython3",
   "version": "3.12.7"
  }
 },
 "nbformat": 4,
 "nbformat_minor": 5
}
