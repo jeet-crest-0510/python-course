{
 "cells": [
  {
   "cell_type": "code",
   "execution_count": 1,
   "id": "ce3596e8-11f6-44ed-9b0f-0ef3314fbc19",
   "metadata": {},
   "outputs": [
    {
     "name": "stdout",
     "output_type": "stream",
     "text": [
      "It's Tuesday\n"
     ]
    }
   ],
   "source": [
    "day = 'Tuesday'\n",
    "\n",
    "if day == 'Monday':\n",
    "    print(\"It's Monday\")\n",
    "elif day == 'Tuesday':\n",
    "    print(\"It's Tuesday\")\n",
    "else:\n",
    "    print(\"It's Neither a Monday nor Tuesday\")"
   ]
  },
  {
   "cell_type": "code",
   "execution_count": 2,
   "id": "dcaf1120-1271-4c68-b6b4-bf7e7f6281d7",
   "metadata": {},
   "outputs": [
    {
     "name": "stdout",
     "output_type": "stream",
     "text": [
      "1 is Odd\n",
      "2 is Even\n",
      "3 is Odd\n",
      "4 is Even\n",
      "5 is Odd\n"
     ]
    }
   ],
   "source": [
    "list1 = [1,2,3,4,5]\n",
    "\n",
    "for num in list1:\n",
    "    if num%2 == 0:\n",
    "        print(f'{num} is Even')\n",
    "    else:\n",
    "        print(f'{num} is Odd')"
   ]
  },
  {
   "cell_type": "code",
   "execution_count": 3,
   "id": "150864c6-c59c-4a65-b4bf-76a7972d81b5",
   "metadata": {},
   "outputs": [
    {
     "name": "stdout",
     "output_type": "stream",
     "text": [
      "1\n",
      "2\n",
      "3\n",
      "4\n"
     ]
    }
   ],
   "source": [
    "list2 = (1,2,3,4)\n",
    "\n",
    "for var in list2:\n",
    "    print(var)"
   ]
  },
  {
   "cell_type": "code",
   "execution_count": 4,
   "id": "bebad757-9528-435d-ac72-bafebdcb9593",
   "metadata": {},
   "outputs": [
    {
     "name": "stdout",
     "output_type": "stream",
     "text": [
      "H\n",
      "e\n",
      "l\n",
      "l\n",
      "o\n"
     ]
    }
   ],
   "source": [
    "str = 'Hello'\n",
    "\n",
    "for var in str:\n",
    "    print(var)"
   ]
  },
  {
   "cell_type": "code",
   "execution_count": 5,
   "id": "84cdeecb-6014-472a-872e-a55c68bd210f",
   "metadata": {},
   "outputs": [
    {
     "name": "stdout",
     "output_type": "stream",
     "text": [
      "0.1\n",
      "1\n",
      "2\n",
      "4\n",
      "13\n"
     ]
    }
   ],
   "source": [
    "list3 = {1,2,13,1, 0.1, 4}\n",
    "\n",
    "for var in list3:\n",
    "    print(var)"
   ]
  },
  {
   "cell_type": "code",
   "execution_count": 8,
   "id": "35b98ab9-9f89-4b90-b24f-1223e1c53fb6",
   "metadata": {},
   "outputs": [
    {
     "name": "stdout",
     "output_type": "stream",
     "text": [
      "name\n",
      "age\n"
     ]
    }
   ],
   "source": [
    "list4 = {\n",
    "    \"name\" : \"jeet\",\n",
    "    \"age\" : 21\n",
    "}\n",
    "\n",
    "for var in list4:\n",
    "    print(var)"
   ]
  },
  {
   "cell_type": "code",
   "execution_count": 11,
   "id": "4c87cd48-0fd7-480e-b460-ca0d93fa1016",
   "metadata": {},
   "outputs": [
    {
     "name": "stdout",
     "output_type": "stream",
     "text": [
      "name : jeet\n",
      "age : 21\n"
     ]
    }
   ],
   "source": [
    "for k,v in list4.items():\n",
    "    print(f'{k} : {v}')"
   ]
  },
  {
   "cell_type": "code",
   "execution_count": 12,
   "id": "a72279d8-742e-4df2-b6bc-37ae0c0ead94",
   "metadata": {},
   "outputs": [
    {
     "name": "stdout",
     "output_type": "stream",
     "text": [
      "1 : a\n",
      "2 : b\n"
     ]
    }
   ],
   "source": [
    "list5 = [(1,'a'), (2,'b')]\n",
    "\n",
    "for a,b in list5:\n",
    "    print(f'{a} : {b}')"
   ]
  },
  {
   "cell_type": "code",
   "execution_count": 13,
   "id": "089c20c0-582f-4534-9cfb-4567c40f2034",
   "metadata": {},
   "outputs": [
    {
     "name": "stdout",
     "output_type": "stream",
     "text": [
      "(1, 'a')\n",
      "(2, 'b')\n"
     ]
    }
   ],
   "source": [
    "for item in list5:\n",
    "    print(item)"
   ]
  },
  {
   "cell_type": "code",
   "execution_count": 14,
   "id": "5950b8f5-43a5-435b-a859-8bdf67006f7f",
   "metadata": {},
   "outputs": [
    {
     "name": "stdout",
     "output_type": "stream",
     "text": [
      "0\n",
      "1\n",
      "2\n",
      "3\n",
      "4\n",
      "5\n",
      "i is greater than 5\n",
      "Execution Completed\n"
     ]
    }
   ],
   "source": [
    "i=0\n",
    "\n",
    "while i<=5:\n",
    "    print(i)\n",
    "    i+=1\n",
    "else:\n",
    "    print('i is greater than 5')\n",
    "\n",
    "print('Execution Completed')"
   ]
  },
  {
   "cell_type": "code",
   "execution_count": null,
   "id": "eef82992-4e47-464f-874f-44b22e13228a",
   "metadata": {},
   "outputs": [],
   "source": [
    "list1 = [1,2,3,4]\n",
    "\n",
    "for i in list1:\n",
    "    pass\n",
    "    print('Executing Loop')\n",
    "\n",
    "print('Execution Completed')"
   ]
  }
 ],
 "metadata": {
  "kernelspec": {
   "display_name": "Python 3 (ipykernel)",
   "language": "python",
   "name": "python3"
  },
  "language_info": {
   "codemirror_mode": {
    "name": "ipython",
    "version": 3
   },
   "file_extension": ".py",
   "mimetype": "text/x-python",
   "name": "python",
   "nbconvert_exporter": "python",
   "pygments_lexer": "ipython3",
   "version": "3.12.7"
  }
 },
 "nbformat": 4,
 "nbformat_minor": 5
}
