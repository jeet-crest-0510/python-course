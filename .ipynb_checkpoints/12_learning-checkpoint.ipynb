{
 "cells": [
  {
   "cell_type": "code",
   "execution_count": 1,
   "id": "d0204722-94d1-4074-8925-d27056345564",
   "metadata": {},
   "outputs": [],
   "source": [
    "def hello():\n",
    "    return \"Hello!!\""
   ]
  },
  {
   "cell_type": "code",
   "execution_count": 2,
   "id": "ec54c750-3437-4317-ac7e-25aa201fbebd",
   "metadata": {},
   "outputs": [
    {
     "data": {
      "text/plain": [
       "'Hello!!'"
      ]
     },
     "execution_count": 2,
     "metadata": {},
     "output_type": "execute_result"
    }
   ],
   "source": [
    "hello()"
   ]
  },
  {
   "cell_type": "code",
   "execution_count": 3,
   "id": "4e0eca6e-aca5-471e-a0ab-e60abb867a6c",
   "metadata": {},
   "outputs": [
    {
     "data": {
      "text/plain": [
       "<function __main__.hello()>"
      ]
     },
     "execution_count": 3,
     "metadata": {},
     "output_type": "execute_result"
    }
   ],
   "source": [
    "hello"
   ]
  },
  {
   "cell_type": "code",
   "execution_count": 4,
   "id": "c484b3de-8490-4c24-aa05-984691fd58cb",
   "metadata": {},
   "outputs": [],
   "source": [
    "greet = hello"
   ]
  },
  {
   "cell_type": "code",
   "execution_count": 5,
   "id": "599a8cb2-573e-47f8-b14c-d5acccfc637f",
   "metadata": {},
   "outputs": [
    {
     "data": {
      "text/plain": [
       "'Hello!!'"
      ]
     },
     "execution_count": 5,
     "metadata": {},
     "output_type": "execute_result"
    }
   ],
   "source": [
    "greet()"
   ]
  },
  {
   "cell_type": "code",
   "execution_count": 6,
   "id": "4b0a9af9-1905-4ae9-a2a8-f80bb64b1a0a",
   "metadata": {},
   "outputs": [],
   "source": [
    "welcome = greet()"
   ]
  },
  {
   "cell_type": "code",
   "execution_count": 8,
   "id": "f304e81e-960d-4f93-afef-939f9766dc16",
   "metadata": {},
   "outputs": [
    {
     "data": {
      "text/plain": [
       "'Hello!!'"
      ]
     },
     "execution_count": 8,
     "metadata": {},
     "output_type": "execute_result"
    }
   ],
   "source": [
    "welcome"
   ]
  },
  {
   "cell_type": "code",
   "execution_count": 10,
   "id": "4e8e7c77-cd8e-455b-a1eb-049d37b5a3c1",
   "metadata": {},
   "outputs": [],
   "source": [
    "del hello"
   ]
  },
  {
   "cell_type": "code",
   "execution_count": 11,
   "id": "e591da2c-2e2a-49fa-a4ef-db2f3d862482",
   "metadata": {},
   "outputs": [
    {
     "ename": "NameError",
     "evalue": "name 'hello' is not defined",
     "output_type": "error",
     "traceback": [
      "\u001b[1;31m---------------------------------------------------------------------------\u001b[0m",
      "\u001b[1;31mNameError\u001b[0m                                 Traceback (most recent call last)",
      "Cell \u001b[1;32mIn[11], line 1\u001b[0m\n\u001b[1;32m----> 1\u001b[0m hello()\n",
      "\u001b[1;31mNameError\u001b[0m: name 'hello' is not defined"
     ]
    }
   ],
   "source": [
    "hello()"
   ]
  },
  {
   "cell_type": "code",
   "execution_count": 12,
   "id": "4864a866-dd51-4d6b-8c14-06987a52916e",
   "metadata": {},
   "outputs": [
    {
     "data": {
      "text/plain": [
       "'Hello!!'"
      ]
     },
     "execution_count": 12,
     "metadata": {},
     "output_type": "execute_result"
    }
   ],
   "source": [
    "greet()"
   ]
  },
  {
   "cell_type": "code",
   "execution_count": 16,
   "id": "071799db-bf57-4b06-9e3b-f6cebe8f377e",
   "metadata": {},
   "outputs": [],
   "source": [
    "def Hello(name = 'Jeet'):\n",
    "    print(\"The Hello() func has been executed\")\n",
    "    \n",
    "    def greet():\n",
    "        return '\\tThis is greet() inside the Hello()'\n",
    "        \n",
    "    def welcome():\n",
    "        return '\\tThis is welcome() inside the Hello()'\n",
    "        \n",
    "    print(greet())\n",
    "    print(welcome())"
   ]
  },
  {
   "cell_type": "code",
   "execution_count": 17,
   "id": "682aafcd-e8fa-4ab6-831e-c84d03943634",
   "metadata": {},
   "outputs": [
    {
     "name": "stdout",
     "output_type": "stream",
     "text": [
      "The Hello() func has been executed\n",
      "\tThis is greet() inside the Hello()\n",
      "\tThis is welcome() inside the Hello()\n"
     ]
    }
   ],
   "source": [
    "Hello()"
   ]
  },
  {
   "cell_type": "code",
   "execution_count": 26,
   "id": "cd81ddbd-283c-4c1d-9b80-e400277bf4db",
   "metadata": {},
   "outputs": [],
   "source": [
    "def Hello(name = 'Jeet'):\n",
    "    print(\"The Hello() func has been executed\")\n",
    "    \n",
    "    def greet():\n",
    "        return '\\tThis is greet() inside the Hello()'\n",
    "        \n",
    "    def welcome():\n",
    "        return '\\tThis is welcome() inside the Hello()'\n",
    "        \n",
    "    print(\"I am going to return a function\")\n",
    "    \n",
    "    if name == 'Jeet':\n",
    "        return greet\n",
    "    else:\n",
    "        return welcome"
   ]
  },
  {
   "cell_type": "code",
   "execution_count": 27,
   "id": "7d9a0b01-08c2-459c-86ce-9ce9ce9978ca",
   "metadata": {},
   "outputs": [
    {
     "name": "stdout",
     "output_type": "stream",
     "text": [
      "The Hello() func has been executed\n",
      "I am going to return a function\n"
     ]
    },
    {
     "data": {
      "text/plain": [
       "<function __main__.Hello.<locals>.greet()>"
      ]
     },
     "execution_count": 27,
     "metadata": {},
     "output_type": "execute_result"
    }
   ],
   "source": [
    "Hello()"
   ]
  },
  {
   "cell_type": "code",
   "execution_count": 28,
   "id": "927cd197-77b8-440c-bb26-898907383cfb",
   "metadata": {},
   "outputs": [
    {
     "name": "stdout",
     "output_type": "stream",
     "text": [
      "The Hello() func has been executed\n",
      "I am going to return a function\n"
     ]
    }
   ],
   "source": [
    "my_func = Hello()"
   ]
  },
  {
   "cell_type": "code",
   "execution_count": 30,
   "id": "1e8ca0e3-979e-4d07-8c85-2351ef6f3e7e",
   "metadata": {},
   "outputs": [
    {
     "name": "stdout",
     "output_type": "stream",
     "text": [
      "\tThis is greet() inside the Hello()\n"
     ]
    }
   ],
   "source": [
    "print(my_func())"
   ]
  },
  {
   "cell_type": "code",
   "execution_count": 31,
   "id": "86b0e9e1-1a52-4f63-a641-efd3eca04fb4",
   "metadata": {},
   "outputs": [],
   "source": [
    "def Hello1():\n",
    "    def Greet():\n",
    "        return \"Greet!\"\n",
    "    return Greet"
   ]
  },
  {
   "cell_type": "code",
   "execution_count": 37,
   "id": "b643d8fa-4782-4acd-b979-7eb2e0915d27",
   "metadata": {},
   "outputs": [
    {
     "data": {
      "text/plain": [
       "<function __main__.Hello1.<locals>.Greet()>"
      ]
     },
     "execution_count": 37,
     "metadata": {},
     "output_type": "execute_result"
    }
   ],
   "source": [
    "Hello1()"
   ]
  },
  {
   "cell_type": "code",
   "execution_count": 36,
   "id": "5c75917f-2fd3-4d76-8691-3daec0e45909",
   "metadata": {},
   "outputs": [
    {
     "name": "stdout",
     "output_type": "stream",
     "text": [
      "<function Hello1.<locals>.Greet at 0x000001AE099C4720>\n"
     ]
    }
   ],
   "source": [
    "print(Hello1())"
   ]
  },
  {
   "cell_type": "code",
   "execution_count": 39,
   "id": "61a803dc-9772-4356-bcde-ed0491c266bb",
   "metadata": {},
   "outputs": [],
   "source": [
    "greetings = Hello1()"
   ]
  },
  {
   "cell_type": "code",
   "execution_count": 40,
   "id": "c4f84758-4f66-4b4e-bf53-6d8edb884ae1",
   "metadata": {},
   "outputs": [
    {
     "data": {
      "text/plain": [
       "<function __main__.Hello1.<locals>.Greet()>"
      ]
     },
     "execution_count": 40,
     "metadata": {},
     "output_type": "execute_result"
    }
   ],
   "source": [
    "greetings"
   ]
  },
  {
   "cell_type": "code",
   "execution_count": 41,
   "id": "5be11632-c3be-4617-baad-98b4147433cd",
   "metadata": {},
   "outputs": [
    {
     "data": {
      "text/plain": [
       "'Greet!'"
      ]
     },
     "execution_count": 41,
     "metadata": {},
     "output_type": "execute_result"
    }
   ],
   "source": [
    "greetings()"
   ]
  },
  {
   "cell_type": "code",
   "execution_count": 44,
   "id": "30304f86-bc32-4031-bd0f-127557ce3476",
   "metadata": {},
   "outputs": [],
   "source": [
    " def New_Dec(original_func):\n",
    "     def wrap_func():\n",
    "         print(\"Extra Code before original function\")\n",
    "         original_func()\n",
    "         print(\"Extra Code after original function\")\n",
    "     return wrap_func"
   ]
  },
  {
   "cell_type": "code",
   "execution_count": 45,
   "id": "b4ab2165-cd75-4908-a945-1d6ab7acc4ce",
   "metadata": {},
   "outputs": [],
   "source": [
    "def Fun_needs_dec():\n",
    "    print(\"i want to be decorated!\")"
   ]
  },
  {
   "cell_type": "code",
   "execution_count": 46,
   "id": "38b612fd-26a1-431a-ae41-4010efc341f9",
   "metadata": {},
   "outputs": [],
   "source": [
    "dec_func = New_Dec(Fun_needs_dec)"
   ]
  },
  {
   "cell_type": "code",
   "execution_count": 47,
   "id": "35b74bfb-738e-48cf-a71f-b3a278ff8b07",
   "metadata": {},
   "outputs": [
    {
     "name": "stdout",
     "output_type": "stream",
     "text": [
      "Extra Code before original function\n",
      "i want to be decorated!\n",
      "Extra Code after original function\n"
     ]
    }
   ],
   "source": [
    "dec_func()"
   ]
  },
  {
   "cell_type": "code",
   "execution_count": 48,
   "id": "f6952d8e-669c-439e-bdc7-07333e52c8c9",
   "metadata": {},
   "outputs": [],
   "source": [
    "@New_Dec\n",
    "def Fun_needs_dec():\n",
    "    print(\"i want to be decorated!\") "
   ]
  },
  {
   "cell_type": "code",
   "execution_count": 49,
   "id": "b4f34afe-c412-4f66-8cd0-158aa13e5ab3",
   "metadata": {},
   "outputs": [
    {
     "name": "stdout",
     "output_type": "stream",
     "text": [
      "Extra Code before original function\n",
      "i want to be decorated!\n",
      "Extra Code after original function\n"
     ]
    }
   ],
   "source": [
    "Fun_needs_dec()"
   ]
  },
  {
   "cell_type": "code",
   "execution_count": null,
   "id": "ef11b8ec-fc2e-4d3b-82ac-5fe15933da6e",
   "metadata": {},
   "outputs": [],
   "source": []
  }
 ],
 "metadata": {
  "kernelspec": {
   "display_name": "Python 3 (ipykernel)",
   "language": "python",
   "name": "python3"
  },
  "language_info": {
   "codemirror_mode": {
    "name": "ipython",
    "version": 3
   },
   "file_extension": ".py",
   "mimetype": "text/x-python",
   "name": "python",
   "nbconvert_exporter": "python",
   "pygments_lexer": "ipython3",
   "version": "3.12.7"
  }
 },
 "nbformat": 4,
 "nbformat_minor": 5
}
