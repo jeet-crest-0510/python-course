{
 "cells": [
  {
   "cell_type": "code",
   "execution_count": 10,
   "id": "3b2983ff-a864-40ee-a738-09774e02f6d5",
   "metadata": {},
   "outputs": [],
   "source": [
    "#CARD\n",
    "#Suite, Rank, Value\n",
    "import random\n",
    "\n",
    "suits =(\"Hearts\", \"Diamonds\", \"Spades\", \"Clubs\")\n",
    "ranks = (\"Two\", \"Three\", \"Four\", \"Five\", \"Six\", \"Seven\", \"Eight\", \"Nine\", \"Ten\", \n",
    "    \"Jack\", \"Queen\", \"king\", \"Ace\")\n",
    "values = {\n",
    "    \"Two\":2, \"Three\":3, \"Four\":4, \"Five\":5, \"Six\":6, \"Seven\":7, \"Eight\":8, \"Nine\":9, \"Ten\":10, \n",
    "    \"Jack\":11, \"Queen\":12, \"king\":13, \"Ace\":14\n",
    "}"
   ]
  },
  {
   "cell_type": "code",
   "execution_count": 11,
   "id": "50f79140-8204-460d-b9b5-cf24fe55502e",
   "metadata": {},
   "outputs": [],
   "source": [
    "class Card:\n",
    "    def __init__(self,suite,rank):\n",
    "        self.suite = suite\n",
    "        self.rank = rank\n",
    "        self.value = values[rank]\n",
    "        \n",
    "    def __str__(self):\n",
    "        return self.rank + \" of \" + self.suite\n",
    "        "
   ]
  },
  {
   "cell_type": "code",
   "execution_count": 26,
   "id": "b8afc755-d593-444d-8ab8-bc0da39cae07",
   "metadata": {},
   "outputs": [],
   "source": [
    "class Deck:\n",
    "    def __init__(self):\n",
    "        self.all_cards = []\n",
    "        for suit in suits:\n",
    "            for rank in ranks:\n",
    "                created_card = Card(suit,rank)\n",
    "                self.all_cards.append(created_card)\n",
    "                \n",
    "    def shuffle(self):\n",
    "        random.shuffle(self.all_cards)\n",
    "        \n",
    "    def deal_one(self):\n",
    "        return self.all_cards.pop()"
   ]
  },
  {
   "cell_type": "code",
   "execution_count": 27,
   "id": "6175d05e-aa65-4578-9e98-1ef8da30ef3a",
   "metadata": {},
   "outputs": [],
   "source": [
    "new_deck = Deck()"
   ]
  },
  {
   "cell_type": "code",
   "execution_count": 28,
   "id": "a9fddc8e-247b-4e81-a3fd-6d4e94d2f9d8",
   "metadata": {},
   "outputs": [],
   "source": [
    "first_card = new_deck.all_cards[0]"
   ]
  },
  {
   "cell_type": "code",
   "execution_count": 29,
   "id": "9344aaa0-71b1-4528-b2ee-42857a2ce731",
   "metadata": {},
   "outputs": [
    {
     "name": "stdout",
     "output_type": "stream",
     "text": [
      "Two of Hearts\n"
     ]
    }
   ],
   "source": [
    "print(first_card)"
   ]
  },
  {
   "cell_type": "code",
   "execution_count": 30,
   "id": "9697655a-aa57-4c76-b1ff-db3ef6d1de9a",
   "metadata": {},
   "outputs": [],
   "source": [
    "new_deck.shuffle()"
   ]
  },
  {
   "cell_type": "code",
   "execution_count": 31,
   "id": "5b75e3b1-d0f2-4620-9711-681eba9fde0e",
   "metadata": {},
   "outputs": [],
   "source": [
    "first_card = new_deck.all_cards[0]"
   ]
  },
  {
   "cell_type": "code",
   "execution_count": 23,
   "id": "22077a50-3576-4b95-8b0d-d066fa93b86e",
   "metadata": {},
   "outputs": [
    {
     "name": "stdout",
     "output_type": "stream",
     "text": [
      "Seven of Hearts\n"
     ]
    }
   ],
   "source": [
    "print(first_card)"
   ]
  },
  {
   "cell_type": "code",
   "execution_count": 33,
   "id": "7452a0aa-a72e-4b8e-8b5c-ea53c62ad7c9",
   "metadata": {},
   "outputs": [],
   "source": [
    "# for card in new_deck.all_cards:\n",
    "#     print(card)"
   ]
  },
  {
   "cell_type": "code",
   "execution_count": 34,
   "id": "41aaf8fe-8c1c-4dea-a681-ee546989359e",
   "metadata": {},
   "outputs": [],
   "source": [
    "c = new_deck.deal_one()"
   ]
  },
  {
   "cell_type": "code",
   "execution_count": 36,
   "id": "ad757d59-84d7-4ddd-9769-db46f39633b2",
   "metadata": {},
   "outputs": [
    {
     "name": "stdout",
     "output_type": "stream",
     "text": [
      "Three of Diamonds\n"
     ]
    }
   ],
   "source": [
    "print(c)"
   ]
  },
  {
   "cell_type": "code",
   "execution_count": 39,
   "id": "12ff6be4-8060-420a-8015-f180dd18aef4",
   "metadata": {},
   "outputs": [],
   "source": [
    "class Player:\n",
    "    def __init__(self, name):\n",
    "        self.name = name\n",
    "        self.all_cards = []\n",
    "        \n",
    "    def add_card(self, new_cards):\n",
    "        if type(new_cards) == type([]):\n",
    "            self.all_cards.extend(new_cards)\n",
    "        else:\n",
    "            self.all_cards.append(new_cards)\n",
    "        \n",
    "    def remove_one(self):\n",
    "        return self.all_cards.pop(0)\n",
    "        \n",
    "    def __str__(self):\n",
    "        return f'Player {self.name} has {len(self.all_cards)} cards'"
   ]
  },
  {
   "cell_type": "code",
   "execution_count": 40,
   "id": "7f22c0ad-0afc-4287-b5ca-5e4ab1884508",
   "metadata": {},
   "outputs": [],
   "source": [
    "new_player = Player(\"Jeet\")"
   ]
  },
  {
   "cell_type": "code",
   "execution_count": 41,
   "id": "4442001b-f5ec-4505-82da-49eb13bbe87f",
   "metadata": {},
   "outputs": [
    {
     "name": "stdout",
     "output_type": "stream",
     "text": [
      "Player Jeet has 0 cards\n"
     ]
    }
   ],
   "source": [
    "print(new_player)"
   ]
  },
  {
   "cell_type": "code",
   "execution_count": null,
   "id": "3eb935b5-f781-422e-991f-a1994a8fd9b9",
   "metadata": {},
   "outputs": [],
   "source": []
  }
 ],
 "metadata": {
  "kernelspec": {
   "display_name": "Python 3 (ipykernel)",
   "language": "python",
   "name": "python3"
  },
  "language_info": {
   "codemirror_mode": {
    "name": "ipython",
    "version": 3
   },
   "file_extension": ".py",
   "mimetype": "text/x-python",
   "name": "python",
   "nbconvert_exporter": "python",
   "pygments_lexer": "ipython3",
   "version": "3.12.7"
  }
 },
 "nbformat": 4,
 "nbformat_minor": 5
}
