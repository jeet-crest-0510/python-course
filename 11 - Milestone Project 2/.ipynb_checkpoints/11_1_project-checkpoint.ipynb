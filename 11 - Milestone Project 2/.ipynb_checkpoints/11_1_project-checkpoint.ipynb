{
 "cells": [
  {
   "cell_type": "code",
   "execution_count": 1,
   "id": "3b2983ff-a864-40ee-a738-09774e02f6d5",
   "metadata": {},
   "outputs": [],
   "source": [
    "#CARD\n",
    "#Suite, Rank, Value"
   ]
  },
  {
   "cell_type": "code",
   "execution_count": null,
   "id": "58f86689-41ab-49f3-8aac-4f799fce9991",
   "metadata": {},
   "outputs": [],
   "source": [
    "values = {\n",
    "    \"two\":2, \"Three\":3, \"Four\":4, \"Five\":5, \"Six\":6, \"Seven\":7, \"Eight\":8, \"Nine\":9, \"Ten\":10, \n",
    "    \"Jack\":11, \"Queen\":12, \"king\":13, \"Ace\":14\n",
    "}"
   ]
  },
  {
   "cell_type": "code",
   "execution_count": null,
   "id": "50f79140-8204-460d-b9b5-cf24fe55502e",
   "metadata": {},
   "outputs": [],
   "source": [
    "class Card:\n",
    "    def __init__(self,suite,rank):\n",
    "        self.suite = suite\n",
    "        self.rank = rank\n",
    "        \n",
    "    def __str__(self):\n",
    "        return self.rank + \" of \" + self.suite\n",
    "        "
   ]
  }
 ],
 "metadata": {
  "kernelspec": {
   "display_name": "Python 3 (ipykernel)",
   "language": "python",
   "name": "python3"
  },
  "language_info": {
   "codemirror_mode": {
    "name": "ipython",
    "version": 3
   },
   "file_extension": ".py",
   "mimetype": "text/x-python",
   "name": "python",
   "nbconvert_exporter": "python",
   "pygments_lexer": "ipython3",
   "version": "3.12.7"
  }
 },
 "nbformat": 4,
 "nbformat_minor": 5
}
