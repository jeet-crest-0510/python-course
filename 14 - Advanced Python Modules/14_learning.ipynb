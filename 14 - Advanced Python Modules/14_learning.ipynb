{
 "cells": [
  {
   "cell_type": "markdown",
   "id": "2fe6e66e-35a9-4d9c-80e2-10a2f5e68981",
   "metadata": {
    "jp-MarkdownHeadingCollapsed": true
   },
   "source": [
    "# Collections"
   ]
  },
  {
   "cell_type": "code",
   "execution_count": 1,
   "id": "8255d48a-7926-4a2d-93af-7f22e8bc67b9",
   "metadata": {},
   "outputs": [],
   "source": [
    "from collections import Counter"
   ]
  },
  {
   "cell_type": "code",
   "execution_count": 3,
   "id": "3cb5e1e0-0a1f-45bb-be6d-b274f2569721",
   "metadata": {},
   "outputs": [],
   "source": [
    "mylist = [1,2,3,4,1,2,3,2,1,2,1,1,4]"
   ]
  },
  {
   "cell_type": "code",
   "execution_count": 4,
   "id": "241968c4-35cb-4756-aaf0-fdf761ae61ee",
   "metadata": {},
   "outputs": [
    {
     "data": {
      "text/plain": [
       "Counter({1: 5, 2: 4, 3: 2, 4: 2})"
      ]
     },
     "execution_count": 4,
     "metadata": {},
     "output_type": "execute_result"
    }
   ],
   "source": [
    "Counter(mylist)"
   ]
  },
  {
   "cell_type": "code",
   "execution_count": 5,
   "id": "2ad72ac9-6647-454f-b2d2-8a905b32d67d",
   "metadata": {},
   "outputs": [],
   "source": [
    "s = \"aaaaabbbassscccddd\""
   ]
  },
  {
   "cell_type": "code",
   "execution_count": 7,
   "id": "fdd2917c-7c6a-47b0-b369-4e4888337a88",
   "metadata": {},
   "outputs": [
    {
     "data": {
      "text/plain": [
       "Counter({'a': 6, 'b': 3, 's': 3, 'c': 3, 'd': 3})"
      ]
     },
     "execution_count": 7,
     "metadata": {},
     "output_type": "execute_result"
    }
   ],
   "source": [
    "Counter(s)"
   ]
  },
  {
   "cell_type": "code",
   "execution_count": 11,
   "id": "0af4040e-26c0-4d7c-b354-9a3ada94a11d",
   "metadata": {},
   "outputs": [],
   "source": [
    "sen = \"Hello today is a monday. Today the weather is good\""
   ]
  },
  {
   "cell_type": "code",
   "execution_count": 13,
   "id": "15dfd10b-ab31-468e-b887-1b3a47da2a46",
   "metadata": {},
   "outputs": [
    {
     "data": {
      "text/plain": [
       "Counter({'today': 2,\n",
       "         'is': 2,\n",
       "         'hello': 1,\n",
       "         'a': 1,\n",
       "         'monday.': 1,\n",
       "         'the': 1,\n",
       "         'weather': 1,\n",
       "         'good': 1})"
      ]
     },
     "execution_count": 13,
     "metadata": {},
     "output_type": "execute_result"
    }
   ],
   "source": [
    "Counter(sen.lower().split())"
   ]
  },
  {
   "cell_type": "code",
   "execution_count": 16,
   "id": "dbde6b45-2b86-46a7-9611-6e6d54bfd174",
   "metadata": {},
   "outputs": [],
   "source": [
    "c = Counter(s)"
   ]
  },
  {
   "cell_type": "code",
   "execution_count": 17,
   "id": "be877d77-11e1-4074-8784-e5141fca136d",
   "metadata": {},
   "outputs": [
    {
     "data": {
      "text/plain": [
       "Counter({'a': 6, 'b': 3, 's': 3, 'c': 3, 'd': 3})"
      ]
     },
     "execution_count": 17,
     "metadata": {},
     "output_type": "execute_result"
    }
   ],
   "source": [
    "c"
   ]
  },
  {
   "cell_type": "code",
   "execution_count": 18,
   "id": "8db90ceb-4134-41ee-9d17-f761e6f6fa24",
   "metadata": {},
   "outputs": [
    {
     "data": {
      "text/plain": [
       "[('a', 6), ('b', 3), ('s', 3), ('c', 3), ('d', 3)]"
      ]
     },
     "execution_count": 18,
     "metadata": {},
     "output_type": "execute_result"
    }
   ],
   "source": [
    "c.most_common()"
   ]
  },
  {
   "cell_type": "code",
   "execution_count": 19,
   "id": "35cdbeac-c890-4302-9344-11094f221ab9",
   "metadata": {},
   "outputs": [
    {
     "data": {
      "text/plain": [
       "[('a', 6), ('b', 3)]"
      ]
     },
     "execution_count": 19,
     "metadata": {},
     "output_type": "execute_result"
    }
   ],
   "source": [
    "c.most_common(2)"
   ]
  },
  {
   "cell_type": "code",
   "execution_count": 20,
   "id": "1fc1fe6c-cfbd-42a5-9a1d-5fee9dbe7e49",
   "metadata": {},
   "outputs": [
    {
     "data": {
      "text/plain": [
       "['a', 'b', 's', 'c', 'd']"
      ]
     },
     "execution_count": 20,
     "metadata": {},
     "output_type": "execute_result"
    }
   ],
   "source": [
    "list(c)"
   ]
  },
  {
   "cell_type": "code",
   "execution_count": 21,
   "id": "f67d2c06-c21c-4adc-b4ba-9ab162f36189",
   "metadata": {},
   "outputs": [],
   "source": [
    "from collections import defaultdict"
   ]
  },
  {
   "cell_type": "code",
   "execution_count": 22,
   "id": "712410d0-7966-4774-aedb-71b5768a0653",
   "metadata": {},
   "outputs": [],
   "source": [
    "d = defaultdict(lambda: 5)"
   ]
  },
  {
   "cell_type": "code",
   "execution_count": 23,
   "id": "09dcb22e-bdbd-4a9b-be17-cc736416706b",
   "metadata": {},
   "outputs": [],
   "source": [
    "d['name'] = 'jeet'"
   ]
  },
  {
   "cell_type": "code",
   "execution_count": 24,
   "id": "fcc1d0fc-ca37-47d6-a973-163a0b6f8c65",
   "metadata": {},
   "outputs": [
    {
     "data": {
      "text/plain": [
       "'jeet'"
      ]
     },
     "execution_count": 24,
     "metadata": {},
     "output_type": "execute_result"
    }
   ],
   "source": [
    "d['name']"
   ]
  },
  {
   "cell_type": "code",
   "execution_count": 25,
   "id": "6e83076c-744c-41f5-a59c-a85c19df26f9",
   "metadata": {},
   "outputs": [
    {
     "data": {
      "text/plain": [
       "5"
      ]
     },
     "execution_count": 25,
     "metadata": {},
     "output_type": "execute_result"
    }
   ],
   "source": [
    "d['age']"
   ]
  },
  {
   "cell_type": "code",
   "execution_count": 26,
   "id": "e9db496c-5c23-4b1c-aef1-f71be33397ff",
   "metadata": {},
   "outputs": [],
   "source": [
    "from collections import namedtuple"
   ]
  },
  {
   "cell_type": "code",
   "execution_count": 28,
   "id": "67defa3a-3259-4d72-ae0e-164b225ed3ab",
   "metadata": {},
   "outputs": [],
   "source": [
    "Dog = namedtuple('Dog',['Age','Breed'])"
   ]
  },
  {
   "cell_type": "code",
   "execution_count": 29,
   "id": "a0b4bf4c-523a-4e8c-8640-1ea9d6b83302",
   "metadata": {},
   "outputs": [],
   "source": [
    "sammy = Dog(5,'Husky')"
   ]
  },
  {
   "cell_type": "code",
   "execution_count": 30,
   "id": "7c3f2254-33bb-48dc-b603-529c52554b9b",
   "metadata": {},
   "outputs": [
    {
     "data": {
      "text/plain": [
       "5"
      ]
     },
     "execution_count": 30,
     "metadata": {},
     "output_type": "execute_result"
    }
   ],
   "source": [
    "sammy.Age"
   ]
  },
  {
   "cell_type": "code",
   "execution_count": 31,
   "id": "951213bb-5e27-494c-92bd-3966cfde9e2d",
   "metadata": {},
   "outputs": [
    {
     "data": {
      "text/plain": [
       "5"
      ]
     },
     "execution_count": 31,
     "metadata": {},
     "output_type": "execute_result"
    }
   ],
   "source": [
    "sammy[0]"
   ]
  },
  {
   "cell_type": "code",
   "execution_count": 32,
   "id": "47c07a4b-592f-4f5f-98cf-13de97695737",
   "metadata": {},
   "outputs": [
    {
     "data": {
      "text/plain": [
       "'Husky'"
      ]
     },
     "execution_count": 32,
     "metadata": {},
     "output_type": "execute_result"
    }
   ],
   "source": [
    "sammy.Breed"
   ]
  },
  {
   "cell_type": "code",
   "execution_count": 36,
   "id": "2e77a8aa-a97a-441d-88fe-ede6aec1783d",
   "metadata": {},
   "outputs": [
    {
     "data": {
      "text/plain": [
       "1"
      ]
     },
     "execution_count": 36,
     "metadata": {},
     "output_type": "execute_result"
    }
   ],
   "source": [
    "sammy.count('Husky')"
   ]
  },
  {
   "cell_type": "code",
   "execution_count": 43,
   "id": "dcda5268-e920-488e-a01e-ee4531fe8031",
   "metadata": {},
   "outputs": [],
   "source": [
    "tuffy = Dog(Breed='Husky',Age=6)"
   ]
  },
  {
   "cell_type": "code",
   "execution_count": 44,
   "id": "12cbdbbb-89fb-4120-a983-81befa12654f",
   "metadata": {},
   "outputs": [
    {
     "data": {
      "text/plain": [
       "6"
      ]
     },
     "execution_count": 44,
     "metadata": {},
     "output_type": "execute_result"
    }
   ],
   "source": [
    "tuffy[0]"
   ]
  },
  {
   "cell_type": "code",
   "execution_count": 45,
   "id": "40ec4876-f8d8-4e8e-bf31-aa83445ddee9",
   "metadata": {},
   "outputs": [
    {
     "data": {
      "text/plain": [
       "6"
      ]
     },
     "execution_count": 45,
     "metadata": {},
     "output_type": "execute_result"
    }
   ],
   "source": [
    "tuffy.Age"
   ]
  },
  {
   "cell_type": "markdown",
   "id": "8e11d849-ec84-4bcb-ba13-d31632ff1a32",
   "metadata": {
    "jp-MarkdownHeadingCollapsed": true
   },
   "source": [
    "# Opening and reading Files and Folders"
   ]
  },
  {
   "cell_type": "code",
   "execution_count": 46,
   "id": "a5cad98f-0727-4101-a1dc-12bf1e59ea15",
   "metadata": {},
   "outputs": [
    {
     "data": {
      "text/plain": [
       "'C:\\\\Users\\\\JeetPrajapati\\\\Desktop\\\\Learning\\\\Python\\\\python-course\\\\14 - Advanced Python Modules'"
      ]
     },
     "execution_count": 46,
     "metadata": {},
     "output_type": "execute_result"
    }
   ],
   "source": [
    "pwd"
   ]
  },
  {
   "cell_type": "code",
   "execution_count": 47,
   "id": "32cc0701-7f03-467b-bb14-0c5d8fd0fe72",
   "metadata": {},
   "outputs": [],
   "source": [
    "f = open(\"practice.txt\",\"w+\")\n",
    "f.write(\"This is a test file\")\n",
    "f.close()"
   ]
  },
  {
   "cell_type": "code",
   "execution_count": 49,
   "id": "f2d8dc90-9abf-44ff-93b8-aab125d4d96c",
   "metadata": {},
   "outputs": [
    {
     "name": "stdout",
     "output_type": "stream",
     "text": [
      " Volume in drive C has no label.\n",
      " Volume Serial Number is 5ABE-8BFA\n",
      "\n",
      " Directory of C:\\Users\\JeetPrajapati\\Desktop\\Learning\\Python\\python-course\\14 - Advanced Python Modules\n",
      "\n",
      "30-12-2024  14:22    <DIR>          .\n",
      "30-12-2024  14:22    <DIR>          ..\n",
      "30-12-2024  13:47    <DIR>          .ipynb_checkpoints\n",
      "30-12-2024  14:20             9,579 14_learning.ipynb\n",
      "30-12-2024  14:22                19 practice.txt\n",
      "               2 File(s)          9,598 bytes\n",
      "               3 Dir(s)  139,944,546,304 bytes free\n"
     ]
    }
   ],
   "source": [
    "ls"
   ]
  },
  {
   "cell_type": "code",
   "execution_count": 50,
   "id": "c6879b8a-ec4c-4f21-8b03-425c8f655929",
   "metadata": {},
   "outputs": [],
   "source": [
    "import os"
   ]
  },
  {
   "cell_type": "code",
   "execution_count": 53,
   "id": "a84ef7b5-c4fd-4615-82d1-4092636f0ca1",
   "metadata": {},
   "outputs": [
    {
     "data": {
      "text/plain": [
       "'C:\\\\Users\\\\JeetPrajapati\\\\Desktop\\\\Learning\\\\Python\\\\python-course\\\\14 - Advanced Python Modules'"
      ]
     },
     "execution_count": 53,
     "metadata": {},
     "output_type": "execute_result"
    }
   ],
   "source": [
    "os.getcwd()"
   ]
  },
  {
   "cell_type": "code",
   "execution_count": 54,
   "id": "c80a31e0-6b17-4c10-a1cf-d6eab563e72c",
   "metadata": {},
   "outputs": [
    {
     "data": {
      "text/plain": [
       "['.ipynb_checkpoints', '14_learning.ipynb', 'practice.txt']"
      ]
     },
     "execution_count": 54,
     "metadata": {},
     "output_type": "execute_result"
    }
   ],
   "source": [
    "os.listdir()"
   ]
  },
  {
   "cell_type": "code",
   "execution_count": 57,
   "id": "7bc69a74-daa4-48a5-b9a8-d9d140e488e7",
   "metadata": {},
   "outputs": [
    {
     "data": {
      "text/plain": [
       "['.git',\n",
       " '.ipynb_checkpoints',\n",
       " '10 - Errors and Exceptions Handling',\n",
       " '11 - Milestone Project 2',\n",
       " '12 - Python Decorators',\n",
       " '13 - Python Generators',\n",
       " '14 - Advanced Python Modules',\n",
       " '3 - Python Object and Data Structure Basics',\n",
       " '4 - Python Comparison Operators',\n",
       " '5 - Python Statements',\n",
       " '6 - Methods and Functions',\n",
       " '7 - Milestone Project - 1',\n",
       " '8 - Object Oriented Programming',\n",
       " 'README.md']"
      ]
     },
     "execution_count": 57,
     "metadata": {},
     "output_type": "execute_result"
    }
   ],
   "source": [
    "os.listdir('C:\\\\Users\\\\JeetPrajapati\\\\Desktop\\\\Learning\\\\Python\\\\python-course')"
   ]
  },
  {
   "cell_type": "code",
   "execution_count": 58,
   "id": "150fa003-6f01-4e56-99ac-51175f62681f",
   "metadata": {},
   "outputs": [],
   "source": [
    "import shutil"
   ]
  },
  {
   "cell_type": "code",
   "execution_count": 59,
   "id": "5964d7e2-f266-4f64-beb5-6c32c0b6e228",
   "metadata": {},
   "outputs": [
    {
     "data": {
      "text/plain": [
       "'C:\\\\Users\\\\JeetPrajapati\\\\Desktop\\\\Learning\\\\Python\\\\python-course\\\\practice.txt'"
      ]
     },
     "execution_count": 59,
     "metadata": {},
     "output_type": "execute_result"
    }
   ],
   "source": [
    "shutil.move('practice.txt', 'C:\\\\Users\\\\JeetPrajapati\\\\Desktop\\\\Learning\\\\Python\\\\python-course')"
   ]
  },
  {
   "cell_type": "code",
   "execution_count": 60,
   "id": "d2332bbd-86c2-47e5-b1de-7fe33dfece61",
   "metadata": {},
   "outputs": [
    {
     "data": {
      "text/plain": [
       "['.git',\n",
       " '.ipynb_checkpoints',\n",
       " '10 - Errors and Exceptions Handling',\n",
       " '11 - Milestone Project 2',\n",
       " '12 - Python Decorators',\n",
       " '13 - Python Generators',\n",
       " '14 - Advanced Python Modules',\n",
       " '3 - Python Object and Data Structure Basics',\n",
       " '4 - Python Comparison Operators',\n",
       " '5 - Python Statements',\n",
       " '6 - Methods and Functions',\n",
       " '7 - Milestone Project - 1',\n",
       " '8 - Object Oriented Programming',\n",
       " 'practice.txt',\n",
       " 'README.md']"
      ]
     },
     "execution_count": 60,
     "metadata": {},
     "output_type": "execute_result"
    }
   ],
   "source": [
    "os.listdir('C:\\\\Users\\\\JeetPrajapati\\\\Desktop\\\\Learning\\\\Python\\\\python-course')"
   ]
  },
  {
   "cell_type": "code",
   "execution_count": 62,
   "id": "2b852d9e-5084-4b0a-8475-5ca37d0b9529",
   "metadata": {},
   "outputs": [
    {
     "data": {
      "text/plain": [
       "'C:\\\\Users\\\\JeetPrajapati\\\\Desktop\\\\Learning\\\\Python\\\\python-course\\\\14 - Advanced Python Modules\\\\practice.txt'"
      ]
     },
     "execution_count": 62,
     "metadata": {},
     "output_type": "execute_result"
    }
   ],
   "source": [
    "shutil.move( 'C:\\\\Users\\\\JeetPrajapati\\\\Desktop\\\\Learning\\\\Python\\\\python-course\\\\practice.txt', 'C:\\\\Users\\\\JeetPrajapati\\\\Desktop\\\\Learning\\\\Python\\\\python-course\\\\14 - Advanced Python Modules'\n",
    ")"
   ]
  },
  {
   "cell_type": "code",
   "execution_count": 63,
   "id": "0e6c1366-77df-4b39-b1b8-94644f4429ee",
   "metadata": {},
   "outputs": [],
   "source": [
    "import send2trash"
   ]
  },
  {
   "cell_type": "code",
   "execution_count": 64,
   "id": "4a973bb5-fc09-4afd-a926-3f55c87be43e",
   "metadata": {},
   "outputs": [
    {
     "data": {
      "text/plain": [
       "['.ipynb_checkpoints', '14_learning.ipynb', 'practice.txt']"
      ]
     },
     "execution_count": 64,
     "metadata": {},
     "output_type": "execute_result"
    }
   ],
   "source": [
    "os.listdir()"
   ]
  },
  {
   "cell_type": "code",
   "execution_count": 65,
   "id": "9dd0651f-1aa2-4e22-8c37-1c64392f6669",
   "metadata": {},
   "outputs": [],
   "source": [
    "send2trash.send2trash('practice.txt')"
   ]
  },
  {
   "cell_type": "code",
   "execution_count": 66,
   "id": "2bcb653f-2170-4628-9f09-40f7c279dac7",
   "metadata": {},
   "outputs": [
    {
     "data": {
      "text/plain": [
       "['.ipynb_checkpoints', '14_learning.ipynb']"
      ]
     },
     "execution_count": 66,
     "metadata": {},
     "output_type": "execute_result"
    }
   ],
   "source": [
    "os.listdir()"
   ]
  },
  {
   "cell_type": "code",
   "execution_count": 67,
   "id": "ce41d042-0e44-4975-b0cc-22ea3e6332ec",
   "metadata": {},
   "outputs": [
    {
     "data": {
      "text/plain": [
       "['.ipynb_checkpoints', '14_learning.ipynb', 'practice.txt']"
      ]
     },
     "execution_count": 67,
     "metadata": {},
     "output_type": "execute_result"
    }
   ],
   "source": [
    "os.listdir()"
   ]
  },
  {
   "cell_type": "code",
   "execution_count": 68,
   "id": "79c1c5f5-a069-4f65-b9d0-20ddb71d5003",
   "metadata": {},
   "outputs": [],
   "source": [
    "path = \"C:\\\\Users\\\\JeetPrajapati\\\\Desktop\\\\Learning\\\\Python\\\\python-course\""
   ]
  },
  {
   "cell_type": "code",
   "execution_count": 71,
   "id": "bd1e274f-0308-49cf-925c-869c7fc77189",
   "metadata": {},
   "outputs": [
    {
     "name": "stdout",
     "output_type": "stream",
     "text": [
      "Currently looking at C:\\Users\\JeetPrajapati\\Desktop\\Learning\\Python\\python-course\n",
      "\n",
      "\n",
      "The subfolders are: \n",
      "Subfolder: .git\n",
      "Subfolder: .ipynb_checkpoints\n",
      "Subfolder: 10 - Errors and Exceptions Handling\n",
      "Subfolder: 11 - Milestone Project 2\n",
      "Subfolder: 12 - Python Decorators\n",
      "Subfolder: 13 - Python Generators\n",
      "Subfolder: 14 - Advanced Python Modules\n",
      "Subfolder: 3 - Python Object and Data Structure Basics\n",
      "Subfolder: 4 - Python Comparison Operators\n",
      "Subfolder: 5 - Python Statements\n",
      "Subfolder: 6 - Methods and Functions\n",
      "Subfolder: 7 - Milestone Project - 1\n",
      "Subfolder: 8 - Object Oriented Programming\n",
      "\n",
      "\n",
      "The Files are:\n",
      "File: README.md\n",
      "Currently looking at C:\\Users\\JeetPrajapati\\Desktop\\Learning\\Python\\python-course\\.git\n",
      "\n",
      "\n",
      "The subfolders are: \n",
      "Subfolder: hooks\n",
      "Subfolder: info\n",
      "Subfolder: logs\n",
      "Subfolder: objects\n",
      "Subfolder: refs\n",
      "\n",
      "\n",
      "The Files are:\n",
      "File: COMMIT_EDITMSG\n",
      "File: config\n",
      "File: description\n",
      "File: FETCH_HEAD\n",
      "File: HEAD\n",
      "File: index\n",
      "File: ORIG_HEAD\n",
      "File: packed-refs\n",
      "Currently looking at C:\\Users\\JeetPrajapati\\Desktop\\Learning\\Python\\python-course\\.git\\hooks\n",
      "\n",
      "\n",
      "The subfolders are: \n",
      "\n",
      "\n",
      "The Files are:\n",
      "File: applypatch-msg.sample\n",
      "File: commit-msg.sample\n",
      "File: fsmonitor-watchman.sample\n",
      "File: post-update.sample\n",
      "File: pre-applypatch.sample\n",
      "File: pre-commit.sample\n",
      "File: pre-merge-commit.sample\n",
      "File: pre-push.sample\n",
      "File: pre-rebase.sample\n",
      "File: pre-receive.sample\n",
      "File: prepare-commit-msg.sample\n",
      "File: push-to-checkout.sample\n",
      "File: sendemail-validate.sample\n",
      "File: update.sample\n",
      "Currently looking at C:\\Users\\JeetPrajapati\\Desktop\\Learning\\Python\\python-course\\.git\\info\n",
      "\n",
      "\n",
      "The subfolders are: \n",
      "\n",
      "\n",
      "The Files are:\n",
      "File: exclude\n",
      "Currently looking at C:\\Users\\JeetPrajapati\\Desktop\\Learning\\Python\\python-course\\.git\\logs\n",
      "\n",
      "\n",
      "The subfolders are: \n",
      "Subfolder: refs\n",
      "\n",
      "\n",
      "The Files are:\n",
      "File: HEAD\n",
      "Currently looking at C:\\Users\\JeetPrajapati\\Desktop\\Learning\\Python\\python-course\\.git\\logs\\refs\n",
      "\n",
      "\n",
      "The subfolders are: \n",
      "Subfolder: heads\n",
      "Subfolder: remotes\n",
      "\n",
      "\n",
      "The Files are:\n",
      "Currently looking at C:\\Users\\JeetPrajapati\\Desktop\\Learning\\Python\\python-course\\.git\\logs\\refs\\heads\n",
      "\n",
      "\n",
      "The subfolders are: \n",
      "\n",
      "\n",
      "The Files are:\n",
      "File: main\n",
      "Currently looking at C:\\Users\\JeetPrajapati\\Desktop\\Learning\\Python\\python-course\\.git\\logs\\refs\\remotes\n",
      "\n",
      "\n",
      "The subfolders are: \n",
      "Subfolder: origin\n",
      "\n",
      "\n",
      "The Files are:\n",
      "Currently looking at C:\\Users\\JeetPrajapati\\Desktop\\Learning\\Python\\python-course\\.git\\logs\\refs\\remotes\\origin\n",
      "\n",
      "\n",
      "The subfolders are: \n",
      "\n",
      "\n",
      "The Files are:\n",
      "File: HEAD\n",
      "File: main\n",
      "Currently looking at C:\\Users\\JeetPrajapati\\Desktop\\Learning\\Python\\python-course\\.git\\objects\n",
      "\n",
      "\n",
      "The subfolders are: \n",
      "Subfolder: 00\n",
      "Subfolder: 02\n",
      "Subfolder: 03\n",
      "Subfolder: 04\n",
      "Subfolder: 05\n",
      "Subfolder: 09\n",
      "Subfolder: 0a\n",
      "Subfolder: 0e\n",
      "Subfolder: 10\n",
      "Subfolder: 13\n",
      "Subfolder: 15\n",
      "Subfolder: 16\n",
      "Subfolder: 19\n",
      "Subfolder: 1c\n",
      "Subfolder: 1d\n",
      "Subfolder: 1e\n",
      "Subfolder: 1f\n",
      "Subfolder: 20\n",
      "Subfolder: 22\n",
      "Subfolder: 25\n",
      "Subfolder: 26\n",
      "Subfolder: 2b\n",
      "Subfolder: 2d\n",
      "Subfolder: 2e\n",
      "Subfolder: 32\n",
      "Subfolder: 36\n",
      "Subfolder: 38\n",
      "Subfolder: 39\n",
      "Subfolder: 3a\n",
      "Subfolder: 3d\n",
      "Subfolder: 41\n",
      "Subfolder: 42\n",
      "Subfolder: 44\n",
      "Subfolder: 47\n",
      "Subfolder: 48\n",
      "Subfolder: 49\n",
      "Subfolder: 4a\n",
      "Subfolder: 4c\n",
      "Subfolder: 4e\n",
      "Subfolder: 4f\n",
      "Subfolder: 50\n",
      "Subfolder: 5b\n",
      "Subfolder: 5e\n",
      "Subfolder: 60\n",
      "Subfolder: 61\n",
      "Subfolder: 66\n",
      "Subfolder: 68\n",
      "Subfolder: 6b\n",
      "Subfolder: 6c\n",
      "Subfolder: 71\n",
      "Subfolder: 72\n",
      "Subfolder: 74\n",
      "Subfolder: 75\n",
      "Subfolder: 78\n",
      "Subfolder: 7a\n",
      "Subfolder: 7b\n",
      "Subfolder: 7e\n",
      "Subfolder: 7f\n",
      "Subfolder: 86\n",
      "Subfolder: 87\n",
      "Subfolder: 88\n",
      "Subfolder: 89\n",
      "Subfolder: 8b\n",
      "Subfolder: 8e\n",
      "Subfolder: 8f\n",
      "Subfolder: 91\n",
      "Subfolder: 96\n",
      "Subfolder: 99\n",
      "Subfolder: 9d\n",
      "Subfolder: 9f\n",
      "Subfolder: a1\n",
      "Subfolder: a3\n",
      "Subfolder: a4\n",
      "Subfolder: a6\n",
      "Subfolder: a8\n",
      "Subfolder: ac\n",
      "Subfolder: ad\n",
      "Subfolder: ae\n",
      "Subfolder: b3\n",
      "Subfolder: b8\n",
      "Subfolder: bb\n",
      "Subfolder: bc\n",
      "Subfolder: c0\n",
      "Subfolder: c2\n",
      "Subfolder: c3\n",
      "Subfolder: c5\n",
      "Subfolder: c6\n",
      "Subfolder: c8\n",
      "Subfolder: cb\n",
      "Subfolder: cc\n",
      "Subfolder: ce\n",
      "Subfolder: cf\n",
      "Subfolder: d5\n",
      "Subfolder: d6\n",
      "Subfolder: dc\n",
      "Subfolder: df\n",
      "Subfolder: e1\n",
      "Subfolder: e2\n",
      "Subfolder: e6\n",
      "Subfolder: e7\n",
      "Subfolder: ea\n",
      "Subfolder: ec\n",
      "Subfolder: ed\n",
      "Subfolder: ee\n",
      "Subfolder: f0\n",
      "Subfolder: f1\n",
      "Subfolder: f8\n",
      "Subfolder: f9\n",
      "Subfolder: fa\n",
      "Subfolder: fb\n",
      "Subfolder: info\n",
      "Subfolder: pack\n",
      "\n",
      "\n",
      "The Files are:\n",
      "Currently looking at C:\\Users\\JeetPrajapati\\Desktop\\Learning\\Python\\python-course\\.git\\objects\\00\n",
      "\n",
      "\n",
      "The subfolders are: \n",
      "\n",
      "\n",
      "The Files are:\n",
      "File: 3f3245a5a5f94582fc64ad0aaad8b956158e2d\n",
      "Currently looking at C:\\Users\\JeetPrajapati\\Desktop\\Learning\\Python\\python-course\\.git\\objects\\02\n",
      "\n",
      "\n",
      "The subfolders are: \n",
      "\n",
      "\n",
      "The Files are:\n",
      "File: d53cb3d6b114c7f230bcefb0efaa31ff7c82e6\n",
      "Currently looking at C:\\Users\\JeetPrajapati\\Desktop\\Learning\\Python\\python-course\\.git\\objects\\03\n",
      "\n",
      "\n",
      "The subfolders are: \n",
      "\n",
      "\n",
      "The Files are:\n",
      "File: 3d33bb0966b2cbb531f868d5ec5fe521a3e2df\n",
      "File: a622d48e48dc55cc750cecda68eef6d6956be7\n",
      "Currently looking at C:\\Users\\JeetPrajapati\\Desktop\\Learning\\Python\\python-course\\.git\\objects\\04\n",
      "\n",
      "\n",
      "The subfolders are: \n",
      "\n",
      "\n",
      "The Files are:\n",
      "File: 1564694854df1f7eaee2276ccb6047d25c08f5\n",
      "File: 976a55431100a742af6d8b2e3ce9d1c31d6ae2\n",
      "Currently looking at C:\\Users\\JeetPrajapati\\Desktop\\Learning\\Python\\python-course\\.git\\objects\\05\n",
      "\n",
      "\n",
      "The subfolders are: \n",
      "\n",
      "\n",
      "The Files are:\n",
      "File: b8792a9356196691e63100f4b968cd94a0797b\n",
      "Currently looking at C:\\Users\\JeetPrajapati\\Desktop\\Learning\\Python\\python-course\\.git\\objects\\09\n",
      "\n",
      "\n",
      "The subfolders are: \n",
      "\n",
      "\n",
      "The Files are:\n",
      "File: b62e471ddd9ee873b7f9678b232f4e1c7d390b\n",
      "Currently looking at C:\\Users\\JeetPrajapati\\Desktop\\Learning\\Python\\python-course\\.git\\objects\\0a\n",
      "\n",
      "\n",
      "The subfolders are: \n",
      "\n",
      "\n",
      "The Files are:\n",
      "File: c1182b59b9aa0583926012e15f2be92559d4d0\n",
      "Currently looking at C:\\Users\\JeetPrajapati\\Desktop\\Learning\\Python\\python-course\\.git\\objects\\0e\n",
      "\n",
      "\n",
      "The subfolders are: \n",
      "\n",
      "\n",
      "The Files are:\n",
      "File: 53dbf9eebcd7ea2979f87a43ce114d405fed19\n",
      "Currently looking at C:\\Users\\JeetPrajapati\\Desktop\\Learning\\Python\\python-course\\.git\\objects\\10\n",
      "\n",
      "\n",
      "The subfolders are: \n",
      "\n",
      "\n",
      "The Files are:\n",
      "File: 3097e61e91834b2ee15a8b27bd91323f47b843\n",
      "File: 806cd8007c91eda676ece95aef4db4230d9633\n",
      "Currently looking at C:\\Users\\JeetPrajapati\\Desktop\\Learning\\Python\\python-course\\.git\\objects\\13\n",
      "\n",
      "\n",
      "The subfolders are: \n",
      "\n",
      "\n",
      "The Files are:\n",
      "File: 98a979e5a73894d204f10cffd8dbd3617022c6\n",
      "Currently looking at C:\\Users\\JeetPrajapati\\Desktop\\Learning\\Python\\python-course\\.git\\objects\\15\n",
      "\n",
      "\n",
      "The subfolders are: \n",
      "\n",
      "\n",
      "The Files are:\n",
      "File: 5af23365f37660ae10830149fe4f3bbc851f80\n",
      "Currently looking at C:\\Users\\JeetPrajapati\\Desktop\\Learning\\Python\\python-course\\.git\\objects\\16\n",
      "\n",
      "\n",
      "The subfolders are: \n",
      "\n",
      "\n",
      "The Files are:\n",
      "File: 0f7f2cb856fed2a1e503303a525b9d79922a36\n",
      "File: 4cd6e33e393ca31fee96202994f66a78ac3a5b\n",
      "File: 7b7c1188431537c60dfdfb1fc12d53896a7d01\n",
      "File: d1e686fd0b1c24b1bf074969936165bb0d3916\n",
      "Currently looking at C:\\Users\\JeetPrajapati\\Desktop\\Learning\\Python\\python-course\\.git\\objects\\19\n",
      "\n",
      "\n",
      "The subfolders are: \n",
      "\n",
      "\n",
      "The Files are:\n",
      "File: d572f24ce27d46cd01f0b76ead2e7cfbe159a4\n",
      "Currently looking at C:\\Users\\JeetPrajapati\\Desktop\\Learning\\Python\\python-course\\.git\\objects\\1c\n",
      "\n",
      "\n",
      "The subfolders are: \n",
      "\n",
      "\n",
      "The Files are:\n",
      "File: 87ad4cabfbd042cc2325de66474141af063007\n",
      "File: edb88b1601cbab7e944b5602cc47cf70b1e8e6\n",
      "Currently looking at C:\\Users\\JeetPrajapati\\Desktop\\Learning\\Python\\python-course\\.git\\objects\\1d\n",
      "\n",
      "\n",
      "The subfolders are: \n",
      "\n",
      "\n",
      "The Files are:\n",
      "File: 201a241b923859978ac2cbbaa9da3bb8683c0b\n",
      "Currently looking at C:\\Users\\JeetPrajapati\\Desktop\\Learning\\Python\\python-course\\.git\\objects\\1e\n",
      "\n",
      "\n",
      "The subfolders are: \n",
      "\n",
      "\n",
      "The Files are:\n",
      "File: 4c673c3494da55c841958eb089095dc358a184\n",
      "Currently looking at C:\\Users\\JeetPrajapati\\Desktop\\Learning\\Python\\python-course\\.git\\objects\\1f\n",
      "\n",
      "\n",
      "The subfolders are: \n",
      "\n",
      "\n",
      "The Files are:\n",
      "File: a436ed9287d1fcacd6c598b49e1b613dbb298f\n",
      "Currently looking at C:\\Users\\JeetPrajapati\\Desktop\\Learning\\Python\\python-course\\.git\\objects\\20\n",
      "\n",
      "\n",
      "The subfolders are: \n",
      "\n",
      "\n",
      "The Files are:\n",
      "File: 1c28dbfc7fa21ed51f2b075c7260ed2d6fc7d5\n",
      "File: 4afb11985dccd27db684078590eba22d2d03bd\n",
      "Currently looking at C:\\Users\\JeetPrajapati\\Desktop\\Learning\\Python\\python-course\\.git\\objects\\22\n",
      "\n",
      "\n",
      "The subfolders are: \n",
      "\n",
      "\n",
      "The Files are:\n",
      "File: 3fdac320e46e708c9d5ce869a22cc87d3ca4a8\n",
      "Currently looking at C:\\Users\\JeetPrajapati\\Desktop\\Learning\\Python\\python-course\\.git\\objects\\25\n",
      "\n",
      "\n",
      "The subfolders are: \n",
      "\n",
      "\n",
      "The Files are:\n",
      "File: af8042218678f1bbba17ac298e17aa3d66cf96\n",
      "Currently looking at C:\\Users\\JeetPrajapati\\Desktop\\Learning\\Python\\python-course\\.git\\objects\\26\n",
      "\n",
      "\n",
      "The subfolders are: \n",
      "\n",
      "\n",
      "The Files are:\n",
      "File: 092a887ece7e6c358b29f00b577270bffe14ce\n",
      "Currently looking at C:\\Users\\JeetPrajapati\\Desktop\\Learning\\Python\\python-course\\.git\\objects\\2b\n",
      "\n",
      "\n",
      "The subfolders are: \n",
      "\n",
      "\n",
      "The Files are:\n",
      "File: c288b080033d6656525ef20f79ac385cede1c6\n",
      "Currently looking at C:\\Users\\JeetPrajapati\\Desktop\\Learning\\Python\\python-course\\.git\\objects\\2d\n",
      "\n",
      "\n",
      "The subfolders are: \n",
      "\n",
      "\n",
      "The Files are:\n",
      "File: 9206240cf1242ec412554f0f5537ec296280a5\n",
      "Currently looking at C:\\Users\\JeetPrajapati\\Desktop\\Learning\\Python\\python-course\\.git\\objects\\2e\n",
      "\n",
      "\n",
      "The subfolders are: \n",
      "\n",
      "\n",
      "The Files are:\n",
      "File: b15100596febfbfa712f0fbace7535b6e2b67c\n",
      "Currently looking at C:\\Users\\JeetPrajapati\\Desktop\\Learning\\Python\\python-course\\.git\\objects\\32\n",
      "\n",
      "\n",
      "The subfolders are: \n",
      "\n",
      "\n",
      "The Files are:\n",
      "File: 6347ec262778615da73f50681f70dec2fa9cb5\n",
      "Currently looking at C:\\Users\\JeetPrajapati\\Desktop\\Learning\\Python\\python-course\\.git\\objects\\36\n",
      "\n",
      "\n",
      "The subfolders are: \n",
      "\n",
      "\n",
      "The Files are:\n",
      "File: 3fcab7ed6e9634e198cf5555ceb88932c9a245\n",
      "Currently looking at C:\\Users\\JeetPrajapati\\Desktop\\Learning\\Python\\python-course\\.git\\objects\\38\n",
      "\n",
      "\n",
      "The subfolders are: \n",
      "\n",
      "\n",
      "The Files are:\n",
      "File: 247529539208d0f3fc3d02249348be2253bf6b\n",
      "Currently looking at C:\\Users\\JeetPrajapati\\Desktop\\Learning\\Python\\python-course\\.git\\objects\\39\n",
      "\n",
      "\n",
      "The subfolders are: \n",
      "\n",
      "\n",
      "The Files are:\n",
      "File: 0f396c8a6ea45ef42b7fb136887e02ffc0cfb5\n",
      "Currently looking at C:\\Users\\JeetPrajapati\\Desktop\\Learning\\Python\\python-course\\.git\\objects\\3a\n",
      "\n",
      "\n",
      "The subfolders are: \n",
      "\n",
      "\n",
      "The Files are:\n",
      "File: 92fa250bfcec464e9847849bce484a4343a386\n",
      "Currently looking at C:\\Users\\JeetPrajapati\\Desktop\\Learning\\Python\\python-course\\.git\\objects\\3d\n",
      "\n",
      "\n",
      "The subfolders are: \n",
      "\n",
      "\n",
      "The Files are:\n",
      "File: ebaca5d09764d59073577a1f81f5d229c519dd\n",
      "Currently looking at C:\\Users\\JeetPrajapati\\Desktop\\Learning\\Python\\python-course\\.git\\objects\\41\n",
      "\n",
      "\n",
      "The subfolders are: \n",
      "\n",
      "\n",
      "The Files are:\n",
      "File: 9d37ba3bf88996aef9e03a73e5262e911ffb3a\n",
      "Currently looking at C:\\Users\\JeetPrajapati\\Desktop\\Learning\\Python\\python-course\\.git\\objects\\42\n",
      "\n",
      "\n",
      "The subfolders are: \n",
      "\n",
      "\n",
      "The Files are:\n",
      "File: ce8bead5569e9f9d4aff53583e751f49e84099\n",
      "Currently looking at C:\\Users\\JeetPrajapati\\Desktop\\Learning\\Python\\python-course\\.git\\objects\\44\n",
      "\n",
      "\n",
      "The subfolders are: \n",
      "\n",
      "\n",
      "The Files are:\n",
      "File: 657778a91d51a4ce6a21b3792f24707811856a\n",
      "Currently looking at C:\\Users\\JeetPrajapati\\Desktop\\Learning\\Python\\python-course\\.git\\objects\\47\n",
      "\n",
      "\n",
      "The subfolders are: \n",
      "\n",
      "\n",
      "The Files are:\n",
      "File: cd5a30881645ac67fac38b0b9a2db800680f7d\n",
      "Currently looking at C:\\Users\\JeetPrajapati\\Desktop\\Learning\\Python\\python-course\\.git\\objects\\48\n",
      "\n",
      "\n",
      "The subfolders are: \n",
      "\n",
      "\n",
      "The Files are:\n",
      "File: 13c38f3f87bb82f1658c6b9cbae8cd759c55db\n",
      "Currently looking at C:\\Users\\JeetPrajapati\\Desktop\\Learning\\Python\\python-course\\.git\\objects\\49\n",
      "\n",
      "\n",
      "The subfolders are: \n",
      "\n",
      "\n",
      "The Files are:\n",
      "File: da4c69116c9f64b196b31d2478baf7c8ead228\n",
      "Currently looking at C:\\Users\\JeetPrajapati\\Desktop\\Learning\\Python\\python-course\\.git\\objects\\4a\n",
      "\n",
      "\n",
      "The subfolders are: \n",
      "\n",
      "\n",
      "The Files are:\n",
      "File: 16d7019a7e46221dc7f1d0489f424b8be08499\n",
      "File: 5b48ef86dafc50a4eb0c668395b801f2995a52\n",
      "Currently looking at C:\\Users\\JeetPrajapati\\Desktop\\Learning\\Python\\python-course\\.git\\objects\\4c\n",
      "\n",
      "\n",
      "The subfolders are: \n",
      "\n",
      "\n",
      "The Files are:\n",
      "File: 01040c9cc83f21726e866604946049a820cad5\n",
      "Currently looking at C:\\Users\\JeetPrajapati\\Desktop\\Learning\\Python\\python-course\\.git\\objects\\4e\n",
      "\n",
      "\n",
      "The subfolders are: \n",
      "\n",
      "\n",
      "The Files are:\n",
      "File: 894e165754e433ce2afe5583324b476a76b250\n",
      "Currently looking at C:\\Users\\JeetPrajapati\\Desktop\\Learning\\Python\\python-course\\.git\\objects\\4f\n",
      "\n",
      "\n",
      "The subfolders are: \n",
      "\n",
      "\n",
      "The Files are:\n",
      "File: 8c22bfc971e743f6d4d909059333443410ef1e\n",
      "Currently looking at C:\\Users\\JeetPrajapati\\Desktop\\Learning\\Python\\python-course\\.git\\objects\\50\n",
      "\n",
      "\n",
      "The subfolders are: \n",
      "\n",
      "\n",
      "The Files are:\n",
      "File: 1b82dc838deecf4b4a2a340354437b57fb50d3\n",
      "Currently looking at C:\\Users\\JeetPrajapati\\Desktop\\Learning\\Python\\python-course\\.git\\objects\\5b\n",
      "\n",
      "\n",
      "The subfolders are: \n",
      "\n",
      "\n",
      "The Files are:\n",
      "File: 045aafeb3684037ef1f56c9cfbc3a15374b12a\n",
      "File: 8a67502778ae4247d253f8cb29d201060a794d\n",
      "Currently looking at C:\\Users\\JeetPrajapati\\Desktop\\Learning\\Python\\python-course\\.git\\objects\\5e\n",
      "\n",
      "\n",
      "The subfolders are: \n",
      "\n",
      "\n",
      "The Files are:\n",
      "File: c8327012e10671add3149919b5c2f95f72f611\n",
      "Currently looking at C:\\Users\\JeetPrajapati\\Desktop\\Learning\\Python\\python-course\\.git\\objects\\60\n",
      "\n",
      "\n",
      "The subfolders are: \n",
      "\n",
      "\n",
      "The Files are:\n",
      "File: 6ff36eb98ffa463873fd7bca50658b835ab0dd\n",
      "Currently looking at C:\\Users\\JeetPrajapati\\Desktop\\Learning\\Python\\python-course\\.git\\objects\\61\n",
      "\n",
      "\n",
      "The subfolders are: \n",
      "\n",
      "\n",
      "The Files are:\n",
      "File: c2bc2691eaceaf97c8fb895d24cc7443c3d4fd\n",
      "Currently looking at C:\\Users\\JeetPrajapati\\Desktop\\Learning\\Python\\python-course\\.git\\objects\\66\n",
      "\n",
      "\n",
      "The subfolders are: \n",
      "\n",
      "\n",
      "The Files are:\n",
      "File: 443b17be1b337acbc14de7fca34ac884909fa8\n",
      "File: c7e0d56a29c2003788ed7866e31448aa47e74e\n",
      "Currently looking at C:\\Users\\JeetPrajapati\\Desktop\\Learning\\Python\\python-course\\.git\\objects\\68\n",
      "\n",
      "\n",
      "The subfolders are: \n",
      "\n",
      "\n",
      "The Files are:\n",
      "File: 37c08a76758ee90bbb888239be0f14e5e78a01\n",
      "Currently looking at C:\\Users\\JeetPrajapati\\Desktop\\Learning\\Python\\python-course\\.git\\objects\\6b\n",
      "\n",
      "\n",
      "The subfolders are: \n",
      "\n",
      "\n",
      "The Files are:\n",
      "File: 49815bc1d7c99052450dbcd6f2d0e0b5f899b4\n",
      "File: 94d5182c62441e915fe5d2bfa23a4f5fb8d6d5\n",
      "Currently looking at C:\\Users\\JeetPrajapati\\Desktop\\Learning\\Python\\python-course\\.git\\objects\\6c\n",
      "\n",
      "\n",
      "The subfolders are: \n",
      "\n",
      "\n",
      "The Files are:\n",
      "File: 4d007e006e42742fbf63c4836d6cf79bdfd1d5\n",
      "Currently looking at C:\\Users\\JeetPrajapati\\Desktop\\Learning\\Python\\python-course\\.git\\objects\\71\n",
      "\n",
      "\n",
      "The subfolders are: \n",
      "\n",
      "\n",
      "The Files are:\n",
      "File: 4b03c33e55b0d02026b045030a7fc48bf4ddfe\n",
      "File: 631619470fe9ac47d17aa4d227555daf0e5e0e\n",
      "Currently looking at C:\\Users\\JeetPrajapati\\Desktop\\Learning\\Python\\python-course\\.git\\objects\\72\n",
      "\n",
      "\n",
      "The subfolders are: \n",
      "\n",
      "\n",
      "The Files are:\n",
      "File: 18899f1e10df634005cbf4cea86a8eb28f49f0\n",
      "Currently looking at C:\\Users\\JeetPrajapati\\Desktop\\Learning\\Python\\python-course\\.git\\objects\\74\n",
      "\n",
      "\n",
      "The subfolders are: \n",
      "\n",
      "\n",
      "The Files are:\n",
      "File: b523cedba1eda8e40177a3b459a5aa0f0ebe62\n",
      "Currently looking at C:\\Users\\JeetPrajapati\\Desktop\\Learning\\Python\\python-course\\.git\\objects\\75\n",
      "\n",
      "\n",
      "The subfolders are: \n",
      "\n",
      "\n",
      "The Files are:\n",
      "File: 7928431f9e16124d2aea053597cd6e971795fc\n",
      "File: be6071173ec5a40efe2621e7b9ce79445b5727\n",
      "Currently looking at C:\\Users\\JeetPrajapati\\Desktop\\Learning\\Python\\python-course\\.git\\objects\\78\n",
      "\n",
      "\n",
      "The subfolders are: \n",
      "\n",
      "\n",
      "The Files are:\n",
      "File: d32c49031a64ae515435bff1db2bb154609612\n",
      "Currently looking at C:\\Users\\JeetPrajapati\\Desktop\\Learning\\Python\\python-course\\.git\\objects\\7a\n",
      "\n",
      "\n",
      "The subfolders are: \n",
      "\n",
      "\n",
      "The Files are:\n",
      "File: e817d081d9b0c18ace96e3f24fd1ae0284ec9e\n",
      "Currently looking at C:\\Users\\JeetPrajapati\\Desktop\\Learning\\Python\\python-course\\.git\\objects\\7b\n",
      "\n",
      "\n",
      "The subfolders are: \n",
      "\n",
      "\n",
      "The Files are:\n",
      "File: 4f37e3fe0816222eb3bb5689eed98363c40c4c\n",
      "Currently looking at C:\\Users\\JeetPrajapati\\Desktop\\Learning\\Python\\python-course\\.git\\objects\\7e\n",
      "\n",
      "\n",
      "The subfolders are: \n",
      "\n",
      "\n",
      "The Files are:\n",
      "File: bea57c15fe390eaef92cbbb20bc136cea36f47\n",
      "Currently looking at C:\\Users\\JeetPrajapati\\Desktop\\Learning\\Python\\python-course\\.git\\objects\\7f\n",
      "\n",
      "\n",
      "The subfolders are: \n",
      "\n",
      "\n",
      "The Files are:\n",
      "File: d2f4a93864180a93d34b472f93ecf126c9a918\n",
      "Currently looking at C:\\Users\\JeetPrajapati\\Desktop\\Learning\\Python\\python-course\\.git\\objects\\86\n",
      "\n",
      "\n",
      "The subfolders are: \n",
      "\n",
      "\n",
      "The Files are:\n",
      "File: 15f695fc76bf4a27f7bbba150ee6d23b19e3ee\n",
      "Currently looking at C:\\Users\\JeetPrajapati\\Desktop\\Learning\\Python\\python-course\\.git\\objects\\87\n",
      "\n",
      "\n",
      "The subfolders are: \n",
      "\n",
      "\n",
      "The Files are:\n",
      "File: da9e8cb4a3c81725194f7ef5287c73c110cb92\n",
      "Currently looking at C:\\Users\\JeetPrajapati\\Desktop\\Learning\\Python\\python-course\\.git\\objects\\88\n",
      "\n",
      "\n",
      "The subfolders are: \n",
      "\n",
      "\n",
      "The Files are:\n",
      "File: 0a7d951c095b4f5f2bb46b9d1a7349251733ea\n",
      "File: 270198f4e31ea9ea09ab103a5e786e63bd9dc6\n",
      "File: c5f8281140169895aac1da15a58749037dbb34\n",
      "Currently looking at C:\\Users\\JeetPrajapati\\Desktop\\Learning\\Python\\python-course\\.git\\objects\\89\n",
      "\n",
      "\n",
      "The subfolders are: \n",
      "\n",
      "\n",
      "The Files are:\n",
      "File: b9af110926fb733a57a63c723228e3deaa2c7c\n",
      "Currently looking at C:\\Users\\JeetPrajapati\\Desktop\\Learning\\Python\\python-course\\.git\\objects\\8b\n",
      "\n",
      "\n",
      "The subfolders are: \n",
      "\n",
      "\n",
      "The Files are:\n",
      "File: 0378ccfb43c27674b6ae363c6e7a94da7eb813\n",
      "File: 055945eac97a20e0f25c4dd4f8958c210342ba\n",
      "Currently looking at C:\\Users\\JeetPrajapati\\Desktop\\Learning\\Python\\python-course\\.git\\objects\\8e\n",
      "\n",
      "\n",
      "The subfolders are: \n",
      "\n",
      "\n",
      "The Files are:\n",
      "File: 116777988c8b00a24cc5b0151522f0297e0b09\n",
      "Currently looking at C:\\Users\\JeetPrajapati\\Desktop\\Learning\\Python\\python-course\\.git\\objects\\8f\n",
      "\n",
      "\n",
      "The subfolders are: \n",
      "\n",
      "\n",
      "The Files are:\n",
      "File: 3b69dd13f27e67f7817a1bf3925e4199bc7c8e\n",
      "Currently looking at C:\\Users\\JeetPrajapati\\Desktop\\Learning\\Python\\python-course\\.git\\objects\\91\n",
      "\n",
      "\n",
      "The subfolders are: \n",
      "\n",
      "\n",
      "The Files are:\n",
      "File: c6b939cd718b22dd565103dbe322bc3bd9f421\n",
      "Currently looking at C:\\Users\\JeetPrajapati\\Desktop\\Learning\\Python\\python-course\\.git\\objects\\96\n",
      "\n",
      "\n",
      "The subfolders are: \n",
      "\n",
      "\n",
      "The Files are:\n",
      "File: 577e45ef94a97b4e606a817e1c318fa6c74374\n",
      "Currently looking at C:\\Users\\JeetPrajapati\\Desktop\\Learning\\Python\\python-course\\.git\\objects\\99\n",
      "\n",
      "\n",
      "The subfolders are: \n",
      "\n",
      "\n",
      "The Files are:\n",
      "File: f2993b03955161a651b2a7346dcc7aedef48a1\n",
      "Currently looking at C:\\Users\\JeetPrajapati\\Desktop\\Learning\\Python\\python-course\\.git\\objects\\9d\n",
      "\n",
      "\n",
      "The subfolders are: \n",
      "\n",
      "\n",
      "The Files are:\n",
      "File: 9a9d2aaf098ef63ddb96debf93c1ab5a55d59e\n",
      "Currently looking at C:\\Users\\JeetPrajapati\\Desktop\\Learning\\Python\\python-course\\.git\\objects\\9f\n",
      "\n",
      "\n",
      "The subfolders are: \n",
      "\n",
      "\n",
      "The Files are:\n",
      "File: 90d1c168eae64125911e60868d5667fa9e90cf\n",
      "Currently looking at C:\\Users\\JeetPrajapati\\Desktop\\Learning\\Python\\python-course\\.git\\objects\\a1\n",
      "\n",
      "\n",
      "The subfolders are: \n",
      "\n",
      "\n",
      "The Files are:\n",
      "File: 341d64f9cbb3d47c06ef126aa5c4bbb2f3fe5b\n",
      "File: f315e61ed44262933c6d05c79bbff660322910\n",
      "Currently looking at C:\\Users\\JeetPrajapati\\Desktop\\Learning\\Python\\python-course\\.git\\objects\\a3\n",
      "\n",
      "\n",
      "The subfolders are: \n",
      "\n",
      "\n",
      "The Files are:\n",
      "File: 4c08fe9c1ee4ab396136973ad9345497e9b514\n",
      "File: ea3c68753ee530fa730c350fbff859209a22b2\n",
      "Currently looking at C:\\Users\\JeetPrajapati\\Desktop\\Learning\\Python\\python-course\\.git\\objects\\a4\n",
      "\n",
      "\n",
      "The subfolders are: \n",
      "\n",
      "\n",
      "The Files are:\n",
      "File: a663e16f95f4ebededfd3b3f50ab7b380fa637\n",
      "Currently looking at C:\\Users\\JeetPrajapati\\Desktop\\Learning\\Python\\python-course\\.git\\objects\\a6\n",
      "\n",
      "\n",
      "The subfolders are: \n",
      "\n",
      "\n",
      "The Files are:\n",
      "File: 47d6c245131447db8c32cc3c22cdd983ef1011\n",
      "File: 5d4dff8c4f39952f6ee68ff9ab7a3d6cd3e2be\n",
      "Currently looking at C:\\Users\\JeetPrajapati\\Desktop\\Learning\\Python\\python-course\\.git\\objects\\a8\n",
      "\n",
      "\n",
      "The subfolders are: \n",
      "\n",
      "\n",
      "The Files are:\n",
      "File: e1bd42bc7b697268239d3118e737e0cb1677fa\n",
      "Currently looking at C:\\Users\\JeetPrajapati\\Desktop\\Learning\\Python\\python-course\\.git\\objects\\ac\n",
      "\n",
      "\n",
      "The subfolders are: \n",
      "\n",
      "\n",
      "The Files are:\n",
      "File: 1921966ca43117c20a47eac943fe2d9327e85f\n",
      "File: ab7c0f23a4b7b35f1d78b792a61e8cfe9c6314\n",
      "Currently looking at C:\\Users\\JeetPrajapati\\Desktop\\Learning\\Python\\python-course\\.git\\objects\\ad\n",
      "\n",
      "\n",
      "The subfolders are: \n",
      "\n",
      "\n",
      "The Files are:\n",
      "File: 0ffa70f4ca93fbfc19be0c9d1fd54009aa8d6c\n",
      "Currently looking at C:\\Users\\JeetPrajapati\\Desktop\\Learning\\Python\\python-course\\.git\\objects\\ae\n",
      "\n",
      "\n",
      "The subfolders are: \n",
      "\n",
      "\n",
      "The Files are:\n",
      "File: 7f8da5e1372a2179211c013ab4c6e37e359a9a\n",
      "Currently looking at C:\\Users\\JeetPrajapati\\Desktop\\Learning\\Python\\python-course\\.git\\objects\\b3\n",
      "\n",
      "\n",
      "The subfolders are: \n",
      "\n",
      "\n",
      "The Files are:\n",
      "File: f24a0d9f7264e676045f445182eed466cdd72b\n",
      "Currently looking at C:\\Users\\JeetPrajapati\\Desktop\\Learning\\Python\\python-course\\.git\\objects\\b8\n",
      "\n",
      "\n",
      "The subfolders are: \n",
      "\n",
      "\n",
      "The Files are:\n",
      "File: fae77e3de5c7681ff4a29b7983720894218afd\n",
      "Currently looking at C:\\Users\\JeetPrajapati\\Desktop\\Learning\\Python\\python-course\\.git\\objects\\bb\n",
      "\n",
      "\n",
      "The subfolders are: \n",
      "\n",
      "\n",
      "The Files are:\n",
      "File: 1f698fc7070c7b07e0d1b1513534988e767b3d\n",
      "Currently looking at C:\\Users\\JeetPrajapati\\Desktop\\Learning\\Python\\python-course\\.git\\objects\\bc\n",
      "\n",
      "\n",
      "The subfolders are: \n",
      "\n",
      "\n",
      "The Files are:\n",
      "File: a35fb69d0ba74e6b84599837af48d76afa8784\n",
      "Currently looking at C:\\Users\\JeetPrajapati\\Desktop\\Learning\\Python\\python-course\\.git\\objects\\c0\n",
      "\n",
      "\n",
      "The subfolders are: \n",
      "\n",
      "\n",
      "The Files are:\n",
      "File: 650bb4efa0768b2c1050ce824d9038214136f9\n",
      "Currently looking at C:\\Users\\JeetPrajapati\\Desktop\\Learning\\Python\\python-course\\.git\\objects\\c2\n",
      "\n",
      "\n",
      "The subfolders are: \n",
      "\n",
      "\n",
      "The Files are:\n",
      "File: e95920f5f06fdafc63c7ba2184e808fd1ac62f\n",
      "File: f8f800ac5ba2937e75d7e46825b965ed21c005\n",
      "Currently looking at C:\\Users\\JeetPrajapati\\Desktop\\Learning\\Python\\python-course\\.git\\objects\\c3\n",
      "\n",
      "\n",
      "The subfolders are: \n",
      "\n",
      "\n",
      "The Files are:\n",
      "File: b79aaee55bb8a31600c3ebd1f82accce90eed0\n",
      "Currently looking at C:\\Users\\JeetPrajapati\\Desktop\\Learning\\Python\\python-course\\.git\\objects\\c5\n",
      "\n",
      "\n",
      "The subfolders are: \n",
      "\n",
      "\n",
      "The Files are:\n",
      "File: b9aaa8386ce5a5bca1ad8d84bc56b8aaed934c\n",
      "Currently looking at C:\\Users\\JeetPrajapati\\Desktop\\Learning\\Python\\python-course\\.git\\objects\\c6\n",
      "\n",
      "\n",
      "The subfolders are: \n",
      "\n",
      "\n",
      "The Files are:\n",
      "File: bdf4d93a69760b38860f6d7016e1ea551a7173\n",
      "Currently looking at C:\\Users\\JeetPrajapati\\Desktop\\Learning\\Python\\python-course\\.git\\objects\\c8\n",
      "\n",
      "\n",
      "The subfolders are: \n",
      "\n",
      "\n",
      "The Files are:\n",
      "File: 36685601e80ea2cb1d9b2eba4f20956c3f570c\n",
      "File: aa77caef557e54e19db36746e9671102a0df7b\n",
      "Currently looking at C:\\Users\\JeetPrajapati\\Desktop\\Learning\\Python\\python-course\\.git\\objects\\cb\n",
      "\n",
      "\n",
      "The subfolders are: \n",
      "\n",
      "\n",
      "The Files are:\n",
      "File: cd3f8703010e342393713eba5be120ce35820a\n",
      "Currently looking at C:\\Users\\JeetPrajapati\\Desktop\\Learning\\Python\\python-course\\.git\\objects\\cc\n",
      "\n",
      "\n",
      "The subfolders are: \n",
      "\n",
      "\n",
      "The Files are:\n",
      "File: 0bb970df1170e8d35deeedea7b182301d9f7bd\n",
      "File: a37508536501999dfa81ecfe28dd2efa9207d4\n",
      "File: f48d3410cf992656d304bf238513cbe1c1a8c7\n",
      "Currently looking at C:\\Users\\JeetPrajapati\\Desktop\\Learning\\Python\\python-course\\.git\\objects\\ce\n",
      "\n",
      "\n",
      "The subfolders are: \n",
      "\n",
      "\n",
      "The Files are:\n",
      "File: 91903144443632eef93e149841e973a4dda6c2\n",
      "File: decd2a1c77d9553d91232350d5bb1817f4f5eb\n",
      "Currently looking at C:\\Users\\JeetPrajapati\\Desktop\\Learning\\Python\\python-course\\.git\\objects\\cf\n",
      "\n",
      "\n",
      "The subfolders are: \n",
      "\n",
      "\n",
      "The Files are:\n",
      "File: 54c330505683ce3fab555852b33e2e12f31e9d\n",
      "File: ccd3008e30fe34d9b7cf0579ad524aeb14a1f1\n",
      "File: f990b311581a3f4b060465a714ba60f146eb9c\n",
      "Currently looking at C:\\Users\\JeetPrajapati\\Desktop\\Learning\\Python\\python-course\\.git\\objects\\d5\n",
      "\n",
      "\n",
      "The subfolders are: \n",
      "\n",
      "\n",
      "The Files are:\n",
      "File: 2cb9a5c200e7e22e374d322668e0c308cdcd8b\n",
      "File: 386da22251a4da759c21ac40872e912f38e619\n",
      "Currently looking at C:\\Users\\JeetPrajapati\\Desktop\\Learning\\Python\\python-course\\.git\\objects\\d6\n",
      "\n",
      "\n",
      "The subfolders are: \n",
      "\n",
      "\n",
      "The Files are:\n",
      "File: 3b65ac0e18a3c7b016bb0e9d0a6e2e727931f1\n",
      "File: bba6492cd77ec380fffda079a4599bad34f129\n",
      "Currently looking at C:\\Users\\JeetPrajapati\\Desktop\\Learning\\Python\\python-course\\.git\\objects\\dc\n",
      "\n",
      "\n",
      "The subfolders are: \n",
      "\n",
      "\n",
      "The Files are:\n",
      "File: 724cebd0c5cde0bb3dd80f10ab8d6499cddccf\n",
      "Currently looking at C:\\Users\\JeetPrajapati\\Desktop\\Learning\\Python\\python-course\\.git\\objects\\df\n",
      "\n",
      "\n",
      "The subfolders are: \n",
      "\n",
      "\n",
      "The Files are:\n",
      "File: 28746343aad5c0b6c6674553024aadd8f538f6\n",
      "Currently looking at C:\\Users\\JeetPrajapati\\Desktop\\Learning\\Python\\python-course\\.git\\objects\\e1\n",
      "\n",
      "\n",
      "The subfolders are: \n",
      "\n",
      "\n",
      "The Files are:\n",
      "File: 9a70439b28b2d6e3b79516fddac29426706a0e\n",
      "File: e0a3c58e161634ec63dbd2c92922e67a168387\n",
      "Currently looking at C:\\Users\\JeetPrajapati\\Desktop\\Learning\\Python\\python-course\\.git\\objects\\e2\n",
      "\n",
      "\n",
      "The subfolders are: \n",
      "\n",
      "\n",
      "The Files are:\n",
      "File: 3d144ebcc122c91eda7837664ede3e455e6be3\n",
      "Currently looking at C:\\Users\\JeetPrajapati\\Desktop\\Learning\\Python\\python-course\\.git\\objects\\e6\n",
      "\n",
      "\n",
      "The subfolders are: \n",
      "\n",
      "\n",
      "The Files are:\n",
      "File: 80cb3664b8ddeb002641d5453ec355f4ac887f\n",
      "File: db7b1155f18726458266bd3cdfb2382d10ceab\n",
      "Currently looking at C:\\Users\\JeetPrajapati\\Desktop\\Learning\\Python\\python-course\\.git\\objects\\e7\n",
      "\n",
      "\n",
      "The subfolders are: \n",
      "\n",
      "\n",
      "The Files are:\n",
      "File: 745abc9cbcdef0a0f5568d7bc4a98b85f55a46\n",
      "Currently looking at C:\\Users\\JeetPrajapati\\Desktop\\Learning\\Python\\python-course\\.git\\objects\\ea\n",
      "\n",
      "\n",
      "The subfolders are: \n",
      "\n",
      "\n",
      "The Files are:\n",
      "File: 68d20aec16e29460e948c4b47f6f0891d75629\n",
      "Currently looking at C:\\Users\\JeetPrajapati\\Desktop\\Learning\\Python\\python-course\\.git\\objects\\ec\n",
      "\n",
      "\n",
      "The subfolders are: \n",
      "\n",
      "\n",
      "The Files are:\n",
      "File: b5ef688bfbebdf147a87a8d6d66cb444423ac6\n",
      "Currently looking at C:\\Users\\JeetPrajapati\\Desktop\\Learning\\Python\\python-course\\.git\\objects\\ed\n",
      "\n",
      "\n",
      "The subfolders are: \n",
      "\n",
      "\n",
      "The Files are:\n",
      "File: 34fbd506a3aa47bbe3249c5950f1f4ae71611a\n",
      "File: 96f82010c9486ffaee65125a6a554ddfc0d3ce\n",
      "Currently looking at C:\\Users\\JeetPrajapati\\Desktop\\Learning\\Python\\python-course\\.git\\objects\\ee\n",
      "\n",
      "\n",
      "The subfolders are: \n",
      "\n",
      "\n",
      "The Files are:\n",
      "File: 99822f4b2f5b8058f4c96463ca14ff6896e8d8\n",
      "Currently looking at C:\\Users\\JeetPrajapati\\Desktop\\Learning\\Python\\python-course\\.git\\objects\\f0\n",
      "\n",
      "\n",
      "The subfolders are: \n",
      "\n",
      "\n",
      "The Files are:\n",
      "File: 11d1c31c49734166c743848e1b4f02c31f8e28\n",
      "Currently looking at C:\\Users\\JeetPrajapati\\Desktop\\Learning\\Python\\python-course\\.git\\objects\\f1\n",
      "\n",
      "\n",
      "The subfolders are: \n",
      "\n",
      "\n",
      "The Files are:\n",
      "File: e8b4b5fb6ea173f256a52b3c26f585e270f5e8\n",
      "Currently looking at C:\\Users\\JeetPrajapati\\Desktop\\Learning\\Python\\python-course\\.git\\objects\\f8\n",
      "\n",
      "\n",
      "The subfolders are: \n",
      "\n",
      "\n",
      "The Files are:\n",
      "File: 170348abe651f37562dfc0be1d3b24785181a1\n",
      "Currently looking at C:\\Users\\JeetPrajapati\\Desktop\\Learning\\Python\\python-course\\.git\\objects\\f9\n",
      "\n",
      "\n",
      "The subfolders are: \n",
      "\n",
      "\n",
      "The Files are:\n",
      "File: 0fdd7f78cf0e2bcbb83e19c43b162059bb30b9\n",
      "Currently looking at C:\\Users\\JeetPrajapati\\Desktop\\Learning\\Python\\python-course\\.git\\objects\\fa\n",
      "\n",
      "\n",
      "The subfolders are: \n",
      "\n",
      "\n",
      "The Files are:\n",
      "File: 95c974c9dbf914bbe7412a2c1fa2dfdd886831\n",
      "File: dfb87d7d156b17f7f9bb63cdacd66e868cb3a3\n",
      "Currently looking at C:\\Users\\JeetPrajapati\\Desktop\\Learning\\Python\\python-course\\.git\\objects\\fb\n",
      "\n",
      "\n",
      "The subfolders are: \n",
      "\n",
      "\n",
      "The Files are:\n",
      "File: fddb77cd2ef5ea50af810648bec7ee7dc991c4\n",
      "Currently looking at C:\\Users\\JeetPrajapati\\Desktop\\Learning\\Python\\python-course\\.git\\objects\\info\n",
      "\n",
      "\n",
      "The subfolders are: \n",
      "\n",
      "\n",
      "The Files are:\n",
      "Currently looking at C:\\Users\\JeetPrajapati\\Desktop\\Learning\\Python\\python-course\\.git\\objects\\pack\n",
      "\n",
      "\n",
      "The subfolders are: \n",
      "\n",
      "\n",
      "The Files are:\n",
      "File: pack-f7bc7d9c40cf4b2f869b92d918f78a3544f1e65d.idx\n",
      "File: pack-f7bc7d9c40cf4b2f869b92d918f78a3544f1e65d.pack\n",
      "File: pack-f7bc7d9c40cf4b2f869b92d918f78a3544f1e65d.rev\n",
      "Currently looking at C:\\Users\\JeetPrajapati\\Desktop\\Learning\\Python\\python-course\\.git\\refs\n",
      "\n",
      "\n",
      "The subfolders are: \n",
      "Subfolder: heads\n",
      "Subfolder: remotes\n",
      "Subfolder: tags\n",
      "\n",
      "\n",
      "The Files are:\n",
      "Currently looking at C:\\Users\\JeetPrajapati\\Desktop\\Learning\\Python\\python-course\\.git\\refs\\heads\n",
      "\n",
      "\n",
      "The subfolders are: \n",
      "\n",
      "\n",
      "The Files are:\n",
      "File: main\n",
      "Currently looking at C:\\Users\\JeetPrajapati\\Desktop\\Learning\\Python\\python-course\\.git\\refs\\remotes\n",
      "\n",
      "\n",
      "The subfolders are: \n",
      "Subfolder: origin\n",
      "\n",
      "\n",
      "The Files are:\n",
      "Currently looking at C:\\Users\\JeetPrajapati\\Desktop\\Learning\\Python\\python-course\\.git\\refs\\remotes\\origin\n",
      "\n",
      "\n",
      "The subfolders are: \n",
      "\n",
      "\n",
      "The Files are:\n",
      "File: HEAD\n",
      "File: main\n",
      "Currently looking at C:\\Users\\JeetPrajapati\\Desktop\\Learning\\Python\\python-course\\.git\\refs\\tags\n",
      "\n",
      "\n",
      "The subfolders are: \n",
      "\n",
      "\n",
      "The Files are:\n",
      "Currently looking at C:\\Users\\JeetPrajapati\\Desktop\\Learning\\Python\\python-course\\.ipynb_checkpoints\n",
      "\n",
      "\n",
      "The subfolders are: \n",
      "\n",
      "\n",
      "The Files are:\n",
      "File: 12_learning-checkpoint.ipynb\n",
      "Currently looking at C:\\Users\\JeetPrajapati\\Desktop\\Learning\\Python\\python-course\\10 - Errors and Exceptions Handling\n",
      "\n",
      "\n",
      "The subfolders are: \n",
      "Subfolder: .ipynb_checkpoints\n",
      "Subfolder: __pycache__\n",
      "\n",
      "\n",
      "The Files are:\n",
      "File: 10_1-Errors and Exceptions Homework.ipynb\n",
      "File: 10_learning.ipynb\n",
      "File: 10_pylint\n",
      "File: 10_pylint.py\n",
      "File: cap.py\n",
      "File: myfile.txt\n",
      "File: test_cap.py\n",
      "Currently looking at C:\\Users\\JeetPrajapati\\Desktop\\Learning\\Python\\python-course\\10 - Errors and Exceptions Handling\\.ipynb_checkpoints\n",
      "\n",
      "\n",
      "The subfolders are: \n",
      "\n",
      "\n",
      "The Files are:\n",
      "File: 10_1-Errors and Exceptions Homework-checkpoint.ipynb\n",
      "File: 10_learning-checkpoint.ipynb\n",
      "Currently looking at C:\\Users\\JeetPrajapati\\Desktop\\Learning\\Python\\python-course\\10 - Errors and Exceptions Handling\\__pycache__\n",
      "\n",
      "\n",
      "The subfolders are: \n",
      "\n",
      "\n",
      "The Files are:\n",
      "File: cap.cpython-312.pyc\n",
      "Currently looking at C:\\Users\\JeetPrajapati\\Desktop\\Learning\\Python\\python-course\\11 - Milestone Project 2\n",
      "\n",
      "\n",
      "The subfolders are: \n",
      "Subfolder: .ipynb_checkpoints\n",
      "\n",
      "\n",
      "The Files are:\n",
      "File: 11_1_war_game.ipynb\n",
      "File: 11_2_Blackjack_Project.ipynb\n",
      "Currently looking at C:\\Users\\JeetPrajapati\\Desktop\\Learning\\Python\\python-course\\11 - Milestone Project 2\\.ipynb_checkpoints\n",
      "\n",
      "\n",
      "The subfolders are: \n",
      "\n",
      "\n",
      "The Files are:\n",
      "File: 11_1_project-checkpoint.ipynb\n",
      "File: 11_2_Blackjack_Project-checkpoint.ipynb\n",
      "Currently looking at C:\\Users\\JeetPrajapati\\Desktop\\Learning\\Python\\python-course\\12 - Python Decorators\n",
      "\n",
      "\n",
      "The subfolders are: \n",
      "Subfolder: .ipynb_checkpoints\n",
      "\n",
      "\n",
      "The Files are:\n",
      "File: 12_Homework.ipynb\n",
      "File: 12_learning.ipynb\n",
      "Currently looking at C:\\Users\\JeetPrajapati\\Desktop\\Learning\\Python\\python-course\\12 - Python Decorators\\.ipynb_checkpoints\n",
      "\n",
      "\n",
      "The subfolders are: \n",
      "\n",
      "\n",
      "The Files are:\n",
      "File: 12_Homework-checkpoint.ipynb\n",
      "Currently looking at C:\\Users\\JeetPrajapati\\Desktop\\Learning\\Python\\python-course\\13 - Python Generators\n",
      "\n",
      "\n",
      "The subfolders are: \n",
      "Subfolder: .ipynb_checkpoints\n",
      "\n",
      "\n",
      "The Files are:\n",
      "File: 13_Homework.ipynb\n",
      "File: 13_learning.ipynb\n",
      "Currently looking at C:\\Users\\JeetPrajapati\\Desktop\\Learning\\Python\\python-course\\13 - Python Generators\\.ipynb_checkpoints\n",
      "\n",
      "\n",
      "The subfolders are: \n",
      "\n",
      "\n",
      "The Files are:\n",
      "File: 13_Homework-checkpoint.ipynb\n",
      "File: 13_learning-checkpoint.ipynb\n",
      "Currently looking at C:\\Users\\JeetPrajapati\\Desktop\\Learning\\Python\\python-course\\14 - Advanced Python Modules\n",
      "\n",
      "\n",
      "The subfolders are: \n",
      "Subfolder: .ipynb_checkpoints\n",
      "\n",
      "\n",
      "The Files are:\n",
      "File: 14_learning.ipynb\n",
      "File: practice.txt\n",
      "Currently looking at C:\\Users\\JeetPrajapati\\Desktop\\Learning\\Python\\python-course\\14 - Advanced Python Modules\\.ipynb_checkpoints\n",
      "\n",
      "\n",
      "The subfolders are: \n",
      "\n",
      "\n",
      "The Files are:\n",
      "File: 14_learning-checkpoint.ipynb\n",
      "Currently looking at C:\\Users\\JeetPrajapati\\Desktop\\Learning\\Python\\python-course\\3 - Python Object and Data Structure Basics\n",
      "\n",
      "\n",
      "The subfolders are: \n",
      "Subfolder: .ipynb_checkpoints\n",
      "\n",
      "\n",
      "The Files are:\n",
      "File: 3_Assessment.ipynb\n",
      "File: 3_Learning.ipynb\n",
      "File: myfile.txt\n",
      "Currently looking at C:\\Users\\JeetPrajapati\\Desktop\\Learning\\Python\\python-course\\3 - Python Object and Data Structure Basics\\.ipynb_checkpoints\n",
      "\n",
      "\n",
      "The subfolders are: \n",
      "\n",
      "\n",
      "The Files are:\n",
      "File: 3_Assesment-checkpoint.ipynb\n",
      "File: 3_Learning-checkpoint.ipynb\n",
      "Currently looking at C:\\Users\\JeetPrajapati\\Desktop\\Learning\\Python\\python-course\\4 - Python Comparison Operators\n",
      "\n",
      "\n",
      "The subfolders are: \n",
      "Subfolder: .ipynb_checkpoints\n",
      "\n",
      "\n",
      "The Files are:\n",
      "File: 4_learning.ipynb\n",
      "Currently looking at C:\\Users\\JeetPrajapati\\Desktop\\Learning\\Python\\python-course\\4 - Python Comparison Operators\\.ipynb_checkpoints\n",
      "\n",
      "\n",
      "The subfolders are: \n",
      "\n",
      "\n",
      "The Files are:\n",
      "File: 4_learning-checkpoint.ipynb\n",
      "Currently looking at C:\\Users\\JeetPrajapati\\Desktop\\Learning\\Python\\python-course\\5 - Python Statements\n",
      "\n",
      "\n",
      "The subfolders are: \n",
      "Subfolder: .ipynb_checkpoints\n",
      "\n",
      "\n",
      "The Files are:\n",
      "File: 5_Assessment.ipynb\n",
      "File: 5_learning.ipynb\n",
      "File: Guessing Game Challenge.ipynb\n",
      "Currently looking at C:\\Users\\JeetPrajapati\\Desktop\\Learning\\Python\\python-course\\5 - Python Statements\\.ipynb_checkpoints\n",
      "\n",
      "\n",
      "The subfolders are: \n",
      "\n",
      "\n",
      "The Files are:\n",
      "File: 5_Assesment-checkpoint.ipynb\n",
      "File: 5_learning-checkpoint.ipynb\n",
      "Currently looking at C:\\Users\\JeetPrajapati\\Desktop\\Learning\\Python\\python-course\\6 - Methods and Functions\n",
      "\n",
      "\n",
      "The subfolders are: \n",
      "Subfolder: .ipynb_checkpoints\n",
      "\n",
      "\n",
      "The Files are:\n",
      "File: 6_1_Function Practice Exercises.ipynb\n",
      "File: 6_2_Functions and Methods Homework.ipynb\n",
      "File: 6_learning.ipynb\n",
      "Currently looking at C:\\Users\\JeetPrajapati\\Desktop\\Learning\\Python\\python-course\\6 - Methods and Functions\\.ipynb_checkpoints\n",
      "\n",
      "\n",
      "The subfolders are: \n",
      "\n",
      "\n",
      "The Files are:\n",
      "File: 6_1_Function Practice Exercises-checkpoint.ipynb\n",
      "File: 6_2_Functions and Methods Homework-checkpoint.ipynb\n",
      "File: 6_learning-checkpoint.ipynb\n",
      "File: Guessing Game Challenge-checkpoint.ipynb\n",
      "Currently looking at C:\\Users\\JeetPrajapati\\Desktop\\Learning\\Python\\python-course\\7 - Milestone Project - 1\n",
      "\n",
      "\n",
      "The subfolders are: \n",
      "Subfolder: .ipynb_checkpoints\n",
      "\n",
      "\n",
      "The Files are:\n",
      "File: 0_Basics_tic-tac-toe.ipynb\n",
      "File: Milestone Project 1.ipynb\n",
      "Currently looking at C:\\Users\\JeetPrajapati\\Desktop\\Learning\\Python\\python-course\\7 - Milestone Project - 1\\.ipynb_checkpoints\n",
      "\n",
      "\n",
      "The subfolders are: \n",
      "\n",
      "\n",
      "The Files are:\n",
      "File: Milestone Project 1-checkpoint.ipynb\n",
      "File: tic-tac-toe-checkpoint.ipynb\n",
      "Currently looking at C:\\Users\\JeetPrajapati\\Desktop\\Learning\\Python\\python-course\\8 - Object Oriented Programming\n",
      "\n",
      "\n",
      "The subfolders are: \n",
      "Subfolder: .ipynb_checkpoints\n",
      "\n",
      "\n",
      "The Files are:\n",
      "File: 8_1_OOPs_ Homework.ipynb\n",
      "File: 8_2_OOPs_Challenge.ipynb\n",
      "File: 8_learning.ipynb\n",
      "Currently looking at C:\\Users\\JeetPrajapati\\Desktop\\Learning\\Python\\python-course\\8 - Object Oriented Programming\\.ipynb_checkpoints\n",
      "\n",
      "\n",
      "The subfolders are: \n",
      "\n",
      "\n",
      "The Files are:\n",
      "File: 8_1_OOPs_ Homework-checkpoint.ipynb\n",
      "File: 8_2_OOPs_Challenge-checkpoint.ipynb\n",
      "File: 8_learning-checkpoint.ipynb\n"
     ]
    }
   ],
   "source": [
    "for folder, subfolder, files in os.walk(path):\n",
    "    print(f\"Currently looking at {folder}\")\n",
    "    print(\"\\n\")\n",
    "    print(\"The subfolders are: \")\n",
    "    for s in subfolder:\n",
    "        print(f\"Subfolder: {s}\")\n",
    "    print(\"\\n\")\n",
    "    print(\"The Files are:\")\n",
    "    for f in files:\n",
    "        print(f\"File: {f}\")"
   ]
  },
  {
   "cell_type": "markdown",
   "id": "88f37687-386c-497d-9aa4-d26a25f7b8f2",
   "metadata": {
    "jp-MarkdownHeadingCollapsed": true
   },
   "source": [
    "# DateTime"
   ]
  },
  {
   "cell_type": "code",
   "execution_count": 72,
   "id": "0a54a890-abe0-4053-80cc-b6eabe0d716d",
   "metadata": {},
   "outputs": [],
   "source": [
    "import datetime"
   ]
  },
  {
   "cell_type": "code",
   "execution_count": 75,
   "id": "ac25d04a-1b7e-4fba-831c-9ff5b3f81838",
   "metadata": {},
   "outputs": [],
   "source": [
    "mytime = datetime.time(2,57,20)"
   ]
  },
  {
   "cell_type": "code",
   "execution_count": 76,
   "id": "fc92bffe-4a6b-457b-88d4-ee0f2fc39b9d",
   "metadata": {},
   "outputs": [
    {
     "data": {
      "text/plain": [
       "datetime.time(2, 57, 20)"
      ]
     },
     "execution_count": 76,
     "metadata": {},
     "output_type": "execute_result"
    }
   ],
   "source": [
    "mytime"
   ]
  },
  {
   "cell_type": "code",
   "execution_count": 77,
   "id": "df606951-2cba-4d44-af0b-362521ea36f4",
   "metadata": {},
   "outputs": [
    {
     "name": "stdout",
     "output_type": "stream",
     "text": [
      "02:57:20\n"
     ]
    }
   ],
   "source": [
    "print(mytime)"
   ]
  },
  {
   "cell_type": "code",
   "execution_count": 78,
   "id": "16d3a147-44d2-49c9-8ac6-a07335910f5f",
   "metadata": {},
   "outputs": [],
   "source": [
    "today = datetime.date.today()"
   ]
  },
  {
   "cell_type": "code",
   "execution_count": 79,
   "id": "4a6c96c7-697b-4bf3-b990-40eab1351ea0",
   "metadata": {},
   "outputs": [
    {
     "data": {
      "text/plain": [
       "datetime.date(2024, 12, 30)"
      ]
     },
     "execution_count": 79,
     "metadata": {},
     "output_type": "execute_result"
    }
   ],
   "source": [
    "today"
   ]
  },
  {
   "cell_type": "code",
   "execution_count": 80,
   "id": "0e2dd8ad-b60e-4f8a-a545-3e38d95ccaac",
   "metadata": {},
   "outputs": [
    {
     "name": "stdout",
     "output_type": "stream",
     "text": [
      "2024-12-30\n"
     ]
    }
   ],
   "source": [
    "print(today)"
   ]
  },
  {
   "cell_type": "code",
   "execution_count": 81,
   "id": "41f737e8-a2ec-47fc-86ef-9f86d34d2460",
   "metadata": {},
   "outputs": [
    {
     "data": {
      "text/plain": [
       "12"
      ]
     },
     "execution_count": 81,
     "metadata": {},
     "output_type": "execute_result"
    }
   ],
   "source": [
    "today.month"
   ]
  },
  {
   "cell_type": "code",
   "execution_count": 83,
   "id": "9c89fd4c-f372-493e-b5e0-cea5863e67c5",
   "metadata": {},
   "outputs": [
    {
     "data": {
      "text/plain": [
       "'Mon Dec 30 00:00:00 2024'"
      ]
     },
     "execution_count": 83,
     "metadata": {},
     "output_type": "execute_result"
    }
   ],
   "source": [
    "today.ctime()"
   ]
  },
  {
   "cell_type": "code",
   "execution_count": 85,
   "id": "d22981dc-d086-4d76-b8b3-1b193cf3e509",
   "metadata": {},
   "outputs": [],
   "source": [
    "from datetime import datetime"
   ]
  },
  {
   "cell_type": "code",
   "execution_count": 86,
   "id": "ea4bfcea-17ad-4401-9be1-77c0fbd96f6b",
   "metadata": {},
   "outputs": [],
   "source": [
    "dt = datetime(2024,12,30,3,3,30)"
   ]
  },
  {
   "cell_type": "code",
   "execution_count": 87,
   "id": "e573f49e-0f65-4793-b530-974b166cb432",
   "metadata": {},
   "outputs": [
    {
     "name": "stdout",
     "output_type": "stream",
     "text": [
      "2024-12-30 03:03:30\n"
     ]
    }
   ],
   "source": [
    "print(dt)"
   ]
  },
  {
   "cell_type": "code",
   "execution_count": 88,
   "id": "b06005ff-a8db-42ac-929a-b976d12fbea7",
   "metadata": {},
   "outputs": [
    {
     "data": {
      "text/plain": [
       "12"
      ]
     },
     "execution_count": 88,
     "metadata": {},
     "output_type": "execute_result"
    }
   ],
   "source": [
    "dt.month"
   ]
  },
  {
   "cell_type": "code",
   "execution_count": 89,
   "id": "96fb2d27-c7e2-467a-8fca-f1dae8583b1f",
   "metadata": {},
   "outputs": [],
   "source": [
    " from datetime import date"
   ]
  },
  {
   "cell_type": "code",
   "execution_count": 91,
   "id": "da01a2ed-98f2-4530-8e71-40c5dbc81432",
   "metadata": {},
   "outputs": [],
   "source": [
    "date1 = date(2023,12,24)\n",
    "date2 = date(2024,12,12)"
   ]
  },
  {
   "cell_type": "code",
   "execution_count": 92,
   "id": "48131c66-c0a7-406e-bb52-b87e21338ba8",
   "metadata": {},
   "outputs": [],
   "source": [
    "result = date1 - date2"
   ]
  },
  {
   "cell_type": "code",
   "execution_count": 93,
   "id": "dfd1d4c9-4b53-4809-9565-64e4c12a5362",
   "metadata": {},
   "outputs": [
    {
     "data": {
      "text/plain": [
       "datetime.timedelta(days=-354)"
      ]
     },
     "execution_count": 93,
     "metadata": {},
     "output_type": "execute_result"
    }
   ],
   "source": [
    "result"
   ]
  },
  {
   "cell_type": "code",
   "execution_count": 94,
   "id": "e468169c-a60d-4022-b6f9-a1f3ac618b5b",
   "metadata": {},
   "outputs": [
    {
     "data": {
      "text/plain": [
       "-354"
      ]
     },
     "execution_count": 94,
     "metadata": {},
     "output_type": "execute_result"
    }
   ],
   "source": [
    "result.days"
   ]
  },
  {
   "cell_type": "code",
   "execution_count": 96,
   "id": "1c9b22a5-5426-441c-aa6f-93ee107b6e3f",
   "metadata": {},
   "outputs": [],
   "source": [
    "datetime1 = datetime(2024,12,24,15,4,20)\n",
    "datetime2 = datetime(2023,12,24,12,4,20)"
   ]
  },
  {
   "cell_type": "code",
   "execution_count": 98,
   "id": "d39aa89c-1d03-4734-a6a0-dcb3e33dce23",
   "metadata": {},
   "outputs": [],
   "source": [
    "result = datetime1 - datetime2"
   ]
  },
  {
   "cell_type": "code",
   "execution_count": 99,
   "id": "1ab966d5-7d75-4634-adf9-52a48ecc406f",
   "metadata": {},
   "outputs": [
    {
     "data": {
      "text/plain": [
       "datetime.timedelta(days=366, seconds=10800)"
      ]
     },
     "execution_count": 99,
     "metadata": {},
     "output_type": "execute_result"
    }
   ],
   "source": [
    "result"
   ]
  },
  {
   "cell_type": "code",
   "execution_count": 100,
   "id": "930322e9-705a-48d4-9cf4-743068027166",
   "metadata": {},
   "outputs": [
    {
     "name": "stdout",
     "output_type": "stream",
     "text": [
      "366 days, 3:00:00\n"
     ]
    }
   ],
   "source": [
    "print(result)"
   ]
  },
  {
   "cell_type": "code",
   "execution_count": 101,
   "id": "03147294-6931-417f-ac7c-0effd73c1a2f",
   "metadata": {},
   "outputs": [
    {
     "data": {
      "text/plain": [
       "10800"
      ]
     },
     "execution_count": 101,
     "metadata": {},
     "output_type": "execute_result"
    }
   ],
   "source": [
    "result.seconds"
   ]
  },
  {
   "cell_type": "markdown",
   "id": "7f290696-1f50-4d1a-8183-9bc89f5a7842",
   "metadata": {},
   "source": [
    "# Math and Random"
   ]
  },
  {
   "cell_type": "code",
   "execution_count": 102,
   "id": "8c1f111d-8e13-4245-b4f9-5cd247a17b97",
   "metadata": {},
   "outputs": [],
   "source": [
    "import math"
   ]
  },
  {
   "cell_type": "code",
   "execution_count": 103,
   "id": "af79d4fb-9b7e-4c6b-b9e1-281557e0f810",
   "metadata": {},
   "outputs": [
    {
     "name": "stdout",
     "output_type": "stream",
     "text": [
      "Help on built-in module math:\n",
      "\n",
      "NAME\n",
      "    math\n",
      "\n",
      "DESCRIPTION\n",
      "    This module provides access to the mathematical functions\n",
      "    defined by the C standard.\n",
      "\n",
      "FUNCTIONS\n",
      "    acos(x, /)\n",
      "        Return the arc cosine (measured in radians) of x.\n",
      "\n",
      "        The result is between 0 and pi.\n",
      "\n",
      "    acosh(x, /)\n",
      "        Return the inverse hyperbolic cosine of x.\n",
      "\n",
      "    asin(x, /)\n",
      "        Return the arc sine (measured in radians) of x.\n",
      "\n",
      "        The result is between -pi/2 and pi/2.\n",
      "\n",
      "    asinh(x, /)\n",
      "        Return the inverse hyperbolic sine of x.\n",
      "\n",
      "    atan(x, /)\n",
      "        Return the arc tangent (measured in radians) of x.\n",
      "\n",
      "        The result is between -pi/2 and pi/2.\n",
      "\n",
      "    atan2(y, x, /)\n",
      "        Return the arc tangent (measured in radians) of y/x.\n",
      "\n",
      "        Unlike atan(y/x), the signs of both x and y are considered.\n",
      "\n",
      "    atanh(x, /)\n",
      "        Return the inverse hyperbolic tangent of x.\n",
      "\n",
      "    cbrt(x, /)\n",
      "        Return the cube root of x.\n",
      "\n",
      "    ceil(x, /)\n",
      "        Return the ceiling of x as an Integral.\n",
      "\n",
      "        This is the smallest integer >= x.\n",
      "\n",
      "    comb(n, k, /)\n",
      "        Number of ways to choose k items from n items without repetition and without order.\n",
      "\n",
      "        Evaluates to n! / (k! * (n - k)!) when k <= n and evaluates\n",
      "        to zero when k > n.\n",
      "\n",
      "        Also called the binomial coefficient because it is equivalent\n",
      "        to the coefficient of k-th term in polynomial expansion of the\n",
      "        expression (1 + x)**n.\n",
      "\n",
      "        Raises TypeError if either of the arguments are not integers.\n",
      "        Raises ValueError if either of the arguments are negative.\n",
      "\n",
      "    copysign(x, y, /)\n",
      "        Return a float with the magnitude (absolute value) of x but the sign of y.\n",
      "\n",
      "        On platforms that support signed zeros, copysign(1.0, -0.0)\n",
      "        returns -1.0.\n",
      "\n",
      "    cos(x, /)\n",
      "        Return the cosine of x (measured in radians).\n",
      "\n",
      "    cosh(x, /)\n",
      "        Return the hyperbolic cosine of x.\n",
      "\n",
      "    degrees(x, /)\n",
      "        Convert angle x from radians to degrees.\n",
      "\n",
      "    dist(p, q, /)\n",
      "        Return the Euclidean distance between two points p and q.\n",
      "\n",
      "        The points should be specified as sequences (or iterables) of\n",
      "        coordinates.  Both inputs must have the same dimension.\n",
      "\n",
      "        Roughly equivalent to:\n",
      "            sqrt(sum((px - qx) ** 2.0 for px, qx in zip(p, q)))\n",
      "\n",
      "    erf(x, /)\n",
      "        Error function at x.\n",
      "\n",
      "    erfc(x, /)\n",
      "        Complementary error function at x.\n",
      "\n",
      "    exp(x, /)\n",
      "        Return e raised to the power of x.\n",
      "\n",
      "    exp2(x, /)\n",
      "        Return 2 raised to the power of x.\n",
      "\n",
      "    expm1(x, /)\n",
      "        Return exp(x)-1.\n",
      "\n",
      "        This function avoids the loss of precision involved in the direct evaluation of exp(x)-1 for small x.\n",
      "\n",
      "    fabs(x, /)\n",
      "        Return the absolute value of the float x.\n",
      "\n",
      "    factorial(n, /)\n",
      "        Find n!.\n",
      "\n",
      "        Raise a ValueError if x is negative or non-integral.\n",
      "\n",
      "    floor(x, /)\n",
      "        Return the floor of x as an Integral.\n",
      "\n",
      "        This is the largest integer <= x.\n",
      "\n",
      "    fmod(x, y, /)\n",
      "        Return fmod(x, y), according to platform C.\n",
      "\n",
      "        x % y may differ.\n",
      "\n",
      "    frexp(x, /)\n",
      "        Return the mantissa and exponent of x, as pair (m, e).\n",
      "\n",
      "        m is a float and e is an int, such that x = m * 2.**e.\n",
      "        If x is 0, m and e are both 0.  Else 0.5 <= abs(m) < 1.0.\n",
      "\n",
      "    fsum(seq, /)\n",
      "        Return an accurate floating-point sum of values in the iterable seq.\n",
      "\n",
      "        Assumes IEEE-754 floating-point arithmetic.\n",
      "\n",
      "    gamma(x, /)\n",
      "        Gamma function at x.\n",
      "\n",
      "    gcd(*integers)\n",
      "        Greatest Common Divisor.\n",
      "\n",
      "    hypot(...)\n",
      "        hypot(*coordinates) -> value\n",
      "\n",
      "        Multidimensional Euclidean distance from the origin to a point.\n",
      "\n",
      "        Roughly equivalent to:\n",
      "            sqrt(sum(x**2 for x in coordinates))\n",
      "\n",
      "        For a two dimensional point (x, y), gives the hypotenuse\n",
      "        using the Pythagorean theorem:  sqrt(x*x + y*y).\n",
      "\n",
      "        For example, the hypotenuse of a 3/4/5 right triangle is:\n",
      "\n",
      "            >>> hypot(3.0, 4.0)\n",
      "            5.0\n",
      "\n",
      "    isclose(a, b, *, rel_tol=1e-09, abs_tol=0.0)\n",
      "        Determine whether two floating-point numbers are close in value.\n",
      "\n",
      "          rel_tol\n",
      "            maximum difference for being considered \"close\", relative to the\n",
      "            magnitude of the input values\n",
      "          abs_tol\n",
      "            maximum difference for being considered \"close\", regardless of the\n",
      "            magnitude of the input values\n",
      "\n",
      "        Return True if a is close in value to b, and False otherwise.\n",
      "\n",
      "        For the values to be considered close, the difference between them\n",
      "        must be smaller than at least one of the tolerances.\n",
      "\n",
      "        -inf, inf and NaN behave similarly to the IEEE 754 Standard.  That\n",
      "        is, NaN is not close to anything, even itself.  inf and -inf are\n",
      "        only close to themselves.\n",
      "\n",
      "    isfinite(x, /)\n",
      "        Return True if x is neither an infinity nor a NaN, and False otherwise.\n",
      "\n",
      "    isinf(x, /)\n",
      "        Return True if x is a positive or negative infinity, and False otherwise.\n",
      "\n",
      "    isnan(x, /)\n",
      "        Return True if x is a NaN (not a number), and False otherwise.\n",
      "\n",
      "    isqrt(n, /)\n",
      "        Return the integer part of the square root of the input.\n",
      "\n",
      "    lcm(*integers)\n",
      "        Least Common Multiple.\n",
      "\n",
      "    ldexp(x, i, /)\n",
      "        Return x * (2**i).\n",
      "\n",
      "        This is essentially the inverse of frexp().\n",
      "\n",
      "    lgamma(x, /)\n",
      "        Natural logarithm of absolute value of Gamma function at x.\n",
      "\n",
      "    log(...)\n",
      "        log(x, [base=math.e])\n",
      "        Return the logarithm of x to the given base.\n",
      "\n",
      "        If the base is not specified, returns the natural logarithm (base e) of x.\n",
      "\n",
      "    log10(x, /)\n",
      "        Return the base 10 logarithm of x.\n",
      "\n",
      "    log1p(x, /)\n",
      "        Return the natural logarithm of 1+x (base e).\n",
      "\n",
      "        The result is computed in a way which is accurate for x near zero.\n",
      "\n",
      "    log2(x, /)\n",
      "        Return the base 2 logarithm of x.\n",
      "\n",
      "    modf(x, /)\n",
      "        Return the fractional and integer parts of x.\n",
      "\n",
      "        Both results carry the sign of x and are floats.\n",
      "\n",
      "    nextafter(x, y, /, *, steps=None)\n",
      "        Return the floating-point value the given number of steps after x towards y.\n",
      "\n",
      "        If steps is not specified or is None, it defaults to 1.\n",
      "\n",
      "        Raises a TypeError, if x or y is not a double, or if steps is not an integer.\n",
      "        Raises ValueError if steps is negative.\n",
      "\n",
      "    perm(n, k=None, /)\n",
      "        Number of ways to choose k items from n items without repetition and with order.\n",
      "\n",
      "        Evaluates to n! / (n - k)! when k <= n and evaluates\n",
      "        to zero when k > n.\n",
      "\n",
      "        If k is not specified or is None, then k defaults to n\n",
      "        and the function returns n!.\n",
      "\n",
      "        Raises TypeError if either of the arguments are not integers.\n",
      "        Raises ValueError if either of the arguments are negative.\n",
      "\n",
      "    pow(x, y, /)\n",
      "        Return x**y (x to the power of y).\n",
      "\n",
      "    prod(iterable, /, *, start=1)\n",
      "        Calculate the product of all the elements in the input iterable.\n",
      "\n",
      "        The default start value for the product is 1.\n",
      "\n",
      "        When the iterable is empty, return the start value.  This function is\n",
      "        intended specifically for use with numeric values and may reject\n",
      "        non-numeric types.\n",
      "\n",
      "    radians(x, /)\n",
      "        Convert angle x from degrees to radians.\n",
      "\n",
      "    remainder(x, y, /)\n",
      "        Difference between x and the closest integer multiple of y.\n",
      "\n",
      "        Return x - n*y where n*y is the closest integer multiple of y.\n",
      "        In the case where x is exactly halfway between two multiples of\n",
      "        y, the nearest even value of n is used. The result is always exact.\n",
      "\n",
      "    sin(x, /)\n",
      "        Return the sine of x (measured in radians).\n",
      "\n",
      "    sinh(x, /)\n",
      "        Return the hyperbolic sine of x.\n",
      "\n",
      "    sqrt(x, /)\n",
      "        Return the square root of x.\n",
      "\n",
      "    sumprod(p, q, /)\n",
      "        Return the sum of products of values from two iterables p and q.\n",
      "\n",
      "        Roughly equivalent to:\n",
      "\n",
      "            sum(itertools.starmap(operator.mul, zip(p, q, strict=True)))\n",
      "\n",
      "        For float and mixed int/float inputs, the intermediate products\n",
      "        and sums are computed with extended precision.\n",
      "\n",
      "    tan(x, /)\n",
      "        Return the tangent of x (measured in radians).\n",
      "\n",
      "    tanh(x, /)\n",
      "        Return the hyperbolic tangent of x.\n",
      "\n",
      "    trunc(x, /)\n",
      "        Truncates the Real x to the nearest Integral toward 0.\n",
      "\n",
      "        Uses the __trunc__ magic method.\n",
      "\n",
      "    ulp(x, /)\n",
      "        Return the value of the least significant bit of the float x.\n",
      "\n",
      "DATA\n",
      "    e = 2.718281828459045\n",
      "    inf = inf\n",
      "    nan = nan\n",
      "    pi = 3.141592653589793\n",
      "    tau = 6.283185307179586\n",
      "\n",
      "FILE\n",
      "    (built-in)\n",
      "\n",
      "\n"
     ]
    }
   ],
   "source": [
    "help(math)"
   ]
  },
  {
   "cell_type": "code",
   "execution_count": null,
   "id": "9a4708e9-5cc9-4790-b19b-e8813a268121",
   "metadata": {},
   "outputs": [],
   "source": []
  }
 ],
 "metadata": {
  "kernelspec": {
   "display_name": "Python 3 (ipykernel)",
   "language": "python",
   "name": "python3"
  },
  "language_info": {
   "codemirror_mode": {
    "name": "ipython",
    "version": 3
   },
   "file_extension": ".py",
   "mimetype": "text/x-python",
   "name": "python",
   "nbconvert_exporter": "python",
   "pygments_lexer": "ipython3",
   "version": "3.12.7"
  }
 },
 "nbformat": 4,
 "nbformat_minor": 5
}
