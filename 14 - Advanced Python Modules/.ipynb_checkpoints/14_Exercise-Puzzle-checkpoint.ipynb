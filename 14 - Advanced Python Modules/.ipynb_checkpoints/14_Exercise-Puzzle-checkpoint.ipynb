{
 "cells": [
  {
   "cell_type": "markdown",
   "metadata": {},
   "source": [
    "___\n",
    "\n",
    "<a href='https://www.udemy.com/user/joseportilla/'><img src='../../Pierian_Data_Logo.png'/></a>\n",
    "___\n",
    "<center><em>Content Copyright by Pierian Data</em></center>"
   ]
  },
  {
   "cell_type": "markdown",
   "metadata": {},
   "source": [
    "# Advanced Modules Exercise Puzzle\n",
    "\n",
    "It's time to test your new skills, this puzzle project will combine multiple skills sets, including unzipping files with Python, using os module to automatically search through lots of files.\n",
    "\n",
    "## Your Goal\n",
    "\n",
    "This is a puzzle, so we don't want to give you too much guidance and instead have you figure out things on your own.\n",
    "\n",
    "There is a .zip file called 'unzip_me_for_instructions.zip', unzip it, open the .txt file with Python, read the instructions and see if you can figure out what you need to do!\n",
    "\n",
    "**If you get stuck or don't know where to start, here is a [guide/hints](https://docs.google.com/document/d/1JxydUr4n4fSR0EwwuwT-aHia-yPK6r-oTBuVT2sqheo/edit?usp=sharing)**"
   ]
  },
  {
   "cell_type": "code",
   "execution_count": 2,
   "metadata": {},
   "outputs": [],
   "source": [
    "import shutil"
   ]
  },
  {
   "cell_type": "code",
   "execution_count": 4,
   "metadata": {},
   "outputs": [],
   "source": [
    "shutil.unpack_archive('unzip_me_for_instructions.zip','extracted_exercise','zip')"
   ]
  },
  {
   "cell_type": "code",
   "execution_count": 5,
   "metadata": {},
   "outputs": [
    {
     "name": "stdout",
     "output_type": "stream",
     "text": [
      " Volume in drive C has no label.\n",
      " Volume Serial Number is 5ABE-8BFA\n",
      "\n",
      " Directory of C:\\Users\\JeetPrajapati\\Desktop\\Learning\\Python\\python-course\\14 - Advanced Python Modules\n",
      "\n",
      "31-12-2024  10:16    <DIR>          .\n",
      "31-12-2024  10:16    <DIR>          ..\n",
      "31-12-2024  10:14    <DIR>          .ipynb_checkpoints\n",
      "31-12-2024  10:15             2,457 14_Exercise-Puzzle.ipynb\n",
      "31-12-2024  10:10           112,883 14_learning.ipynb\n",
      "31-12-2024  09:53               230 comp_file.zip\n",
      "31-12-2024  10:04               230 example.zip\n",
      "31-12-2024  09:57    <DIR>          extracted_content\n",
      "31-12-2024  10:16    <DIR>          extracted_exercise\n",
      "31-12-2024  09:48                 8 file1.txt\n",
      "31-12-2024  09:48                 8 file2.txt\n",
      "31-12-2024  10:10    <DIR>          final_output\n",
      "30-12-2024  14:40                19 practice.txt\n",
      "07-04-2023  22:53           198,430 unzip_me_for_instructions.zip\n",
      "               8 File(s)        314,265 bytes\n",
      "               6 Dir(s)  140,090,351,616 bytes free\n"
     ]
    }
   ],
   "source": [
    "ls"
   ]
  },
  {
   "cell_type": "code",
   "execution_count": 6,
   "metadata": {},
   "outputs": [],
   "source": [
    "import os"
   ]
  },
  {
   "cell_type": "code",
   "execution_count": 12,
   "metadata": {},
   "outputs": [
    {
     "name": "stdout",
     "output_type": "stream",
     "text": [
      "Folder: extracted_exercise\n",
      "Folder: extracted_exercise\\extracted_content\n",
      "Folder: extracted_exercise\\extracted_content\\.ipynb_checkpoints\n",
      "Folder: extracted_exercise\\extracted_content\\Five\n",
      "Folder: extracted_exercise\\extracted_content\\Four\n",
      "Folder: extracted_exercise\\extracted_content\\One\n",
      "Folder: extracted_exercise\\extracted_content\\Three\n",
      "Folder: extracted_exercise\\extracted_content\\Two\n"
     ]
    }
   ],
   "source": [
    "for folder, subfolder, file in os.walk('extracted_exercise'):\n",
    "    print('Folder: '+ folder )"
   ]
  },
  {
   "cell_type": "code",
   "execution_count": 14,
   "metadata": {},
   "outputs": [
    {
     "name": "stdout",
     "output_type": "stream",
     "text": [
      "Folder: extracted_exercise\\extracted_content\n",
      "File: Instructions.txt\n",
      "Folder: extracted_exercise\\extracted_content\\.ipynb_checkpoints\n",
      "File: Instructions-checkpoint.txt\n",
      "Folder: extracted_exercise\\extracted_content\\Five\n",
      "File: AEITMYIRQLP.txt\n",
      "File: APJKSRITGGX.txt\n",
      "File: AQKATDFGXTS.txt\n",
      "File: ARLKFCWIAJE.txt\n",
      "File: AXJGVPVEFAS.txt\n",
      "File: BNUQEHCFRTG.txt\n",
      "File: BSKJDRNEZQM.txt\n",
      "File: BTYWAHLHKBM.txt\n",
      "File: BUGKBZWRRVI.txt\n",
      "File: BVBURZZCAPR.txt\n",
      "File: CAHBEVSVDDN.txt\n",
      "File: COMGMZBJAYE.txt\n",
      "File: CRFSDGYFSHA.txt\n",
      "File: CSCLFZCDYYC.txt\n",
      "File: CXBVCTRBBIE.txt\n",
      "File: DDLASODUVPX.txt\n",
      "File: DHZBAAYEADM.txt\n",
      "File: DQPZQLBCJYP.txt\n",
      "File: DYOPIIVMZOO.txt\n",
      "File: DZUWWXYIAEL.txt\n",
      "File: EAAOEPSAWMQ.txt\n",
      "File: EIPWXMQZJKU.txt\n",
      "File: ESIZWBHMGDP.txt\n",
      "File: ETCUEXWNBCF.txt\n",
      "File: EYTCGIOYWIW.txt\n",
      "Folder: extracted_exercise\\extracted_content\\Four\n",
      "File: ECIOBYCDVFI.txt\n",
      "File: EMTGPSXQEJX.txt\n",
      "File: EPRNUHRSESC.txt\n",
      "File: ESDIZXHYCVY.txt\n",
      "File: EXVQSVBQQQH.txt\n",
      "File: QCTCKDIBBVG.txt\n",
      "File: QCWCFLKNZMN.txt\n",
      "File: QDDETWBHJYC.txt\n",
      "File: QTDYYIFPHAU.txt\n",
      "File: QVNJULGXNUM.txt\n",
      "File: REAXWSOIQDY.txt\n",
      "File: ROICPTWKXDX.txt\n",
      "File: RSXOTNGKBML.txt\n",
      "File: RXDARIDGKBF.txt\n",
      "File: RYNXFYXMKHG.txt\n",
      "File: TAKNAVDMZKV.txt\n",
      "File: THPNEGKTJWI.txt\n",
      "File: TJFMLJODVAD.txt\n",
      "File: TKCZSFQNJTX.txt\n",
      "File: TWUOYFCCYBQ.txt\n",
      "File: WFSKPTXPFCH.txt\n",
      "File: WHTOHQUWXIN.txt\n",
      "File: WNJISWPEBRS.txt\n",
      "File: WXDJDOGZEHN.txt\n",
      "File: WYDLGSGGXKV.txt\n",
      "Folder: extracted_exercise\\extracted_content\\One\n",
      "File: HDOHZHFSTTK.txt\n",
      "File: HFUTPPAXDIS.txt\n",
      "File: HMNZTLIFGPD.txt\n",
      "File: HRQFTHKVJTL.txt\n",
      "File: HVUTZEVMSBW.txt\n",
      "File: JDLRVFCXYLU.txt\n",
      "File: JEHBLZPUPSP.txt\n",
      "File: JLTXKIGCWDL.txt\n",
      "File: JQUOBKFUACN.txt\n",
      "File: JTHSNBNPQSE.txt\n",
      "File: KCXGNQCZBLO.txt\n",
      "File: KFIUZFERLET.txt\n",
      "File: KMMLGJOWLGI.txt\n",
      "File: KNBSKDREHQU.txt\n",
      "File: KTXDHIOKAUI.txt\n",
      "File: LDGOCUQJNNS.txt\n",
      "File: LFEATJAAYDC.txt\n",
      "File: LHODFIKVTQA.txt\n",
      "File: LIFDHOFKWOI.txt\n",
      "File: LPNDVDXPZIG.txt\n",
      "File: PDJMSMNKIRM.txt\n",
      "File: PHWAVPEKAER.txt\n",
      "File: PLYCGPVEAWO.txt\n",
      "File: PQNVCVJINAR.txt\n",
      "File: PTOBBCJYURJ.txt\n",
      "Folder: extracted_exercise\\extracted_content\\Three\n",
      "File: VAQIJTDOFUJ.txt\n",
      "File: VCFJCGJFBIH.txt\n",
      "File: VSXFSTABZDY.txt\n",
      "File: VVHFVZUNLOO.txt\n",
      "File: VVKGWLRMHLU.txt\n",
      "File: XAJMCPEWFNI.txt\n",
      "File: XFHJOTNPEJG.txt\n",
      "File: XHZPVUQTXIO.txt\n",
      "File: XJCWENFFGHB.txt\n",
      "File: XVMPVSVYKFR.txt\n",
      "File: YCESZHJDBXH.txt\n",
      "File: YDQFMWXOUMW.txt\n",
      "File: YQBIUHSUEVW.txt\n",
      "File: YQRNCMNFFHW.txt\n",
      "File: YYIZGBTQHZP.txt\n",
      "File: ZEZKKRBIZEB.txt\n",
      "File: ZKQJXAYKPVD.txt\n",
      "File: ZOWVXWPOGWP.txt\n",
      "File: ZXEZRQXZNPG.txt\n",
      "File: ZXIBJMPROKW.txt\n",
      "Folder: extracted_exercise\\extracted_content\\Two\n",
      "File: GKQBQRCTNNK.txt\n",
      "File: GMMQQUBMJNR.txt\n",
      "File: GQTJJORZBXY.txt\n",
      "File: GTOTCIWMDBY.txt\n",
      "File: GXYSEPAFRTP.txt\n",
      "File: HARDNJGDRBC.txt\n",
      "File: HEORIXOTANT.txt\n",
      "File: HMUTDOVNYTV.txt\n",
      "File: HMZXPBOPRAE.txt\n",
      "File: HTOHSTYXTCO.txt\n",
      "File: LCJZYDHBFRM.txt\n",
      "File: LSQSTGPIGIY.txt\n",
      "File: LULTNYAQEJG.txt\n",
      "File: LVMBINRBJXL.txt\n",
      "File: LYZEQCVYNEZ.txt\n",
      "File: OHZOUOSFJQC.txt\n",
      "File: OIHMLGMWTHL.txt\n",
      "File: OKWFOOYTXFU.txt\n",
      "File: OMWIMVRCMYM.txt\n",
      "File: OYMAGXAGWHJ.txt\n",
      "File: SIKFPPLCJDN.txt\n",
      "File: SJMJLDGPBSJ.txt\n",
      "File: SOFUJYXTIMK.txt\n",
      "File: SPDZYGDHEWO.txt\n",
      "File: SWOFXREEHWA.txt\n"
     ]
    }
   ],
   "source": [
    "for folder, subfolder, file in os.walk('extracted_exercise\\\\extracted_content'):\n",
    "    print('Folder: '+ folder )\n",
    "\n",
    "    for f in file:\n",
    "        print('File: ' + f)"
   ]
  },
  {
   "cell_type": "code",
   "execution_count": 17,
   "metadata": {},
   "outputs": [],
   "source": [
    "inst = open('extracted_exercise\\\\extracted_content\\\\Instructions.txt','r')"
   ]
  },
  {
   "cell_type": "code",
   "execution_count": 19,
   "metadata": {},
   "outputs": [],
   "source": [
    "content = inst.read()"
   ]
  },
  {
   "cell_type": "code",
   "execution_count": 20,
   "metadata": {},
   "outputs": [
    {
     "data": {
      "text/plain": [
       "'Good work on unzipping the file!\\nYou should now see 5 folders, each with a lot of random .txt files.\\nWithin one of these text files is a telephone number formated ###-###-#### \\nUse the Python os module and regular expressions to iterate through each file, open it, and search for a telephone number.\\nGood luck!'"
      ]
     },
     "execution_count": 20,
     "metadata": {},
     "output_type": "execute_result"
    }
   ],
   "source": [
    "content"
   ]
  },
  {
   "cell_type": "code",
   "execution_count": 27,
   "metadata": {},
   "outputs": [],
   "source": [
    "pattern = r'\\d{3}-\\d{3}-\\d{4}'"
   ]
  },
  {
   "cell_type": "code",
   "execution_count": 28,
   "metadata": {},
   "outputs": [],
   "source": [
    "import re"
   ]
  },
  {
   "cell_type": "code",
   "execution_count": 43,
   "metadata": {},
   "outputs": [
    {
     "name": "stdout",
     "output_type": "stream",
     "text": [
      "['719-266-2837']\n"
     ]
    }
   ],
   "source": [
    "Pattern_Matchs = []\n",
    "\n",
    "for folder, subfolder, file in os.walk('extracted_exercise\\\\extracted_content'):\n",
    "    for f1 in file:\n",
    "        try:\n",
    "            f = open(f'{folder}\\\\{f1}','r')\n",
    "            content = f.read()\n",
    "            matches = re.findall(pattern,content)\n",
    "            Pattern_Matchs.extend(matches)\n",
    "        except:\n",
    "            print(f'{folder}\\\\{f1}')\n",
    "            print(\"File doesn't exist: \" + f1)\n",
    "\n",
    "print(Pattern_Matchs)"
   ]
  },
  {
   "cell_type": "code",
   "execution_count": null,
   "metadata": {},
   "outputs": [],
   "source": []
  },
  {
   "cell_type": "code",
   "execution_count": null,
   "metadata": {},
   "outputs": [],
   "source": []
  }
 ],
 "metadata": {
  "anaconda-cloud": {},
  "kernelspec": {
   "display_name": "Python 3 (ipykernel)",
   "language": "python",
   "name": "python3"
  },
  "language_info": {
   "codemirror_mode": {
    "name": "ipython",
    "version": 3
   },
   "file_extension": ".py",
   "mimetype": "text/x-python",
   "name": "python",
   "nbconvert_exporter": "python",
   "pygments_lexer": "ipython3",
   "version": "3.12.7"
  }
 },
 "nbformat": 4,
 "nbformat_minor": 4
}
