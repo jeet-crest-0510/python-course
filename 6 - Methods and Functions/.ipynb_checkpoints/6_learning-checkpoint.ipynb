{
 "cells": [
  {
   "cell_type": "markdown",
   "id": "dde55802-8c4d-4f95-823e-ec78512ca651",
   "metadata": {
    "jp-MarkdownHeadingCollapsed": true
   },
   "source": [
    "# Functions"
   ]
  },
  {
   "cell_type": "code",
   "execution_count": 6,
   "id": "9e0449ac-c30c-43c4-b89e-f0d50cf6c70d",
   "metadata": {},
   "outputs": [],
   "source": [
    "list1 = [1,2,3,4]"
   ]
  },
  {
   "cell_type": "code",
   "execution_count": 7,
   "id": "f90df025-d1b4-44e6-8978-f329abbab9e1",
   "metadata": {},
   "outputs": [
    {
     "data": {
      "text/plain": [
       "[5, 1, 2, 3, 4]"
      ]
     },
     "execution_count": 7,
     "metadata": {},
     "output_type": "execute_result"
    }
   ],
   "source": [
    "list1.insert(0,5)\n",
    "list1"
   ]
  },
  {
   "cell_type": "code",
   "execution_count": 8,
   "id": "f4c456fd-2c29-4aed-b045-d4d9e1d1b8e2",
   "metadata": {},
   "outputs": [
    {
     "name": "stdout",
     "output_type": "stream",
     "text": [
      "Hello\n"
     ]
    }
   ],
   "source": [
    "def display():\n",
    "    print(\"Hello\")\n",
    "\n",
    "display()"
   ]
  },
  {
   "cell_type": "code",
   "execution_count": 10,
   "id": "71e4e5d9-67b0-40e6-9544-8676be5a5003",
   "metadata": {},
   "outputs": [
    {
     "name": "stdout",
     "output_type": "stream",
     "text": [
      "Hello Jeet\n"
     ]
    }
   ],
   "source": [
    "def greet(name):\n",
    "    print(\"Hello \" + name)\n",
    "\n",
    "greet(\"Jeet\")"
   ]
  },
  {
   "cell_type": "code",
   "execution_count": 11,
   "id": "6f5949fd-1cf6-4c1e-ad96-b941be659186",
   "metadata": {},
   "outputs": [
    {
     "data": {
      "text/plain": [
       "2"
      ]
     },
     "execution_count": 11,
     "metadata": {},
     "output_type": "execute_result"
    }
   ],
   "source": [
    "def inc(num):\n",
    "    return num+1\n",
    "\n",
    "inc(1)"
   ]
  },
  {
   "cell_type": "code",
   "execution_count": 13,
   "id": "f23ed6d7-7258-4ff8-bef7-40b9f17d911f",
   "metadata": {},
   "outputs": [
    {
     "name": "stdout",
     "output_type": "stream",
     "text": [
      "Hello Default!!\n"
     ]
    }
   ],
   "source": [
    "def greet(name = 'Default'):\n",
    "    print(f'Hello {name}!!')\n",
    "\n",
    "greet()"
   ]
  },
  {
   "cell_type": "code",
   "execution_count": 14,
   "id": "cd74cb43-4d2f-453a-9fbe-451e3338c4af",
   "metadata": {},
   "outputs": [
    {
     "name": "stdout",
     "output_type": "stream",
     "text": [
      "Hello Jeet!!\n"
     ]
    }
   ],
   "source": [
    "greet(\"Jeet\")"
   ]
  },
  {
   "cell_type": "code",
   "execution_count": 15,
   "id": "1a25825e-d60c-45c9-a98e-cfb0e27d4746",
   "metadata": {},
   "outputs": [
    {
     "data": {
      "text/plain": [
       "3"
      ]
     },
     "execution_count": 15,
     "metadata": {},
     "output_type": "execute_result"
    }
   ],
   "source": [
    "def sum(a,b):\n",
    "    return a+b\n",
    "\n",
    "sum(1,2)"
   ]
  },
  {
   "cell_type": "code",
   "execution_count": 16,
   "id": "c1625123-671c-4f62-b315-19f34829f880",
   "metadata": {},
   "outputs": [
    {
     "data": {
      "text/plain": [
       "8"
      ]
     },
     "execution_count": 16,
     "metadata": {},
     "output_type": "execute_result"
    }
   ],
   "source": [
    "result = sum(5,3)\n",
    "result"
   ]
  },
  {
   "cell_type": "code",
   "execution_count": 17,
   "id": "24e35ef0-381d-4c45-9603-11a68e8b77be",
   "metadata": {},
   "outputs": [
    {
     "data": {
      "text/plain": [
       "'ab'"
      ]
     },
     "execution_count": 17,
     "metadata": {},
     "output_type": "execute_result"
    }
   ],
   "source": [
    "sum('a','b')"
   ]
  },
  {
   "cell_type": "code",
   "execution_count": 26,
   "id": "c93ba0d4-4956-448e-ad8e-603eb69cb934",
   "metadata": {},
   "outputs": [],
   "source": [
    "#sum('a', 2)\n",
    "#sum('a', True)\n",
    "#ErroR"
   ]
  },
  {
   "cell_type": "code",
   "execution_count": 22,
   "id": "aed72681-0d6e-4607-a505-aa3da80c8dbf",
   "metadata": {},
   "outputs": [
    {
     "data": {
      "text/plain": [
       "2"
      ]
     },
     "execution_count": 22,
     "metadata": {},
     "output_type": "execute_result"
    }
   ],
   "source": [
    "sum(True, True)"
   ]
  },
  {
   "cell_type": "code",
   "execution_count": 23,
   "id": "7d9475e4-19fd-49ed-a620-a53962a6db48",
   "metadata": {},
   "outputs": [
    {
     "data": {
      "text/plain": [
       "2.0"
      ]
     },
     "execution_count": 23,
     "metadata": {},
     "output_type": "execute_result"
    }
   ],
   "source": [
    "sum(1,1.0)"
   ]
  },
  {
   "cell_type": "code",
   "execution_count": 24,
   "id": "e0a7c36a-2b27-456a-b33b-5100cd086f63",
   "metadata": {},
   "outputs": [
    {
     "data": {
      "text/plain": [
       "2.0"
      ]
     },
     "execution_count": 24,
     "metadata": {},
     "output_type": "execute_result"
    }
   ],
   "source": [
    "sum(1.0 , True)"
   ]
  },
  {
   "cell_type": "code",
   "execution_count": 27,
   "id": "3d853985-afa3-4f08-bff8-74c569cea606",
   "metadata": {},
   "outputs": [
    {
     "data": {
      "text/plain": [
       "1"
      ]
     },
     "execution_count": 27,
     "metadata": {},
     "output_type": "execute_result"
    }
   ],
   "source": [
    "3%2"
   ]
  },
  {
   "cell_type": "code",
   "execution_count": 28,
   "id": "dac0b9b0-2ead-494e-8ab3-f8131c832929",
   "metadata": {},
   "outputs": [
    {
     "data": {
      "text/plain": [
       "True"
      ]
     },
     "execution_count": 28,
     "metadata": {},
     "output_type": "execute_result"
    }
   ],
   "source": [
    "def EVEN_CHECK(num):\n",
    "    return num%2==0\n",
    "\n",
    "EVEN_CHECK(20)"
   ]
  },
  {
   "cell_type": "code",
   "execution_count": 29,
   "id": "e0cfa5d8-2e1f-405a-b9a9-b3fd8dc856f8",
   "metadata": {},
   "outputs": [
    {
     "data": {
      "text/plain": [
       "False"
      ]
     },
     "execution_count": 29,
     "metadata": {},
     "output_type": "execute_result"
    }
   ],
   "source": [
    "EVEN_CHECK(11)"
   ]
  },
  {
   "cell_type": "code",
   "execution_count": 30,
   "id": "405cd508-0db1-490f-ab28-8b3b133a0407",
   "metadata": {},
   "outputs": [
    {
     "data": {
      "text/plain": [
       "[2, 4]"
      ]
     },
     "execution_count": 30,
     "metadata": {},
     "output_type": "execute_result"
    }
   ],
   "source": [
    "def even_list(list1):\n",
    "    even = []\n",
    "    for item in list1:\n",
    "        if item%2==0:\n",
    "            even.append(item)\n",
    "        else:\n",
    "            pass\n",
    "            \n",
    "    return even\n",
    "\n",
    "even_list([1,2,3,4,5])\n"
   ]
  },
  {
   "cell_type": "code",
   "execution_count": 31,
   "id": "a35feff0-8199-42fe-a32d-29df35d01c7f",
   "metadata": {},
   "outputs": [
    {
     "data": {
      "text/plain": [
       "[]"
      ]
     },
     "execution_count": 31,
     "metadata": {},
     "output_type": "execute_result"
    }
   ],
   "source": [
    "even_list([1,3,5])"
   ]
  },
  {
   "cell_type": "markdown",
   "id": "0d551a2a-e5aa-4b03-9974-b683f0704d66",
   "metadata": {
    "jp-MarkdownHeadingCollapsed": true
   },
   "source": [
    "# Guessing Game"
   ]
  },
  {
   "cell_type": "code",
   "execution_count": 32,
   "id": "f5b1179b-9a4a-4d94-ac7e-6d7a5e7bb29e",
   "metadata": {},
   "outputs": [],
   "source": [
    "from random import shuffle"
   ]
  },
  {
   "cell_type": "code",
   "execution_count": 48,
   "id": "ea3ec286-1c78-47a8-88f6-8c8e1701c5a6",
   "metadata": {},
   "outputs": [],
   "source": [
    "def shuffle_list(list1):\n",
    "    shuffle(list1)\n",
    "    return list1"
   ]
  },
  {
   "cell_type": "code",
   "execution_count": 49,
   "id": "8971b81e-ace9-4d37-a7fa-2d6a40e6742b",
   "metadata": {},
   "outputs": [],
   "source": [
    "def guess_num():\n",
    "    index = 3\n",
    "    while int(index) not in [0,1,2]:\n",
    "        index = input(\"Guess the number from [0,1,2]: \")\n",
    "    return int(index)"
   ]
  },
  {
   "cell_type": "code",
   "execution_count": 52,
   "id": "604b746f-a242-424f-9bc0-45f1df4c9e97",
   "metadata": {},
   "outputs": [],
   "source": [
    "def check(list1, index):\n",
    "    if list1[index] == 'O':\n",
    "        print(\"Correct Guess!\")\n",
    "    else:\n",
    "        print(\"Incorrect Guess!\")\n",
    "        print(list1)"
   ]
  },
  {
   "cell_type": "code",
   "execution_count": 54,
   "id": "7e4a949a-5012-4a4e-9351-38268d832a65",
   "metadata": {},
   "outputs": [
    {
     "name": "stdout",
     "output_type": "stream",
     "text": [
      "Current List is ['_', 'O', '_'], Now 'O' would be shuffled in the List\n"
     ]
    },
    {
     "name": "stdin",
     "output_type": "stream",
     "text": [
      "Guess the number from [0,1,2]:  3\n",
      "Guess the number from [0,1,2]:  2\n"
     ]
    },
    {
     "name": "stdout",
     "output_type": "stream",
     "text": [
      "Correct Guess!\n"
     ]
    },
    {
     "name": "stdin",
     "output_type": "stream",
     "text": [
      "\n",
      "For Restart Enter 1:  1\n"
     ]
    },
    {
     "name": "stdout",
     "output_type": "stream",
     "text": [
      "Current List is ['_', 'O', '_'], Now 'O' would be shuffled in the List\n"
     ]
    },
    {
     "name": "stdin",
     "output_type": "stream",
     "text": [
      "Guess the number from [0,1,2]:  1\n"
     ]
    },
    {
     "name": "stdout",
     "output_type": "stream",
     "text": [
      "Correct Guess!\n"
     ]
    },
    {
     "name": "stdin",
     "output_type": "stream",
     "text": [
      "\n",
      "For Restart Enter 1:  1\n"
     ]
    },
    {
     "name": "stdout",
     "output_type": "stream",
     "text": [
      "Current List is ['_', 'O', '_'], Now 'O' would be shuffled in the List\n"
     ]
    },
    {
     "name": "stdin",
     "output_type": "stream",
     "text": [
      "Guess the number from [0,1,2]:  1\n"
     ]
    },
    {
     "name": "stdout",
     "output_type": "stream",
     "text": [
      "Correct Guess!\n"
     ]
    },
    {
     "name": "stdin",
     "output_type": "stream",
     "text": [
      "\n",
      "For Restart Enter 1:  1\n"
     ]
    },
    {
     "name": "stdout",
     "output_type": "stream",
     "text": [
      "Current List is ['_', 'O', '_'], Now 'O' would be shuffled in the List\n"
     ]
    },
    {
     "name": "stdin",
     "output_type": "stream",
     "text": [
      "Guess the number from [0,1,2]:  1\n"
     ]
    },
    {
     "name": "stdout",
     "output_type": "stream",
     "text": [
      "Incorrect Guess!\n",
      "['O', '_', '_']\n"
     ]
    },
    {
     "name": "stdin",
     "output_type": "stream",
     "text": [
      "\n",
      "For Restart Enter 1:  1\n"
     ]
    },
    {
     "name": "stdout",
     "output_type": "stream",
     "text": [
      "Current List is ['_', 'O', '_'], Now 'O' would be shuffled in the List\n"
     ]
    },
    {
     "name": "stdin",
     "output_type": "stream",
     "text": [
      "Guess the number from [0,1,2]:  1\n"
     ]
    },
    {
     "name": "stdout",
     "output_type": "stream",
     "text": [
      "Incorrect Guess!\n",
      "['O', '_', '_']\n"
     ]
    },
    {
     "name": "stdin",
     "output_type": "stream",
     "text": [
      "\n",
      "For Restart Enter 1:  1\n"
     ]
    },
    {
     "name": "stdout",
     "output_type": "stream",
     "text": [
      "Current List is ['_', 'O', '_'], Now 'O' would be shuffled in the List\n"
     ]
    },
    {
     "name": "stdin",
     "output_type": "stream",
     "text": [
      "Guess the number from [0,1,2]:  2\n"
     ]
    },
    {
     "name": "stdout",
     "output_type": "stream",
     "text": [
      "Incorrect Guess!\n",
      "['O', '_', '_']\n"
     ]
    },
    {
     "name": "stdin",
     "output_type": "stream",
     "text": [
      "\n",
      "For Restart Enter 1:  true\n"
     ]
    },
    {
     "ename": "ValueError",
     "evalue": "invalid literal for int() with base 10: 'true'",
     "output_type": "error",
     "traceback": [
      "\u001b[1;31m---------------------------------------------------------------------------\u001b[0m",
      "\u001b[1;31mValueError\u001b[0m                                Traceback (most recent call last)",
      "Cell \u001b[1;32mIn[54], line 8\u001b[0m\n\u001b[0;32m      6\u001b[0m check(list1,index)\n\u001b[0;32m      7\u001b[0m var \u001b[38;5;241m=\u001b[39m \u001b[38;5;28minput\u001b[39m(\u001b[38;5;124m\"\u001b[39m\u001b[38;5;130;01m\\n\u001b[39;00m\u001b[38;5;124mFor Restart Enter 1: \u001b[39m\u001b[38;5;124m\"\u001b[39m)\n\u001b[1;32m----> 8\u001b[0m \u001b[38;5;28;01mif\u001b[39;00m(\u001b[38;5;28mint\u001b[39m(var)\u001b[38;5;241m!=\u001b[39m \u001b[38;5;241m1\u001b[39m):\n\u001b[0;32m      9\u001b[0m     \u001b[38;5;28;01mbreak\u001b[39;00m\n",
      "\u001b[1;31mValueError\u001b[0m: invalid literal for int() with base 10: 'true'"
     ]
    }
   ],
   "source": [
    "while True:\n",
    "    list1 = [\"_\" , \"O\", \"_\"]\n",
    "    print(f'Current List is {list1}, Now \\'O\\' would be shuffled in the List')\n",
    "    list1 = shuffle_list(list1)\n",
    "    index = guess_num()\n",
    "    check(list1,index)\n",
    "    var = input(\"\\nFor Restart Enter 1: \")\n",
    "    if(int(var)!= 1):\n",
    "        break"
   ]
  },
  {
   "cell_type": "markdown",
   "id": "e936649a-39b0-4dff-8cdf-4194a307fce9",
   "metadata": {
    "jp-MarkdownHeadingCollapsed": true
   },
   "source": [
    "# args & kwargs"
   ]
  },
  {
   "cell_type": "code",
   "execution_count": 1,
   "id": "c6595d11-0be8-407c-9e37-ed67e3ff119b",
   "metadata": {},
   "outputs": [],
   "source": [
    "def func(*args):\n",
    "    return min(args)"
   ]
  },
  {
   "cell_type": "code",
   "execution_count": 2,
   "id": "d0eae94f-7fb6-41db-877d-e4e0c623d60f",
   "metadata": {},
   "outputs": [
    {
     "data": {
      "text/plain": [
       "1"
      ]
     },
     "execution_count": 2,
     "metadata": {},
     "output_type": "execute_result"
    }
   ],
   "source": [
    "func(1,2,3)"
   ]
  },
  {
   "cell_type": "code",
   "execution_count": 3,
   "id": "ba2db695-be3c-4bab-bf6a-5703c5904f71",
   "metadata": {},
   "outputs": [],
   "source": [
    "def func1(**kwargs):\n",
    "    print(kwargs)\n",
    "    print(f'Hello {kwargs['name']}')"
   ]
  },
  {
   "cell_type": "code",
   "execution_count": 4,
   "id": "49a94394-ff56-4be5-b8e6-0a2415283841",
   "metadata": {},
   "outputs": [
    {
     "name": "stdout",
     "output_type": "stream",
     "text": [
      "{'name': 'Jeet', 'age': 21}\n",
      "Hello Jeet\n"
     ]
    }
   ],
   "source": [
    "func1(name = \"Jeet\", age=21)"
   ]
  },
  {
   "cell_type": "code",
   "execution_count": 5,
   "id": "146cf8fb-8813-47b5-adb2-0b876a121cef",
   "metadata": {},
   "outputs": [],
   "source": [
    "def func2( *price, **data):\n",
    "    print(data)\n",
    "    print(price)\n",
    "    print(f'{data['name']} : {sum(price)}')\n",
    "    "
   ]
  },
  {
   "cell_type": "code",
   "execution_count": 6,
   "id": "2752fdc6-f78a-4d1d-9105-c438162a4eaa",
   "metadata": {},
   "outputs": [
    {
     "name": "stdout",
     "output_type": "stream",
     "text": [
      "{'name': 'Jeet', 'lastname': 'Prajapati'}\n",
      "(100, 200, 3)\n",
      "Jeet : 303\n"
     ]
    }
   ],
   "source": [
    "func2(100,200,3, name = 'Jeet', lastname = \"Prajapati\") "
   ]
  },
  {
   "cell_type": "markdown",
   "id": "8c0e11c4-49f9-4662-bda0-6f0b72b59d79",
   "metadata": {},
   "source": [
    "# Lambda, Map, Filter"
   ]
  },
  {
   "cell_type": "code",
   "execution_count": 7,
   "id": "5d7f104a-af85-49f5-bc27-5c8ceac0b4eb",
   "metadata": {},
   "outputs": [],
   "source": [
    "l = lambda x: x*2"
   ]
  },
  {
   "cell_type": "code",
   "execution_count": 8,
   "id": "db768520-7070-4eed-8480-2e2966469291",
   "metadata": {},
   "outputs": [
    {
     "data": {
      "text/plain": [
       "10"
      ]
     },
     "execution_count": 8,
     "metadata": {},
     "output_type": "execute_result"
    }
   ],
   "source": [
    "l(5)"
   ]
  },
  {
   "cell_type": "code",
   "execution_count": 10,
   "id": "6f4724fe-1d98-4139-831c-a801ac860273",
   "metadata": {},
   "outputs": [],
   "source": [
    "def square(x):\n",
    "    return x**2"
   ]
  },
  {
   "cell_type": "code",
   "execution_count": 11,
   "id": "fb51fd03-7911-43e3-b498-b024f877e7f8",
   "metadata": {},
   "outputs": [],
   "source": [
    "list1 = [1,2,3,4,5]"
   ]
  },
  {
   "cell_type": "code",
   "execution_count": 12,
   "id": "598dc3e7-53a8-4653-802d-bbe7414c40dc",
   "metadata": {},
   "outputs": [
    {
     "data": {
      "text/plain": [
       "[1, 4, 9, 16, 25]"
      ]
     },
     "execution_count": 12,
     "metadata": {},
     "output_type": "execute_result"
    }
   ],
   "source": [
    "list(map(square,list1))"
   ]
  },
  {
   "cell_type": "code",
   "execution_count": 13,
   "id": "f5395ba3-a09a-4029-9d02-087a01773d5e",
   "metadata": {},
   "outputs": [
    {
     "data": {
      "text/plain": [
       "<map at 0x25fcc005b70>"
      ]
     },
     "execution_count": 13,
     "metadata": {},
     "output_type": "execute_result"
    }
   ],
   "source": [
    "map(square,list1)"
   ]
  },
  {
   "cell_type": "code",
   "execution_count": 14,
   "id": "09405b00-bf20-4bf7-9d0e-ae0d89473620",
   "metadata": {},
   "outputs": [
    {
     "name": "stdout",
     "output_type": "stream",
     "text": [
      "1\n",
      "4\n",
      "9\n",
      "16\n",
      "25\n"
     ]
    }
   ],
   "source": [
    "for num in map(square,list1):\n",
    "    print(num)"
   ]
  },
  {
   "cell_type": "code",
   "execution_count": 15,
   "id": "62352eb7-79dd-4047-9494-10ed68ed6bf6",
   "metadata": {},
   "outputs": [
    {
     "data": {
      "text/plain": [
       "[10, 20, 30, 40, 50]"
      ]
     },
     "execution_count": 15,
     "metadata": {},
     "output_type": "execute_result"
    }
   ],
   "source": [
    "list(map(lambda x: x*10,list1))"
   ]
  },
  {
   "cell_type": "code",
   "execution_count": 16,
   "id": "85174101-8473-4405-a638-aec564488d6d",
   "metadata": {},
   "outputs": [],
   "source": [
    "def odd(x):\n",
    "    return x%2"
   ]
  },
  {
   "cell_type": "code",
   "execution_count": 17,
   "id": "38208723-1ec1-432e-b00e-f5d991821e25",
   "metadata": {},
   "outputs": [
    {
     "data": {
      "text/plain": [
       "[1, 3, 5]"
      ]
     },
     "execution_count": 17,
     "metadata": {},
     "output_type": "execute_result"
    }
   ],
   "source": [
    "list(filter(odd,list1))"
   ]
  },
  {
   "cell_type": "code",
   "execution_count": 18,
   "id": "f6703d60-edc9-4f7c-b322-fe9213f05355",
   "metadata": {},
   "outputs": [
    {
     "data": {
      "text/plain": [
       "[1, 3, 5]"
      ]
     },
     "execution_count": 18,
     "metadata": {},
     "output_type": "execute_result"
    }
   ],
   "source": [
    "list(filter(lambda x: x%2==1,list1))"
   ]
  },
  {
   "cell_type": "code",
   "execution_count": 19,
   "id": "a4f95239-803c-4f6f-903b-be5790df82af",
   "metadata": {},
   "outputs": [],
   "source": [
    "x = lambda x,y: x**y"
   ]
  },
  {
   "cell_type": "code",
   "execution_count": 20,
   "id": "801573bc-2d8d-4edc-805d-fbc855ee2ff0",
   "metadata": {},
   "outputs": [
    {
     "data": {
      "text/plain": [
       "32"
      ]
     },
     "execution_count": 20,
     "metadata": {},
     "output_type": "execute_result"
    }
   ],
   "source": [
    "x(2,5)"
   ]
  },
  {
   "cell_type": "code",
   "execution_count": null,
   "id": "e8f9cb63-2a4f-4350-bbef-f8216c65e34c",
   "metadata": {},
   "outputs": [],
   "source": []
  }
 ],
 "metadata": {
  "kernelspec": {
   "display_name": "Python 3 (ipykernel)",
   "language": "python",
   "name": "python3"
  },
  "language_info": {
   "codemirror_mode": {
    "name": "ipython",
    "version": 3
   },
   "file_extension": ".py",
   "mimetype": "text/x-python",
   "name": "python",
   "nbconvert_exporter": "python",
   "pygments_lexer": "ipython3",
   "version": "3.12.7"
  }
 },
 "nbformat": 4,
 "nbformat_minor": 5
}
