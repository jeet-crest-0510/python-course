{
 "cells": [
  {
   "cell_type": "code",
   "execution_count": 16,
   "id": "2cf4cc5f-6dca-4108-ba02-a6ee41314799",
   "metadata": {},
   "outputs": [],
   "source": [
    "import smtplib"
   ]
  },
  {
   "cell_type": "code",
   "execution_count": 26,
   "id": "1c9d0ec1-5277-4f4c-93ef-334a69af49d6",
   "metadata": {},
   "outputs": [],
   "source": [
    "smtp_obj = smtplib.SMTP('smtp.gmail.com',587)"
   ]
  },
  {
   "cell_type": "code",
   "execution_count": 25,
   "id": "ecb67b7f-c920-4bf6-a6a6-478b50c13dc1",
   "metadata": {},
   "outputs": [
    {
     "data": {
      "text/plain": [
       "(250,\n",
       " b'smtp.gmail.com at your service, [123.201.110.130]\\nSIZE 35882577\\n8BITMIME\\nSTARTTLS\\nENHANCEDSTATUSCODES\\nPIPELINING\\nCHUNKING\\nSMTPUTF8')"
      ]
     },
     "execution_count": 25,
     "metadata": {},
     "output_type": "execute_result"
    }
   ],
   "source": [
    "smtp_obj.ehlo()"
   ]
  },
  {
   "cell_type": "code",
   "execution_count": 19,
   "id": "e96d5034-88b3-4f85-ae53-8f242e6ace0e",
   "metadata": {},
   "outputs": [
    {
     "data": {
      "text/plain": [
       "(220, b'2.0.0 Ready to start TLS')"
      ]
     },
     "execution_count": 19,
     "metadata": {},
     "output_type": "execute_result"
    }
   ],
   "source": [
    "smtp_obj.starttls()"
   ]
  },
  {
   "cell_type": "code",
   "execution_count": 20,
   "id": "ab12106e-8e9f-41c7-80f0-82890213216d",
   "metadata": {},
   "outputs": [
    {
     "name": "stdin",
     "output_type": "stream",
     "text": [
      "What is your Password as\n"
     ]
    }
   ],
   "source": [
    "password = input('What is your Password')"
   ]
  },
  {
   "cell_type": "code",
   "execution_count": 21,
   "id": "19d7790c-ac9e-4915-a38c-3ac9f9f86ad6",
   "metadata": {},
   "outputs": [],
   "source": [
    "import getpass"
   ]
  },
  {
   "cell_type": "code",
   "execution_count": 7,
   "id": "f8d1aa04-a816-4a5c-ba72-96cf3510b43e",
   "metadata": {},
   "outputs": [
    {
     "name": "stdin",
     "output_type": "stream",
     "text": [
      "Enter your password:  ········\n"
     ]
    }
   ],
   "source": [
    "password = getpass.getpass('Enter your password: ')"
   ]
  },
  {
   "cell_type": "code",
   "execution_count": 27,
   "id": "b922d761-ec8d-4fcc-a44f-065ab850ede6",
   "metadata": {},
   "outputs": [
    {
     "data": {
      "text/plain": [
       "(220, b'2.0.0 Ready to start TLS')"
      ]
     },
     "execution_count": 27,
     "metadata": {},
     "output_type": "execute_result"
    }
   ],
   "source": [
    "smtp_obj.starttls()"
   ]
  },
  {
   "cell_type": "code",
   "execution_count": 28,
   "id": "ed7c083a-498f-4ea8-9be9-16fdc14cb6b1",
   "metadata": {},
   "outputs": [
    {
     "name": "stdin",
     "output_type": "stream",
     "text": [
      "Email:  ········\n",
      "Password:  ········\n"
     ]
    },
    {
     "data": {
      "text/plain": [
       "(235, b'2.7.0 Accepted')"
      ]
     },
     "execution_count": 28,
     "metadata": {},
     "output_type": "execute_result"
    }
   ],
   "source": [
    "email = getpass.getpass('Email: ')\n",
    "password = getpass.getpass('Password: ')\n",
    "smtp_obj.login(email, password)"
   ]
  },
  {
   "cell_type": "code",
   "execution_count": 31,
   "id": "bc966b7d-dc00-4ac8-b4fa-7fa46f9e2674",
   "metadata": {},
   "outputs": [
    {
     "name": "stdin",
     "output_type": "stream",
     "text": [
      "Enter Subject:  Test Email \n",
      "Enter Message:  mail with python successful!!\n"
     ]
    },
    {
     "data": {
      "text/plain": [
       "{}"
      ]
     },
     "execution_count": 31,
     "metadata": {},
     "output_type": "execute_result"
    }
   ],
   "source": [
    "from_address = email\n",
    "to_address = email\n",
    "subject = input('Enter Subject: ')\n",
    "message = input('Enter Message: ')\n",
    "msg = 'Subject: ' +subject+ '\\n' + message\n",
    "\n",
    "smtp_obj.sendmail(from_address,to_address,msg)"
   ]
  },
  {
   "cell_type": "code",
   "execution_count": 32,
   "id": "7329f8fb-a7cf-4487-b52c-bbb983ddb647",
   "metadata": {},
   "outputs": [
    {
     "data": {
      "text/plain": [
       "(221,\n",
       " b'2.0.0 closing connection 98e67ed59e1d1-2f2ee06dd84sm28020596a91.38 - gsmtp')"
      ]
     },
     "execution_count": 32,
     "metadata": {},
     "output_type": "execute_result"
    }
   ],
   "source": [
    "smtp_obj.quit()"
   ]
  },
  {
   "cell_type": "code",
   "execution_count": 34,
   "id": "6c353db6-e500-4d01-b6a3-bb2e5e0efefc",
   "metadata": {},
   "outputs": [],
   "source": [
    "import imaplib"
   ]
  },
  {
   "cell_type": "code",
   "execution_count": 35,
   "id": "fb0b3be2-9cee-4a7e-ad90-d9f7c5b98a6b",
   "metadata": {},
   "outputs": [],
   "source": [
    "M = imaplib.IMAP4_SSL('imap.gmail.com')"
   ]
  },
  {
   "cell_type": "code",
   "execution_count": 36,
   "id": "a80002be-7b8c-46e2-adc3-00e7e228e22f",
   "metadata": {},
   "outputs": [
    {
     "name": "stdin",
     "output_type": "stream",
     "text": [
      "Email:  ········\n",
      "Password:  ········\n"
     ]
    },
    {
     "data": {
      "text/plain": [
       "('OK', [b'jeet.p@crestskillserve.com authenticated (Success)'])"
      ]
     },
     "execution_count": 36,
     "metadata": {},
     "output_type": "execute_result"
    }
   ],
   "source": [
    "email = getpass.getpass('Email: ')\n",
    "password = getpass.getpass('Password: ')\n",
    "\n",
    "M.login(email,password)"
   ]
  },
  {
   "cell_type": "code",
   "execution_count": 37,
   "id": "40976da7-f75b-4503-a18a-b49e92ba26e9",
   "metadata": {},
   "outputs": [
    {
     "data": {
      "text/plain": [
       "('OK',\n",
       " [b'(\\\\HasNoChildren) \"/\" \"INBOX\"',\n",
       "  b'(\\\\HasChildren \\\\Noselect) \"/\" \"[Gmail]\"',\n",
       "  b'(\\\\All \\\\HasNoChildren) \"/\" \"[Gmail]/All Mail\"',\n",
       "  b'(\\\\Drafts \\\\HasNoChildren) \"/\" \"[Gmail]/Drafts\"',\n",
       "  b'(\\\\HasNoChildren \\\\Important) \"/\" \"[Gmail]/Important\"',\n",
       "  b'(\\\\HasNoChildren \\\\Sent) \"/\" \"[Gmail]/Sent Mail\"',\n",
       "  b'(\\\\HasNoChildren \\\\Junk) \"/\" \"[Gmail]/Spam\"',\n",
       "  b'(\\\\Flagged \\\\HasNoChildren) \"/\" \"[Gmail]/Starred\"',\n",
       "  b'(\\\\HasNoChildren \\\\Trash) \"/\" \"[Gmail]/Trash\"'])"
      ]
     },
     "execution_count": 37,
     "metadata": {},
     "output_type": "execute_result"
    }
   ],
   "source": [
    "M.list()"
   ]
  },
  {
   "cell_type": "code",
   "execution_count": 39,
   "id": "6037c168-d153-49dd-803e-c2d6c453637d",
   "metadata": {},
   "outputs": [
    {
     "data": {
      "text/plain": [
       "('OK', [b'31'])"
      ]
     },
     "execution_count": 39,
     "metadata": {},
     "output_type": "execute_result"
    }
   ],
   "source": [
    "M.select('inbox')"
   ]
  },
  {
   "cell_type": "code",
   "execution_count": 40,
   "id": "c35c4702-ea1c-4a8b-a870-bb52f35d08ea",
   "metadata": {},
   "outputs": [],
   "source": [
    "typ, data = M.search(None, 'SUBJECT \"Test Email\"')"
   ]
  },
  {
   "cell_type": "code",
   "execution_count": 41,
   "id": "869a0586-052c-4ba7-a31d-7f3c11511048",
   "metadata": {},
   "outputs": [
    {
     "data": {
      "text/plain": [
       "'OK'"
      ]
     },
     "execution_count": 41,
     "metadata": {},
     "output_type": "execute_result"
    }
   ],
   "source": [
    "typ"
   ]
  },
  {
   "cell_type": "code",
   "execution_count": 42,
   "id": "a54f692f-ffd7-47c0-a0bb-e1f685e88a03",
   "metadata": {},
   "outputs": [
    {
     "data": {
      "text/plain": [
       "[b'31']"
      ]
     },
     "execution_count": 42,
     "metadata": {},
     "output_type": "execute_result"
    }
   ],
   "source": [
    "data"
   ]
  },
  {
   "cell_type": "code",
   "execution_count": 43,
   "id": "fc3787f5-dfcc-4db5-a79e-ef17c6e6d7c4",
   "metadata": {},
   "outputs": [],
   "source": [
    "email_id = data[0]"
   ]
  },
  {
   "cell_type": "code",
   "execution_count": 44,
   "id": "c30b92f1-5e13-418d-a2cd-b98a4b5e695d",
   "metadata": {},
   "outputs": [],
   "source": [
    "result, email_data = M.fetch(email_id, '(RFC822)')"
   ]
  },
  {
   "cell_type": "code",
   "execution_count": 45,
   "id": "0711f7d0-6759-425b-a0cf-75f69425f105",
   "metadata": {},
   "outputs": [
    {
     "data": {
      "text/plain": [
       "'OK'"
      ]
     },
     "execution_count": 45,
     "metadata": {},
     "output_type": "execute_result"
    }
   ],
   "source": [
    "result"
   ]
  },
  {
   "cell_type": "code",
   "execution_count": 46,
   "id": "d7627509-2b2e-4b97-b9d9-dad836128cee",
   "metadata": {},
   "outputs": [
    {
     "data": {
      "text/plain": [
       "[(b'31 (RFC822 {585}',\n",
       "  b'Bcc: jeet.p@crestskillserve.com\\r\\nReturn-Path: <jeet.p@crestskillserve.com>\\r\\nReceived: from [192.168.0.222] ([123.201.110.130])\\r\\n        by smtp.gmail.com with ESMTPSA id 98e67ed59e1d1-2f2ee06dd84sm28020596a91.38.2024.12.31.20.30.04\\r\\n        for <jeet.p@crestskillserve.com>\\r\\n        (version=TLS1_3 cipher=TLS_AES_256_GCM_SHA384 bits=256/256);\\r\\n        Tue, 31 Dec 2024 20:30:06 -0800 (PST)\\r\\nMessage-ID: <6774c4ce.170a0220.2f53f3.ce3b@mx.google.com>\\r\\nDate: Tue, 31 Dec 2024 20:30:06 -0800 (PST)\\r\\nFrom: jeet.p@crestskillserve.com\\r\\nSubject: Test Email \\r\\n\\r\\nmail with python successful!!\\r\\n'),\n",
       " b')']"
      ]
     },
     "execution_count": 46,
     "metadata": {},
     "output_type": "execute_result"
    }
   ],
   "source": [
    "email_data"
   ]
  },
  {
   "cell_type": "code",
   "execution_count": 51,
   "id": "1d2a9234-3953-4caa-9305-c45e51b629ab",
   "metadata": {},
   "outputs": [
    {
     "data": {
      "text/plain": [
       "b'Bcc: jeet.p@crestskillserve.com\\r\\nReturn-Path: <jeet.p@crestskillserve.com>\\r\\nReceived: from [192.168.0.222] ([123.201.110.130])\\r\\n        by smtp.gmail.com with ESMTPSA id 98e67ed59e1d1-2f2ee06dd84sm28020596a91.38.2024.12.31.20.30.04\\r\\n        for <jeet.p@crestskillserve.com>\\r\\n        (version=TLS1_3 cipher=TLS_AES_256_GCM_SHA384 bits=256/256);\\r\\n        Tue, 31 Dec 2024 20:30:06 -0800 (PST)\\r\\nMessage-ID: <6774c4ce.170a0220.2f53f3.ce3b@mx.google.com>\\r\\nDate: Tue, 31 Dec 2024 20:30:06 -0800 (PST)\\r\\nFrom: jeet.p@crestskillserve.com\\r\\nSubject: Test Email \\r\\n\\r\\nmail with python successful!!\\r\\n'"
      ]
     },
     "execution_count": 51,
     "metadata": {},
     "output_type": "execute_result"
    }
   ],
   "source": [
    "raw_email = email_data[0][1]\n",
    "raw_email"
   ]
  },
  {
   "cell_type": "code",
   "execution_count": 52,
   "id": "b9921f2a-b27e-41f2-8a8c-d908063952d3",
   "metadata": {},
   "outputs": [
    {
     "data": {
      "text/plain": [
       "'Bcc: jeet.p@crestskillserve.com\\r\\nReturn-Path: <jeet.p@crestskillserve.com>\\r\\nReceived: from [192.168.0.222] ([123.201.110.130])\\r\\n        by smtp.gmail.com with ESMTPSA id 98e67ed59e1d1-2f2ee06dd84sm28020596a91.38.2024.12.31.20.30.04\\r\\n        for <jeet.p@crestskillserve.com>\\r\\n        (version=TLS1_3 cipher=TLS_AES_256_GCM_SHA384 bits=256/256);\\r\\n        Tue, 31 Dec 2024 20:30:06 -0800 (PST)\\r\\nMessage-ID: <6774c4ce.170a0220.2f53f3.ce3b@mx.google.com>\\r\\nDate: Tue, 31 Dec 2024 20:30:06 -0800 (PST)\\r\\nFrom: jeet.p@crestskillserve.com\\r\\nSubject: Test Email \\r\\n\\r\\nmail with python successful!!\\r\\n'"
      ]
     },
     "execution_count": 52,
     "metadata": {},
     "output_type": "execute_result"
    }
   ],
   "source": [
    "raw_email_string = raw_email.decode('utf-8')\n",
    "raw_email_string"
   ]
  },
  {
   "cell_type": "code",
   "execution_count": 54,
   "id": "e2325856-8e3e-43f8-98e7-1f01db952e36",
   "metadata": {},
   "outputs": [],
   "source": [
    "import email"
   ]
  },
  {
   "cell_type": "code",
   "execution_count": 55,
   "id": "6064f813-fc4a-444b-83c2-ad2cdf1c7319",
   "metadata": {},
   "outputs": [
    {
     "data": {
      "text/plain": [
       "<email.message.Message at 0x1b4c3b340e0>"
      ]
     },
     "execution_count": 55,
     "metadata": {},
     "output_type": "execute_result"
    }
   ],
   "source": [
    "email_message = email.message_from_string(raw_email_string)\n",
    "email_message"
   ]
  },
  {
   "cell_type": "code",
   "execution_count": 56,
   "id": "307d1ebe-b6ab-4a7e-8739-9418a0cdbee6",
   "metadata": {},
   "outputs": [
    {
     "name": "stdout",
     "output_type": "stream",
     "text": [
      "b'mail with python successful!!\\r\\n'\n"
     ]
    }
   ],
   "source": [
    "for part in email_message.walk():\n",
    "    if part.get_content_type() == 'text/plain':\n",
    "        body = part.get_payload(decode = True)\n",
    "        print(body)"
   ]
  },
  {
   "cell_type": "code",
   "execution_count": null,
   "id": "fd03fd32-5308-48ae-b17d-a3188dd5044f",
   "metadata": {},
   "outputs": [],
   "source": []
  }
 ],
 "metadata": {
  "kernelspec": {
   "display_name": "Python 3 (ipykernel)",
   "language": "python",
   "name": "python3"
  },
  "language_info": {
   "codemirror_mode": {
    "name": "ipython",
    "version": 3
   },
   "file_extension": ".py",
   "mimetype": "text/x-python",
   "name": "python",
   "nbconvert_exporter": "python",
   "pygments_lexer": "ipython3",
   "version": "3.12.7"
  }
 },
 "nbformat": 4,
 "nbformat_minor": 5
}
