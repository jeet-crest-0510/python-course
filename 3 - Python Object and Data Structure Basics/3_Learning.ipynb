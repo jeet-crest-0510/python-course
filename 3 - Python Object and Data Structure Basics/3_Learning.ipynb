{
 "cells": [
  {
   "cell_type": "code",
   "execution_count": 1,
   "id": "06615700-8cde-427b-8db1-9b2f6f719fe1",
   "metadata": {
    "scrolled": true
   },
   "outputs": [
    {
     "name": "stdout",
     "output_type": "stream",
     "text": [
      "Hello\n"
     ]
    }
   ],
   "source": [
    "print(\"Hello\")"
   ]
  },
  {
   "cell_type": "markdown",
   "id": "2a0b41d2-b55a-496f-a2f8-ed97001474c8",
   "metadata": {
    "jp-MarkdownHeadingCollapsed": true
   },
   "source": [
    "# Python Numbers"
   ]
  },
  {
   "cell_type": "code",
   "execution_count": 1,
   "id": "c8b412b1-3285-47da-a61e-9fb65454b2aa",
   "metadata": {},
   "outputs": [
    {
     "data": {
      "text/plain": [
       "4"
      ]
     },
     "execution_count": 1,
     "metadata": {},
     "output_type": "execute_result"
    }
   ],
   "source": [
    "2+2"
   ]
  },
  {
   "cell_type": "code",
   "execution_count": 2,
   "id": "baf675ae-9e0a-4931-8f6f-37c7344fcbe3",
   "metadata": {},
   "outputs": [
    {
     "data": {
      "text/plain": [
       "0"
      ]
     },
     "execution_count": 2,
     "metadata": {},
     "output_type": "execute_result"
    }
   ],
   "source": [
    "2-2"
   ]
  },
  {
   "cell_type": "code",
   "execution_count": 3,
   "id": "4d5d9367-b9ca-4386-9bee-3f4ecd0257d1",
   "metadata": {},
   "outputs": [
    {
     "data": {
      "text/plain": [
       "4"
      ]
     },
     "execution_count": 3,
     "metadata": {},
     "output_type": "execute_result"
    }
   ],
   "source": [
    "2*2"
   ]
  },
  {
   "cell_type": "code",
   "execution_count": 5,
   "id": "543a6e6a-f6b3-4725-b8dd-24bc481c3fe4",
   "metadata": {},
   "outputs": [
    {
     "data": {
      "text/plain": [
       "2.0"
      ]
     },
     "execution_count": 5,
     "metadata": {},
     "output_type": "execute_result"
    }
   ],
   "source": [
    "4/2"
   ]
  },
  {
   "cell_type": "code",
   "execution_count": 6,
   "id": "4620e5cc-c0ec-4121-bbaf-bf6f7b375d72",
   "metadata": {},
   "outputs": [
    {
     "data": {
      "text/plain": [
       "1"
      ]
     },
     "execution_count": 6,
     "metadata": {},
     "output_type": "execute_result"
    }
   ],
   "source": [
    "7 % 3"
   ]
  },
  {
   "cell_type": "code",
   "execution_count": 7,
   "id": "2fdbd720-055a-418b-b626-5e1d529c1bd2",
   "metadata": {},
   "outputs": [
    {
     "data": {
      "text/plain": [
       "8"
      ]
     },
     "execution_count": 7,
     "metadata": {},
     "output_type": "execute_result"
    }
   ],
   "source": [
    "2**3"
   ]
  },
  {
   "cell_type": "code",
   "execution_count": 8,
   "id": "67bc9301-b099-4811-805f-b3567d6664e8",
   "metadata": {},
   "outputs": [
    {
     "data": {
      "text/plain": [
       "55.0"
      ]
     },
     "execution_count": 8,
     "metadata": {},
     "output_type": "execute_result"
    }
   ],
   "source": [
    "2+10*10/2+3"
   ]
  },
  {
   "cell_type": "markdown",
   "id": "33b5be56-f966-442e-8f94-73e564cf835c",
   "metadata": {
    "jp-MarkdownHeadingCollapsed": true
   },
   "source": [
    "# Variable Assignment"
   ]
  },
  {
   "cell_type": "code",
   "execution_count": 11,
   "id": "8ee07f44-0a6b-41c3-a327-6fffb0952a6e",
   "metadata": {},
   "outputs": [
    {
     "data": {
      "text/plain": [
       "['DSA', 'DBMS']"
      ]
     },
     "execution_count": 11,
     "metadata": {},
     "output_type": "execute_result"
    }
   ],
   "source": [
    "# Dynamic Typing\n",
    "\n",
    "subjects = 2\n",
    "subjects\n",
    "\n",
    "subjects = ['DSA','DBMS']\n",
    "subjects"
   ]
  },
  {
   "cell_type": "code",
   "execution_count": 12,
   "id": "19aab99a-0e44-4170-ac87-ac2b595207fe",
   "metadata": {},
   "outputs": [],
   "source": [
    "a=10"
   ]
  },
  {
   "cell_type": "code",
   "execution_count": 13,
   "id": "55b5180f-10f2-4cee-a16a-48a016326cfa",
   "metadata": {},
   "outputs": [
    {
     "data": {
      "text/plain": [
       "10"
      ]
     },
     "execution_count": 13,
     "metadata": {},
     "output_type": "execute_result"
    }
   ],
   "source": [
    "a"
   ]
  },
  {
   "cell_type": "code",
   "execution_count": 14,
   "id": "dd4c9a4f-6033-4fc5-ba75-2c0a9cea8b9b",
   "metadata": {},
   "outputs": [],
   "source": [
    "a=20"
   ]
  },
  {
   "cell_type": "code",
   "execution_count": 15,
   "id": "13548de4-b60b-4a99-bc6c-51bf6af349dc",
   "metadata": {},
   "outputs": [
    {
     "data": {
      "text/plain": [
       "20"
      ]
     },
     "execution_count": 15,
     "metadata": {},
     "output_type": "execute_result"
    }
   ],
   "source": [
    "a"
   ]
  },
  {
   "cell_type": "code",
   "execution_count": 22,
   "id": "9b63a702-61e3-4b3b-a0a8-caeb41e5e5d6",
   "metadata": {},
   "outputs": [],
   "source": [
    "a=a+a  #Re-run cell -> 1) a=20 2) a=40 3) a=80 ..."
   ]
  },
  {
   "cell_type": "code",
   "execution_count": 23,
   "id": "b388acb0-90ec-45ca-a358-00b3244332d1",
   "metadata": {},
   "outputs": [
    {
     "data": {
      "text/plain": [
       "320"
      ]
     },
     "execution_count": 23,
     "metadata": {},
     "output_type": "execute_result"
    }
   ],
   "source": [
    "a"
   ]
  },
  {
   "cell_type": "code",
   "execution_count": 24,
   "id": "22feab9c-7aa9-42dc-91eb-f1956fbf6eb7",
   "metadata": {},
   "outputs": [
    {
     "data": {
      "text/plain": [
       "int"
      ]
     },
     "execution_count": 24,
     "metadata": {},
     "output_type": "execute_result"
    }
   ],
   "source": [
    "type(a)"
   ]
  },
  {
   "cell_type": "code",
   "execution_count": 25,
   "id": "428fc14a-3efe-455c-a18f-6c0ae43186a3",
   "metadata": {},
   "outputs": [
    {
     "data": {
      "text/plain": [
       "'Jeet'"
      ]
     },
     "execution_count": 25,
     "metadata": {},
     "output_type": "execute_result"
    }
   ],
   "source": [
    "a = \"Jeet\"\n",
    "a"
   ]
  },
  {
   "cell_type": "code",
   "execution_count": 26,
   "id": "ed318c39-1de0-44d4-be05-2d73f3ffef6c",
   "metadata": {},
   "outputs": [
    {
     "data": {
      "text/plain": [
       "str"
      ]
     },
     "execution_count": 26,
     "metadata": {},
     "output_type": "execute_result"
    }
   ],
   "source": [
    "type(a)"
   ]
  },
  {
   "cell_type": "code",
   "execution_count": 27,
   "id": "a62b3623-86ef-4a70-865c-2a12628296a5",
   "metadata": {},
   "outputs": [
    {
     "data": {
      "text/plain": [
       "tuple"
      ]
     },
     "execution_count": 27,
     "metadata": {},
     "output_type": "execute_result"
    }
   ],
   "source": [
    "type((1,2,3))"
   ]
  },
  {
   "cell_type": "code",
   "execution_count": 28,
   "id": "87ca7417-c8f7-457b-80f9-cb8345726535",
   "metadata": {},
   "outputs": [
    {
     "data": {
      "text/plain": [
       "100.0"
      ]
     },
     "execution_count": 28,
     "metadata": {},
     "output_type": "execute_result"
    }
   ],
   "source": [
    "income= 1000\n",
    "tax_rate = 0.1\n",
    "\n",
    "tax = income * tax_rate\n",
    "tax"
   ]
  },
  {
   "cell_type": "markdown",
   "id": "883ff188-824f-475a-a887-527afb756ba8",
   "metadata": {
    "jp-MarkdownHeadingCollapsed": true
   },
   "source": [
    "# Strings"
   ]
  },
  {
   "cell_type": "code",
   "execution_count": 31,
   "id": "1bef45b2-d745-4027-aa97-b2c1fa9357d7",
   "metadata": {},
   "outputs": [
    {
     "data": {
      "text/plain": [
       "'Hello'"
      ]
     },
     "execution_count": 31,
     "metadata": {},
     "output_type": "execute_result"
    }
   ],
   "source": [
    "'Hello'"
   ]
  },
  {
   "cell_type": "code",
   "execution_count": 32,
   "id": "25c5201f-961a-4906-87c6-966e21977a8c",
   "metadata": {},
   "outputs": [
    {
     "data": {
      "text/plain": [
       "'World'"
      ]
     },
     "execution_count": 32,
     "metadata": {},
     "output_type": "execute_result"
    }
   ],
   "source": [
    "\"World\""
   ]
  },
  {
   "cell_type": "code",
   "execution_count": 33,
   "id": "5f88507e-7a7a-42d2-a79f-2b2c18e94e19",
   "metadata": {},
   "outputs": [
    {
     "data": {
      "text/plain": [
       "\" I'm running \""
      ]
     },
     "execution_count": 33,
     "metadata": {},
     "output_type": "execute_result"
    }
   ],
   "source": [
    "\" I'm running \""
   ]
  },
  {
   "cell_type": "code",
   "execution_count": 35,
   "id": "4ff7dff9-2603-4221-a66e-ecff21f891a2",
   "metadata": {},
   "outputs": [
    {
     "name": "stdout",
     "output_type": "stream",
     "text": [
      "Hello \n",
      "World\n"
     ]
    }
   ],
   "source": [
    "print(\"Hello \\nWorld\")"
   ]
  },
  {
   "cell_type": "code",
   "execution_count": 36,
   "id": "4a09fc17-bc02-4856-ae35-9af85979d90b",
   "metadata": {},
   "outputs": [
    {
     "name": "stdout",
     "output_type": "stream",
     "text": [
      "Hello \tWorld\n"
     ]
    }
   ],
   "source": [
    "print(\"Hello \\tWorld\")"
   ]
  },
  {
   "cell_type": "code",
   "execution_count": 37,
   "id": "d837db14-6156-445d-a99d-2abbf09bc5c7",
   "metadata": {},
   "outputs": [
    {
     "name": "stdout",
     "output_type": "stream",
     "text": [
      "5\n"
     ]
    }
   ],
   "source": [
    "print(len('Hello'))"
   ]
  },
  {
   "cell_type": "code",
   "execution_count": 38,
   "id": "3727fb4f-1ff3-4c9e-98b3-f27d43450d13",
   "metadata": {},
   "outputs": [],
   "source": [
    "my_str = \"Hello\""
   ]
  },
  {
   "cell_type": "code",
   "execution_count": 39,
   "id": "620a9fe9-b48f-446e-82d2-3df09df9fd86",
   "metadata": {},
   "outputs": [
    {
     "data": {
      "text/plain": [
       "'H'"
      ]
     },
     "execution_count": 39,
     "metadata": {},
     "output_type": "execute_result"
    }
   ],
   "source": [
    "my_str[0]"
   ]
  },
  {
   "cell_type": "code",
   "execution_count": 40,
   "id": "be24082f-09d8-4b54-a2de-e2b61949ccd9",
   "metadata": {},
   "outputs": [
    {
     "data": {
      "text/plain": [
       "'l'"
      ]
     },
     "execution_count": 40,
     "metadata": {},
     "output_type": "execute_result"
    }
   ],
   "source": [
    "my_str[-2]"
   ]
  },
  {
   "cell_type": "code",
   "execution_count": 41,
   "id": "8c9b7c9c-8fef-482a-88c0-e336c5b94c83",
   "metadata": {},
   "outputs": [
    {
     "data": {
      "text/plain": [
       "'He'"
      ]
     },
     "execution_count": 41,
     "metadata": {},
     "output_type": "execute_result"
    }
   ],
   "source": [
    "my_str[:2]"
   ]
  },
  {
   "cell_type": "code",
   "execution_count": 45,
   "id": "ea827505-7025-4cb5-8fc6-a30558b909b7",
   "metadata": {},
   "outputs": [
    {
     "data": {
      "text/plain": [
       "'llo'"
      ]
     },
     "execution_count": 45,
     "metadata": {},
     "output_type": "execute_result"
    }
   ],
   "source": [
    "my_str[-3:]"
   ]
  },
  {
   "cell_type": "code",
   "execution_count": 46,
   "id": "2401d292-ac63-46dd-80e2-122c10961a28",
   "metadata": {},
   "outputs": [
    {
     "data": {
      "text/plain": [
       "'Hlo'"
      ]
     },
     "execution_count": 46,
     "metadata": {},
     "output_type": "execute_result"
    }
   ],
   "source": [
    "my_str[::2]"
   ]
  },
  {
   "cell_type": "code",
   "execution_count": 47,
   "id": "ccb2cd70-2fa3-4d59-b5fd-c90cd82bb5ab",
   "metadata": {},
   "outputs": [
    {
     "data": {
      "text/plain": [
       "'olleH'"
      ]
     },
     "execution_count": 47,
     "metadata": {},
     "output_type": "execute_result"
    }
   ],
   "source": [
    "my_str[::-1]"
   ]
  },
  {
   "cell_type": "code",
   "execution_count": 48,
   "id": "2f11cce3-a4ba-4cf4-b143-8487e3495473",
   "metadata": {},
   "outputs": [],
   "source": [
    "# Immutability\n",
    "\n",
    "name = \"Jeet\"\n",
    "\n",
    "#name[0] = 'M' not possible"
   ]
  },
  {
   "cell_type": "code",
   "execution_count": 50,
   "id": "87d82184-fd3c-427b-8fd7-f5f96c63e9bb",
   "metadata": {},
   "outputs": [],
   "source": [
    "last_letters = name[1:]"
   ]
  },
  {
   "cell_type": "code",
   "execution_count": 51,
   "id": "49afc4a1-c481-4d43-af9a-bcfa14e0b6df",
   "metadata": {},
   "outputs": [
    {
     "data": {
      "text/plain": [
       "'eet'"
      ]
     },
     "execution_count": 51,
     "metadata": {},
     "output_type": "execute_result"
    }
   ],
   "source": [
    "last_letters"
   ]
  },
  {
   "cell_type": "code",
   "execution_count": 52,
   "id": "147f9281-b8b2-4d59-a9b5-0e7b8fb48d83",
   "metadata": {},
   "outputs": [
    {
     "data": {
      "text/plain": [
       "'Meet'"
      ]
     },
     "execution_count": 52,
     "metadata": {},
     "output_type": "execute_result"
    }
   ],
   "source": [
    "'M' + last_letters"
   ]
  },
  {
   "cell_type": "code",
   "execution_count": 57,
   "id": "c91c9103-4e21-4c87-91f9-e79c26f35b4b",
   "metadata": {},
   "outputs": [],
   "source": [
    "name += ' Hello '"
   ]
  },
  {
   "cell_type": "code",
   "execution_count": 58,
   "id": "54919f3e-873d-4fef-bb2d-a0b41851db32",
   "metadata": {},
   "outputs": [
    {
     "data": {
      "text/plain": [
       "'Jeet Hello Hello '"
      ]
     },
     "execution_count": 58,
     "metadata": {},
     "output_type": "execute_result"
    }
   ],
   "source": [
    "name"
   ]
  },
  {
   "cell_type": "code",
   "execution_count": 59,
   "id": "f7f18a59-a734-4aa5-9cd3-5540c44198e1",
   "metadata": {},
   "outputs": [
    {
     "data": {
      "text/plain": [
       "'Jeet Hello Hello Jeet Hello Hello Jeet Hello Hello Jeet Hello Hello Jeet Hello Hello Jeet Hello Hello Jeet Hello Hello Jeet Hello Hello Jeet Hello Hello Jeet Hello Hello '"
      ]
     },
     "execution_count": 59,
     "metadata": {},
     "output_type": "execute_result"
    }
   ],
   "source": [
    "name*10"
   ]
  },
  {
   "cell_type": "code",
   "execution_count": 60,
   "id": "bb596ce6-5df2-4824-8e20-2a35b6ddcf64",
   "metadata": {},
   "outputs": [
    {
     "data": {
      "text/plain": [
       "'Hello Hello Hello Hello Hello '"
      ]
     },
     "execution_count": 60,
     "metadata": {},
     "output_type": "execute_result"
    }
   ],
   "source": [
    "'Hello '*5"
   ]
  },
  {
   "cell_type": "code",
   "execution_count": 61,
   "id": "3b013cba-48d8-4aae-b52d-4f2d2d0be8c8",
   "metadata": {},
   "outputs": [
    {
     "data": {
      "text/plain": [
       "'23'"
      ]
     },
     "execution_count": 61,
     "metadata": {},
     "output_type": "execute_result"
    }
   ],
   "source": [
    "'2' + '3'"
   ]
  },
  {
   "cell_type": "code",
   "execution_count": 63,
   "id": "f331bc5d-77cf-471b-9481-90bf028ec2d4",
   "metadata": {},
   "outputs": [
    {
     "data": {
      "text/plain": [
       "'JEET'"
      ]
     },
     "execution_count": 63,
     "metadata": {},
     "output_type": "execute_result"
    }
   ],
   "source": [
    "a.upper()"
   ]
  },
  {
   "cell_type": "code",
   "execution_count": 64,
   "id": "af8edc69-668c-457a-9e6d-8dd7163d562a",
   "metadata": {},
   "outputs": [
    {
     "data": {
      "text/plain": [
       "'jeet'"
      ]
     },
     "execution_count": 64,
     "metadata": {},
     "output_type": "execute_result"
    }
   ],
   "source": [
    "a.lower()"
   ]
  },
  {
   "cell_type": "code",
   "execution_count": 65,
   "id": "b47cb74b-b64a-46be-9ab8-7c4d7b66ab4e",
   "metadata": {},
   "outputs": [
    {
     "data": {
      "text/plain": [
       "['Jeet', 'Hello', 'Hello']"
      ]
     },
     "execution_count": 65,
     "metadata": {},
     "output_type": "execute_result"
    }
   ],
   "source": [
    "name.split()"
   ]
  },
  {
   "cell_type": "code",
   "execution_count": 67,
   "id": "42482141-4223-4ae6-ad32-8f463408115d",
   "metadata": {},
   "outputs": [
    {
     "name": "stdout",
     "output_type": "stream",
     "text": [
      "['Hello', 'World']\n"
     ]
    }
   ],
   "source": [
    "print(\"Hello_World\".split(\"_\"))"
   ]
  },
  {
   "cell_type": "code",
   "execution_count": 70,
   "id": "1c746fdd-c26e-41a9-8c4d-1ab421aa1d2f",
   "metadata": {},
   "outputs": [
    {
     "name": "stdout",
     "output_type": "stream",
     "text": [
      "Hello Jeet\n",
      "Hello  Jeet\n"
     ]
    }
   ],
   "source": [
    "name = \"Jeet\"\n",
    "print(\"Hello \" + name)\n",
    "print(\"Hello \", name)"
   ]
  },
  {
   "cell_type": "code",
   "execution_count": 71,
   "id": "a7aedb50-5f7c-4139-8074-122232587428",
   "metadata": {},
   "outputs": [
    {
     "name": "stdout",
     "output_type": "stream",
     "text": [
      "Hello Jeet\n"
     ]
    }
   ],
   "source": [
    "txt = \"Hello {}\"\n",
    "print(txt.format(\"Jeet\"))"
   ]
  },
  {
   "cell_type": "code",
   "execution_count": 73,
   "id": "6cba0f7a-ee50-4578-8dae-ceaddd2a146a",
   "metadata": {},
   "outputs": [
    {
     "name": "stdout",
     "output_type": "stream",
     "text": [
      "Hello Jeet!\n"
     ]
    }
   ],
   "source": [
    "print(\"Hello {0}!\".format(\"Jeet\", \"Jay\"))"
   ]
  },
  {
   "cell_type": "code",
   "execution_count": 74,
   "id": "e84440ae-0572-41ee-9b07-4fbddaac97e7",
   "metadata": {},
   "outputs": [
    {
     "name": "stdout",
     "output_type": "stream",
     "text": [
      "Hello Jay!\n"
     ]
    }
   ],
   "source": [
    "print(\"Hello {1}!\".format(\"Jeet\", \"Jay\"))"
   ]
  },
  {
   "cell_type": "code",
   "execution_count": 77,
   "id": "33bf4e83-9ada-418e-88d1-623faae1cdc3",
   "metadata": {},
   "outputs": [
    {
     "name": "stdout",
     "output_type": "stream",
     "text": [
      "Hello Jeet!\n"
     ]
    }
   ],
   "source": [
    "# print(\"Hello {name}!\".format( name =\"Jeet\", \"Jay\")) not possible\n",
    "print(\"Hello {name}!\".format( name =\"Jeet\"))"
   ]
  },
  {
   "cell_type": "code",
   "execution_count": 82,
   "id": "09145722-77df-4fc4-9d6d-fd3858dc897b",
   "metadata": {},
   "outputs": [
    {
     "name": "stdout",
     "output_type": "stream",
     "text": [
      "16.666666666666668\n",
      "Result is     16.667\n"
     ]
    }
   ],
   "source": [
    "result = 100/6\n",
    "print(result)\n",
    "print(\"Result is {r:10.3f}\".format(r = result))"
   ]
  },
  {
   "cell_type": "code",
   "execution_count": 83,
   "id": "ba6cccaf-4296-4265-9e86-91ab403c24ba",
   "metadata": {},
   "outputs": [
    {
     "name": "stdout",
     "output_type": "stream",
     "text": [
      "Hello Jeet\n"
     ]
    }
   ],
   "source": [
    "print(f'Hello {name}')"
   ]
  },
  {
   "cell_type": "markdown",
   "id": "97e9eed8-2179-4ea7-9b55-ce43089f1e78",
   "metadata": {
    "jp-MarkdownHeadingCollapsed": true
   },
   "source": [
    "# Lists"
   ]
  },
  {
   "cell_type": "code",
   "execution_count": 2,
   "id": "cfdab6dd-e42a-4b95-be33-1ce659c5ebae",
   "metadata": {},
   "outputs": [],
   "source": [
    "list1 = [1,2,3]"
   ]
  },
  {
   "cell_type": "code",
   "execution_count": 3,
   "id": "bf373818-f6a6-4649-9d8e-f50ca5d70dcb",
   "metadata": {},
   "outputs": [
    {
     "data": {
      "text/plain": [
       "[1, 2, 3]"
      ]
     },
     "execution_count": 3,
     "metadata": {},
     "output_type": "execute_result"
    }
   ],
   "source": [
    "list1"
   ]
  },
  {
   "cell_type": "code",
   "execution_count": 4,
   "id": "f45b0e87-bac2-4f85-a35c-c26781164f6e",
   "metadata": {},
   "outputs": [
    {
     "data": {
      "text/plain": [
       "['Hello', 1, True]"
      ]
     },
     "execution_count": 4,
     "metadata": {},
     "output_type": "execute_result"
    }
   ],
   "source": [
    "['Hello', 1, True]"
   ]
  },
  {
   "cell_type": "code",
   "execution_count": 5,
   "id": "c4e5653b-3282-43d7-8486-51c1ae62798c",
   "metadata": {},
   "outputs": [
    {
     "data": {
      "text/plain": [
       "3"
      ]
     },
     "execution_count": 5,
     "metadata": {},
     "output_type": "execute_result"
    }
   ],
   "source": [
    "len(list1)"
   ]
  },
  {
   "cell_type": "code",
   "execution_count": 6,
   "id": "9025a627-f06a-473e-82ed-15f3aa11ee90",
   "metadata": {},
   "outputs": [
    {
     "data": {
      "text/plain": [
       "1"
      ]
     },
     "execution_count": 6,
     "metadata": {},
     "output_type": "execute_result"
    }
   ],
   "source": [
    "list1[0]"
   ]
  },
  {
   "cell_type": "code",
   "execution_count": 7,
   "id": "c178a80d-9002-4623-821c-5a08599ab326",
   "metadata": {},
   "outputs": [],
   "source": [
    "list2 = [4,5]"
   ]
  },
  {
   "cell_type": "code",
   "execution_count": 8,
   "id": "93dac6d3-f84c-4d16-9d0f-1111fff757e7",
   "metadata": {},
   "outputs": [
    {
     "data": {
      "text/plain": [
       "[1, 2, 3, 4, 5]"
      ]
     },
     "execution_count": 8,
     "metadata": {},
     "output_type": "execute_result"
    }
   ],
   "source": [
    "newList = list1 + list2\n",
    "newList"
   ]
  },
  {
   "cell_type": "code",
   "execution_count": 9,
   "id": "fb3499c3-e715-4f7a-820f-c6be51d5969c",
   "metadata": {},
   "outputs": [
    {
     "data": {
      "text/plain": [
       "[0, 2, 3, 4, 5]"
      ]
     },
     "execution_count": 9,
     "metadata": {},
     "output_type": "execute_result"
    }
   ],
   "source": [
    "newList[0] = 0\n",
    "newList"
   ]
  },
  {
   "cell_type": "code",
   "execution_count": 10,
   "id": "2256017b-125e-4f2b-9bef-3cdd3a804210",
   "metadata": {},
   "outputs": [
    {
     "data": {
      "text/plain": [
       "[0, 2, 3, 4, 5, 6]"
      ]
     },
     "execution_count": 10,
     "metadata": {},
     "output_type": "execute_result"
    }
   ],
   "source": [
    "newList.append(6)\n",
    "newList"
   ]
  },
  {
   "cell_type": "code",
   "execution_count": 11,
   "id": "805e1074-9b27-4559-9141-09b45335e463",
   "metadata": {},
   "outputs": [
    {
     "data": {
      "text/plain": [
       "6"
      ]
     },
     "execution_count": 11,
     "metadata": {},
     "output_type": "execute_result"
    }
   ],
   "source": [
    "newList.pop()"
   ]
  },
  {
   "cell_type": "code",
   "execution_count": 12,
   "id": "cb739fea-b9da-429d-b104-dc13afae9693",
   "metadata": {},
   "outputs": [
    {
     "data": {
      "text/plain": [
       "0"
      ]
     },
     "execution_count": 12,
     "metadata": {},
     "output_type": "execute_result"
    }
   ],
   "source": [
    "newList.pop(0)"
   ]
  },
  {
   "cell_type": "code",
   "execution_count": 13,
   "id": "ee53dbee-4ca6-42e1-8f1d-39abc2de2c6d",
   "metadata": {},
   "outputs": [
    {
     "data": {
      "text/plain": [
       "[2, 3, 4, 5]"
      ]
     },
     "execution_count": 13,
     "metadata": {},
     "output_type": "execute_result"
    }
   ],
   "source": [
    "newList"
   ]
  },
  {
   "cell_type": "code",
   "execution_count": 14,
   "id": "a570ab03-fdfd-4b00-bd8e-fdef4be63d4b",
   "metadata": {},
   "outputs": [
    {
     "data": {
      "text/plain": [
       "[3, 2, 7, 5]"
      ]
     },
     "execution_count": 14,
     "metadata": {},
     "output_type": "execute_result"
    }
   ],
   "source": [
    "list1 = [3,2,7,5]\n",
    "list1"
   ]
  },
  {
   "cell_type": "code",
   "execution_count": 15,
   "id": "950e2f47-28a2-4768-b8b9-9566e0d9ef04",
   "metadata": {},
   "outputs": [
    {
     "data": {
      "text/plain": [
       "[2, 3, 5, 7]"
      ]
     },
     "execution_count": 15,
     "metadata": {},
     "output_type": "execute_result"
    }
   ],
   "source": [
    "list1.sort()\n",
    "list1"
   ]
  },
  {
   "cell_type": "code",
   "execution_count": 17,
   "id": "65a99e2f-61c4-4740-a1bb-0c34154f561e",
   "metadata": {},
   "outputs": [
    {
     "data": {
      "text/plain": [
       "[7, 5, 3, 2]"
      ]
     },
     "execution_count": 17,
     "metadata": {},
     "output_type": "execute_result"
    }
   ],
   "source": [
    "list1.sort(reverse=True)\n",
    "list1"
   ]
  },
  {
   "cell_type": "code",
   "execution_count": 19,
   "id": "d97d87a4-f343-481e-bfee-7a3ea4ebc9cc",
   "metadata": {},
   "outputs": [
    {
     "data": {
      "text/plain": [
       "NoneType"
      ]
     },
     "execution_count": 19,
     "metadata": {},
     "output_type": "execute_result"
    }
   ],
   "source": [
    "sList = list1.sort()\n",
    "type(sList)"
   ]
  },
  {
   "cell_type": "code",
   "execution_count": 21,
   "id": "8cb6c056-9313-4c57-b3ab-1e59ae1ed83f",
   "metadata": {},
   "outputs": [
    {
     "data": {
      "text/plain": [
       "[2, 3, 5, 7]"
      ]
     },
     "execution_count": 21,
     "metadata": {},
     "output_type": "execute_result"
    }
   ],
   "source": [
    "list1"
   ]
  },
  {
   "cell_type": "code",
   "execution_count": 22,
   "id": "1809ca20-0a4a-4925-8ed8-55cec030eb78",
   "metadata": {},
   "outputs": [
    {
     "data": {
      "text/plain": [
       "list"
      ]
     },
     "execution_count": 22,
     "metadata": {},
     "output_type": "execute_result"
    }
   ],
   "source": [
    "type(list1)"
   ]
  },
  {
   "cell_type": "code",
   "execution_count": 23,
   "id": "ccdc1336-c4cb-4bca-bc58-18ada2e5e085",
   "metadata": {},
   "outputs": [
    {
     "data": {
      "text/plain": [
       "[7, 5, 3, 2]"
      ]
     },
     "execution_count": 23,
     "metadata": {},
     "output_type": "execute_result"
    }
   ],
   "source": [
    "list1.reverse()\n",
    "list1"
   ]
  },
  {
   "cell_type": "markdown",
   "id": "9f861963-aba9-47a0-ac59-6db519d653f1",
   "metadata": {},
   "source": [
    "# Dictionaries"
   ]
  },
  {
   "cell_type": "code",
   "execution_count": 29,
   "id": "ccd30d8d-5a33-4370-8d4c-21138b07e1da",
   "metadata": {},
   "outputs": [
    {
     "data": {
      "text/plain": [
       "{'name': 'Jeet', 'age': 21, 'k1': [1, 2, 3], 'k2': {'city': 'anjar'}}"
      ]
     },
     "execution_count": 29,
     "metadata": {},
     "output_type": "execute_result"
    }
   ],
   "source": [
    "person = {\n",
    "    \"name\": \"Jeet\",\n",
    "    \"age\": 21,\n",
    "    \"k1\": [1,2,3],\n",
    "    \"k2\": {\n",
    "        \"city\" : \"anjar\",\n",
    "    }\n",
    "}\n",
    "person"
   ]
  },
  {
   "cell_type": "code",
   "execution_count": 25,
   "id": "d4ed7e96-bb2c-4ee4-a310-662eb4a8981f",
   "metadata": {},
   "outputs": [
    {
     "data": {
      "text/plain": [
       "'Jeet'"
      ]
     },
     "execution_count": 25,
     "metadata": {},
     "output_type": "execute_result"
    }
   ],
   "source": [
    "person[\"name\"]"
   ]
  },
  {
   "cell_type": "code",
   "execution_count": 27,
   "id": "2a95b873-b07a-4796-94af-2dc105b769be",
   "metadata": {},
   "outputs": [
    {
     "data": {
      "text/plain": [
       "2"
      ]
     },
     "execution_count": 27,
     "metadata": {},
     "output_type": "execute_result"
    }
   ],
   "source": [
    "len(person)"
   ]
  },
  {
   "cell_type": "code",
   "execution_count": 28,
   "id": "dc4ebe79-e8cd-4422-8353-1867bb985449",
   "metadata": {},
   "outputs": [
    {
     "data": {
      "text/plain": [
       "21"
      ]
     },
     "execution_count": 28,
     "metadata": {},
     "output_type": "execute_result"
    }
   ],
   "source": [
    "person.get(\"age\")"
   ]
  },
  {
   "cell_type": "code",
   "execution_count": 30,
   "id": "dd133c23-30d1-4bb8-9c8e-dc0bcdb9e86c",
   "metadata": {},
   "outputs": [
    {
     "data": {
      "text/plain": [
       "[1, 2, 3]"
      ]
     },
     "execution_count": 30,
     "metadata": {},
     "output_type": "execute_result"
    }
   ],
   "source": [
    "person['k1']"
   ]
  },
  {
   "cell_type": "code",
   "execution_count": 31,
   "id": "08eda694-5568-402d-908f-2454445362a4",
   "metadata": {},
   "outputs": [
    {
     "data": {
      "text/plain": [
       "'anjar'"
      ]
     },
     "execution_count": 31,
     "metadata": {},
     "output_type": "execute_result"
    }
   ],
   "source": [
    "person['k2']['city']"
   ]
  },
  {
   "cell_type": "code",
   "execution_count": 32,
   "id": "859dcaa0-183e-47e6-aa79-b98776b933dd",
   "metadata": {},
   "outputs": [
    {
     "data": {
      "text/plain": [
       "{'name': 'Jeet', 'age': 20, 'k1': [1, 2, 3], 'k2': {'city': 'anjar'}}"
      ]
     },
     "execution_count": 32,
     "metadata": {},
     "output_type": "execute_result"
    }
   ],
   "source": [
    "person['age'] = 20\n",
    "person"
   ]
  },
  {
   "cell_type": "code",
   "execution_count": 33,
   "id": "37c5c04d-c097-4c85-90f9-a464fab0fac2",
   "metadata": {},
   "outputs": [
    {
     "data": {
      "text/plain": [
       "[1, 2, 3]"
      ]
     },
     "execution_count": 33,
     "metadata": {},
     "output_type": "execute_result"
    }
   ],
   "source": [
    "person.pop('k1')"
   ]
  },
  {
   "cell_type": "code",
   "execution_count": 34,
   "id": "b41aebb6-f288-4b1f-96b3-2b2ff5f09ff1",
   "metadata": {},
   "outputs": [
    {
     "data": {
      "text/plain": [
       "{'name': 'Jeet', 'age': 20, 'k2': {'city': 'anjar'}}"
      ]
     },
     "execution_count": 34,
     "metadata": {},
     "output_type": "execute_result"
    }
   ],
   "source": [
    "person"
   ]
  },
  {
   "cell_type": "code",
   "execution_count": null,
   "id": "df89b73e-3dbb-4af9-b678-d4aa75e22638",
   "metadata": {},
   "outputs": [],
   "source": [
    "person"
   ]
  }
 ],
 "metadata": {
  "kernelspec": {
   "display_name": "Python 3 (ipykernel)",
   "language": "python",
   "name": "python3"
  },
  "language_info": {
   "codemirror_mode": {
    "name": "ipython",
    "version": 3
   },
   "file_extension": ".py",
   "mimetype": "text/x-python",
   "name": "python",
   "nbconvert_exporter": "python",
   "pygments_lexer": "ipython3",
   "version": "3.12.7"
  }
 },
 "nbformat": 4,
 "nbformat_minor": 5
}
