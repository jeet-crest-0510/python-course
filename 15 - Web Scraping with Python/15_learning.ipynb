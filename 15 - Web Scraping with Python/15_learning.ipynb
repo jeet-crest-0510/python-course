{
 "cells": [
  {
   "cell_type": "code",
   "execution_count": 1,
   "id": "30044e4a-cf43-45f6-81fb-fc18e2d2b153",
   "metadata": {},
   "outputs": [],
   "source": [
    "import requests"
   ]
  },
  {
   "cell_type": "code",
   "execution_count": 3,
   "id": "74283713-def1-4f07-b0f8-636d78e399ac",
   "metadata": {},
   "outputs": [],
   "source": [
    "result = requests.get('https://en.wikipedia.org/wiki/Jonas_Salk')"
   ]
  },
  {
   "cell_type": "code",
   "execution_count": 4,
   "id": "eceafd86-9d24-4ed5-af4f-e63653516986",
   "metadata": {},
   "outputs": [
    {
     "data": {
      "text/plain": [
       "requests.models.Response"
      ]
     },
     "execution_count": 4,
     "metadata": {},
     "output_type": "execute_result"
    }
   ],
   "source": [
    "type(result)"
   ]
  },
  {
   "cell_type": "code",
   "execution_count": 13,
   "id": "3b2446b0-91ed-4437-b920-163d0088c5f0",
   "metadata": {},
   "outputs": [],
   "source": [
    "#result.text"
   ]
  },
  {
   "cell_type": "code",
   "execution_count": 2,
   "id": "354ea80e-3035-4870-9bce-07e5c145e815",
   "metadata": {},
   "outputs": [],
   "source": [
    "import bs4"
   ]
  },
  {
   "cell_type": "code",
   "execution_count": 6,
   "id": "81b83270-8468-4898-af6b-372a22a9dc78",
   "metadata": {},
   "outputs": [],
   "source": [
    "soup = bs4.BeautifulSoup(result.text,'lxml')"
   ]
  },
  {
   "cell_type": "code",
   "execution_count": 14,
   "id": "ad1002f2-cd3e-45e1-9d1a-11ca58fb4186",
   "metadata": {},
   "outputs": [],
   "source": [
    "#soup"
   ]
  },
  {
   "cell_type": "code",
   "execution_count": 8,
   "id": "6ccad966-7049-4594-8881-ee39a7fe64a8",
   "metadata": {},
   "outputs": [
    {
     "data": {
      "text/plain": [
       "[<title>Jonas Salk - Wikipedia</title>]"
      ]
     },
     "execution_count": 8,
     "metadata": {},
     "output_type": "execute_result"
    }
   ],
   "source": [
    "soup.select('title')"
   ]
  },
  {
   "cell_type": "code",
   "execution_count": 9,
   "id": "cbafe0a0-506e-414c-9d45-7f9b7e1c6b2b",
   "metadata": {},
   "outputs": [
    {
     "data": {
      "text/plain": [
       "'Jonas Salk - Wikipedia'"
      ]
     },
     "execution_count": 9,
     "metadata": {},
     "output_type": "execute_result"
    }
   ],
   "source": [
    "soup.select('title')[0].getText()"
   ]
  },
  {
   "cell_type": "code",
   "execution_count": 11,
   "id": "ddb92f52-f6d4-407b-ac9a-a41583b58f65",
   "metadata": {},
   "outputs": [
    {
     "data": {
      "text/plain": [
       "[<h2 class=\"vector-pinnable-header-label\">Contents</h2>,\n",
       " <h2 id=\"Early_life_and_education\">Early life and education</h2>,\n",
       " <h2 id=\"Polio_research\">Polio research</h2>,\n",
       " <h2 id=\"Becoming_a_public_figure\">Becoming a public figure</h2>,\n",
       " <h2 id=\"Establishing_the_Salk_Institute\">Establishing the Salk Institute</h2>,\n",
       " <h2 id=\"AIDS_vaccine_work\">AIDS vaccine work</h2>,\n",
       " <h2 id=\"Salk's_biophilosophy\"><span id=\"Salk.27s_biophilosophy\"></span>Salk's biophilosophy</h2>,\n",
       " <h2 id=\"Personal_life_and_death\">Personal life and death</h2>,\n",
       " <h2 id=\"Honors_and_recognition\">Honors and recognition</h2>,\n",
       " <h2 id=\"Selected_publications\">Selected publications</h2>,\n",
       " <h2 id=\"References\">References</h2>,\n",
       " <h2 id=\"Further_reading\">Further reading</h2>,\n",
       " <h2 id=\"External_links\">External links</h2>]"
      ]
     },
     "execution_count": 11,
     "metadata": {},
     "output_type": "execute_result"
    }
   ],
   "source": [
    "soup.select('h2')"
   ]
  },
  {
   "cell_type": "code",
   "execution_count": 12,
   "id": "085bb98c-a536-4358-b141-9f916d5d4aab",
   "metadata": {},
   "outputs": [
    {
     "data": {
      "text/plain": [
       "<h2 class=\"vector-pinnable-header-label\">Contents</h2>"
      ]
     },
     "execution_count": 12,
     "metadata": {},
     "output_type": "execute_result"
    }
   ],
   "source": [
    "soup.select_one('h2')"
   ]
  },
  {
   "cell_type": "code",
   "execution_count": 15,
   "id": "d87b7c3e-a5cd-4f1a-ba8c-8e47ebb7c935",
   "metadata": {},
   "outputs": [
    {
     "data": {
      "text/plain": [
       "'Contents'"
      ]
     },
     "execution_count": 15,
     "metadata": {},
     "output_type": "execute_result"
    }
   ],
   "source": [
    "soup.select('h2')[0].getText()"
   ]
  },
  {
   "cell_type": "code",
   "execution_count": 16,
   "id": "23e7a786-4248-41e0-bb9a-93d5995687c8",
   "metadata": {},
   "outputs": [
    {
     "data": {
      "text/plain": [
       "bs4.element.Tag"
      ]
     },
     "execution_count": 16,
     "metadata": {},
     "output_type": "execute_result"
    }
   ],
   "source": [
    "type(soup.select_one('h2'))"
   ]
  },
  {
   "cell_type": "code",
   "execution_count": 17,
   "id": "9e77ce56-3ea5-4440-822b-5d3a1699a836",
   "metadata": {},
   "outputs": [
    {
     "data": {
      "text/plain": [
       "str"
      ]
     },
     "execution_count": 17,
     "metadata": {},
     "output_type": "execute_result"
    }
   ],
   "source": [
    "type(soup.select('h2')[0].getText())"
   ]
  },
  {
   "cell_type": "code",
   "execution_count": 18,
   "id": "f227cb22-ce7c-421b-87ec-8e6528c8d96f",
   "metadata": {},
   "outputs": [],
   "source": [
    "res = requests.get('https://en.wikipedia.org/wiki/Grace_Hopper')"
   ]
  },
  {
   "cell_type": "code",
   "execution_count": 19,
   "id": "d7bee3f1-6877-486d-b62c-59dc30d7da64",
   "metadata": {},
   "outputs": [],
   "source": [
    "soup = bs4.BeautifulSoup(res.text,'lxml')"
   ]
  },
  {
   "cell_type": "code",
   "execution_count": 21,
   "id": "0098c216-a868-4b0c-ae2c-6bc13be6eb47",
   "metadata": {},
   "outputs": [],
   "source": [
    "#soup"
   ]
  },
  {
   "cell_type": "code",
   "execution_count": 22,
   "id": "823cfe61-dbe4-444e-b217-9a7cbeacc504",
   "metadata": {},
   "outputs": [
    {
     "data": {
      "text/plain": [
       "[<table class=\"wikitable\" style=\"text-align:center;\">\n",
       " <tbody><tr>\n",
       " <th scope=\"row\">Rank\n",
       " </th>\n",
       " <th scope=\"col\"><a href=\"/wiki/Midshipman\" title=\"Midshipman\">Midshipman</a><br/>MIDN\n",
       " </th>\n",
       " <th scope=\"col\"><a href=\"/wiki/Lieutenant_(junior_grade)\" title=\"Lieutenant (junior grade)\">Lieutenant junior grade</a><br/>O-2\n",
       " </th>\n",
       " <th scope=\"col\"><a href=\"/wiki/Lieutenant_(navy)\" title=\"Lieutenant (navy)\">Lieutenant</a><br/>O-3\n",
       " </th>\n",
       " <th scope=\"col\"><a href=\"/wiki/Lieutenant_commander_(United_States)\" title=\"Lieutenant commander (United States)\">Lieutenant commander</a><br/>O-4\n",
       " </th>\n",
       " <th scope=\"col\"><a href=\"/wiki/Commander_(United_States)\" title=\"Commander (United States)\">Commander</a><br/>O-5\n",
       " </th>\n",
       " <th scope=\"col\"><a href=\"/wiki/Captain_(United_States_O-6)\" title=\"Captain (United States O-6)\">Captain</a><br/>O-6\n",
       " </th>\n",
       " <th scope=\"col\"><a href=\"/wiki/Commodore_(United_States)\" title=\"Commodore (United States)\">Commodore</a>/<br/><a href=\"/wiki/Rear_admiral_(United_States)\" title=\"Rear admiral (United States)\">Rear admiral (lower half)</a><br/>O-7\n",
       " </th></tr>\n",
       " <tr>\n",
       " <th scope=\"row\">Insignia\n",
       " </th>\n",
       " <td>N/A\n",
       " </td>\n",
       " <td><span typeof=\"mw:File\"><a class=\"mw-file-description\" href=\"/wiki/File:US_Navy_O2_insignia.svg\"><img class=\"mw-file-element\" data-file-height=\"420\" data-file-width=\"245\" decoding=\"async\" height=\"103\" src=\"//upload.wikimedia.org/wikipedia/commons/thumb/3/38/US_Navy_O2_insignia.svg/60px-US_Navy_O2_insignia.svg.png\" srcset=\"//upload.wikimedia.org/wikipedia/commons/thumb/3/38/US_Navy_O2_insignia.svg/90px-US_Navy_O2_insignia.svg.png 1.5x, //upload.wikimedia.org/wikipedia/commons/thumb/3/38/US_Navy_O2_insignia.svg/120px-US_Navy_O2_insignia.svg.png 2x\" width=\"60\"/></a></span>\n",
       " </td>\n",
       " <td><span typeof=\"mw:File\"><a class=\"mw-file-description\" href=\"/wiki/File:US_Navy_O3_insignia.svg\"><img class=\"mw-file-element\" data-file-height=\"420\" data-file-width=\"245\" decoding=\"async\" height=\"103\" src=\"//upload.wikimedia.org/wikipedia/commons/thumb/0/02/US_Navy_O3_insignia.svg/60px-US_Navy_O3_insignia.svg.png\" srcset=\"//upload.wikimedia.org/wikipedia/commons/thumb/0/02/US_Navy_O3_insignia.svg/90px-US_Navy_O3_insignia.svg.png 1.5x, //upload.wikimedia.org/wikipedia/commons/thumb/0/02/US_Navy_O3_insignia.svg/120px-US_Navy_O3_insignia.svg.png 2x\" width=\"60\"/></a></span>\n",
       " </td>\n",
       " <td><span typeof=\"mw:File\"><a class=\"mw-file-description\" href=\"/wiki/File:U.S._Navy_O-4_insignia.svg\"><img class=\"mw-file-element\" data-file-height=\"420\" data-file-width=\"245\" decoding=\"async\" height=\"103\" src=\"//upload.wikimedia.org/wikipedia/commons/thumb/8/87/U.S._Navy_O-4_insignia.svg/60px-U.S._Navy_O-4_insignia.svg.png\" srcset=\"//upload.wikimedia.org/wikipedia/commons/thumb/8/87/U.S._Navy_O-4_insignia.svg/90px-U.S._Navy_O-4_insignia.svg.png 1.5x, //upload.wikimedia.org/wikipedia/commons/thumb/8/87/U.S._Navy_O-4_insignia.svg/120px-U.S._Navy_O-4_insignia.svg.png 2x\" width=\"60\"/></a></span>\n",
       " </td>\n",
       " <td><span typeof=\"mw:File\"><a class=\"mw-file-description\" href=\"/wiki/File:US_Navy_O5_insignia.svg\"><img class=\"mw-file-element\" data-file-height=\"420\" data-file-width=\"245\" decoding=\"async\" height=\"103\" src=\"//upload.wikimedia.org/wikipedia/commons/thumb/b/be/US_Navy_O5_insignia.svg/60px-US_Navy_O5_insignia.svg.png\" srcset=\"//upload.wikimedia.org/wikipedia/commons/thumb/b/be/US_Navy_O5_insignia.svg/90px-US_Navy_O5_insignia.svg.png 1.5x, //upload.wikimedia.org/wikipedia/commons/thumb/b/be/US_Navy_O5_insignia.svg/120px-US_Navy_O5_insignia.svg.png 2x\" width=\"60\"/></a></span>\n",
       " </td>\n",
       " <td><span typeof=\"mw:File\"><a class=\"mw-file-description\" href=\"/wiki/File:US_Navy_O6_insignia.svg\"><img class=\"mw-file-element\" data-file-height=\"420\" data-file-width=\"245\" decoding=\"async\" height=\"103\" src=\"//upload.wikimedia.org/wikipedia/commons/thumb/c/c0/US_Navy_O6_insignia.svg/60px-US_Navy_O6_insignia.svg.png\" srcset=\"//upload.wikimedia.org/wikipedia/commons/thumb/c/c0/US_Navy_O6_insignia.svg/90px-US_Navy_O6_insignia.svg.png 1.5x, //upload.wikimedia.org/wikipedia/commons/thumb/c/c0/US_Navy_O6_insignia.svg/120px-US_Navy_O6_insignia.svg.png 2x\" width=\"60\"/></a></span>\n",
       " </td>\n",
       " <td><span typeof=\"mw:File\"><a class=\"mw-file-description\" href=\"/wiki/File:US_Navy_O7_insignia.svg\"><img class=\"mw-file-element\" data-file-height=\"420\" data-file-width=\"245\" decoding=\"async\" height=\"103\" src=\"//upload.wikimedia.org/wikipedia/commons/thumb/d/d9/US_Navy_O7_insignia.svg/60px-US_Navy_O7_insignia.svg.png\" srcset=\"//upload.wikimedia.org/wikipedia/commons/thumb/d/d9/US_Navy_O7_insignia.svg/90px-US_Navy_O7_insignia.svg.png 1.5x, //upload.wikimedia.org/wikipedia/commons/thumb/d/d9/US_Navy_O7_insignia.svg/120px-US_Navy_O7_insignia.svg.png 2x\" width=\"60\"/></a></span>\n",
       " </td></tr>\n",
       " <tr>\n",
       " <th scope=\"row\">Date\n",
       " </th>\n",
       " <td>May 4, 1944<sup class=\"reference\" id=\"cite_ref-USNavy_55-0\"><a href=\"#cite_note-USNavy-55\"><span class=\"cite-bracket\">[</span>55<span class=\"cite-bracket\">]</span></a></sup>\n",
       " </td>\n",
       " <td>June 27, 1944<sup class=\"reference\" id=\"cite_ref-USNavy_55-1\"><a href=\"#cite_note-USNavy-55\"><span class=\"cite-bracket\">[</span>55<span class=\"cite-bracket\">]</span></a></sup>\n",
       " </td>\n",
       " <td>June 1, 1946<sup class=\"reference\" id=\"cite_ref-USNavy_55-2\"><a href=\"#cite_note-USNavy-55\"><span class=\"cite-bracket\">[</span>55<span class=\"cite-bracket\">]</span></a></sup>\n",
       " </td>\n",
       " <td>April 1, 1952<sup class=\"reference\" id=\"cite_ref-USNavy_55-3\"><a href=\"#cite_note-USNavy-55\"><span class=\"cite-bracket\">[</span>55<span class=\"cite-bracket\">]</span></a></sup>\n",
       " </td>\n",
       " <td>July 1, 1957<sup class=\"reference\" id=\"cite_ref-USNavy_55-4\"><a href=\"#cite_note-USNavy-55\"><span class=\"cite-bracket\">[</span>55<span class=\"cite-bracket\">]</span></a></sup><sup class=\"reference\" id=\"cite_ref-56\"><a href=\"#cite_note-56\"><span class=\"cite-bracket\">[</span>n 1<span class=\"cite-bracket\">]</span></a></sup>\n",
       " </td>\n",
       " <td>August 2, 1973<sup class=\"reference\" id=\"cite_ref-USNavy_55-6\"><a href=\"#cite_note-USNavy-55\"><span class=\"cite-bracket\">[</span>55<span class=\"cite-bracket\">]</span></a></sup>\n",
       " </td>\n",
       " <td>December 15, 1983<sup class=\"reference\" id=\"cite_ref-commodore_37-1\"><a href=\"#cite_note-commodore-37\"><span class=\"cite-bracket\">[</span>37<span class=\"cite-bracket\">]</span></a></sup>/<br/>redesignated November 8, 1985<sup class=\"reference\" id=\"cite_ref-57\"><a href=\"#cite_note-57\"><span class=\"cite-bracket\">[</span>56<span class=\"cite-bracket\">]</span></a></sup>\n",
       " </td></tr></tbody></table>,\n",
       " <table class=\"wikitable\" style=\"margin: 0 auto; text-align: center;\">\n",
       " <tbody><tr>\n",
       " <td colspan=\"2\"><a href=\"/wiki/Defense_Distinguished_Service_Medal\" title=\"Defense Distinguished Service Medal\">Defense Distinguished Service Medal</a><br/>(1986)\n",
       " </td>\n",
       " <td colspan=\"2\"><a href=\"/wiki/Legion_of_Merit\" title=\"Legion of Merit\">Legion of Merit</a><br/>(1967)\n",
       " </td>\n",
       " <td colspan=\"2\"><a href=\"/wiki/Meritorious_Service_Medal_(United_States)\" title=\"Meritorious Service Medal (United States)\">Meritorious Service Medal</a><br/>(1980)\n",
       " </td></tr>\n",
       " <tr>\n",
       " <td colspan=\"2\"><a href=\"/wiki/Presidential_Medal_of_Freedom\" title=\"Presidential Medal of Freedom\">Presidential Medal of Freedom</a><br/>(2016, Posthumous)\n",
       " </td>\n",
       " <td colspan=\"2\"><a href=\"/wiki/American_Campaign_Medal\" title=\"American Campaign Medal\">American Campaign Medal</a><br/>(1944)\n",
       " </td>\n",
       " <td colspan=\"2\"><a href=\"/wiki/World_War_II_Victory_Medal\" title=\"World War II Victory Medal\">World War II Victory Medal</a><br/>(1945)\n",
       " </td></tr>\n",
       " <tr>\n",
       " <td colspan=\"2\"><a href=\"/wiki/National_Defense_Service_Medal\" title=\"National Defense Service Medal\">National Defense Service Medal</a> <br/>with bronze service star<br/>(1953, 1966)\n",
       " </td>\n",
       " <td colspan=\"2\"><a href=\"/wiki/Armed_Forces_Reserve_Medal\" title=\"Armed Forces Reserve Medal\">Armed Forces Reserve Medal</a><br/>with two bronze hourglass devices<br/>(1963, 1973, 1983)\n",
       " </td>\n",
       " <td colspan=\"2\"><a href=\"/wiki/Naval_Reserve_Medal\" title=\"Naval Reserve Medal\">Naval Reserve Medal</a><br/>(1953)\n",
       " </td></tr></tbody></table>]"
      ]
     },
     "execution_count": 22,
     "metadata": {},
     "output_type": "execute_result"
    }
   ],
   "source": [
    "soup.select('.wikitable')"
   ]
  },
  {
   "cell_type": "code",
   "execution_count": 24,
   "id": "752e9b68-9788-4afa-9d9e-1f1fbcf5a8d0",
   "metadata": {},
   "outputs": [
    {
     "data": {
      "text/plain": [
       "'\\n\\nRank\\n\\nMidshipmanMIDN\\n\\nLieutenant junior gradeO-2\\n\\nLieutenantO-3\\n\\nLieutenant commanderO-4\\n\\nCommanderO-5\\n\\nCaptainO-6\\n\\nCommodore/Rear admiral (lower half)O-7\\n\\n\\nInsignia\\n\\nN/A\\n\\n\\n\\n\\n\\n\\n\\n\\n\\n\\n\\n\\n\\n\\nDate\\n\\nMay 4, 1944[55]\\n\\nJune 27, 1944[55]\\n\\nJune 1, 1946[55]\\n\\nApril 1, 1952[55]\\n\\nJuly 1, 1957[55][n 1]\\n\\nAugust 2, 1973[55]\\n\\nDecember 15, 1983[37]/redesignated November 8, 1985[56]\\n'"
      ]
     },
     "execution_count": 24,
     "metadata": {},
     "output_type": "execute_result"
    }
   ],
   "source": [
    "soup.select('.wikitable')[0].getText()"
   ]
  },
  {
   "cell_type": "code",
   "execution_count": 25,
   "id": "4b91fbed-c9ad-4fae-bf66-218a197aee5f",
   "metadata": {},
   "outputs": [
    {
     "name": "stdout",
     "output_type": "stream",
     "text": [
      "\n",
      "Item: \n",
      "\n",
      "Rank\n",
      "\n",
      "MidshipmanMIDN\n",
      "\n",
      "Lieutenant junior gradeO-2\n",
      "\n",
      "LieutenantO-3\n",
      "\n",
      "Lieutenant commanderO-4\n",
      "\n",
      "CommanderO-5\n",
      "\n",
      "CaptainO-6\n",
      "\n",
      "Commodore/Rear admiral (lower half)O-7\n",
      "\n",
      "\n",
      "Insignia\n",
      "\n",
      "N/A\n",
      "\n",
      "\n",
      "\n",
      "\n",
      "\n",
      "\n",
      "\n",
      "\n",
      "\n",
      "\n",
      "\n",
      "\n",
      "\n",
      "\n",
      "Date\n",
      "\n",
      "May 4, 1944[55]\n",
      "\n",
      "June 27, 1944[55]\n",
      "\n",
      "June 1, 1946[55]\n",
      "\n",
      "April 1, 1952[55]\n",
      "\n",
      "July 1, 1957[55][n 1]\n",
      "\n",
      "August 2, 1973[55]\n",
      "\n",
      "December 15, 1983[37]/redesignated November 8, 1985[56]\n",
      "\n",
      "\n",
      "Item: \n",
      "\n",
      "Defense Distinguished Service Medal(1986)\n",
      "\n",
      "Legion of Merit(1967)\n",
      "\n",
      "Meritorious Service Medal(1980)\n",
      "\n",
      "\n",
      "Presidential Medal of Freedom(2016, Posthumous)\n",
      "\n",
      "American Campaign Medal(1944)\n",
      "\n",
      "World War II Victory Medal(1945)\n",
      "\n",
      "\n",
      "National Defense Service Medal with bronze service star(1953, 1966)\n",
      "\n",
      "Armed Forces Reserve Medalwith two bronze hourglass devices(1963, 1973, 1983)\n",
      "\n",
      "Naval Reserve Medal(1953)\n",
      "\n"
     ]
    }
   ],
   "source": [
    "for item in soup.select('.wikitable'):\n",
    "    print('\\nItem: ' + item.getText())"
   ]
  },
  {
   "cell_type": "code",
   "execution_count": 26,
   "id": "0f07dd73-b546-4924-a1f7-12ac713066e5",
   "metadata": {},
   "outputs": [
    {
     "name": "stdout",
     "output_type": "stream",
     "text": [
      "\n",
      "Item: \n",
      "\n",
      "Rank\n",
      "\n",
      "MidshipmanMIDN\n",
      "\n",
      "Lieutenant junior gradeO-2\n",
      "\n",
      "LieutenantO-3\n",
      "\n",
      "Lieutenant commanderO-4\n",
      "\n",
      "CommanderO-5\n",
      "\n",
      "CaptainO-6\n",
      "\n",
      "Commodore/Rear admiral (lower half)O-7\n",
      "\n",
      "\n",
      "Insignia\n",
      "\n",
      "N/A\n",
      "\n",
      "\n",
      "\n",
      "\n",
      "\n",
      "\n",
      "\n",
      "\n",
      "\n",
      "\n",
      "\n",
      "\n",
      "\n",
      "\n",
      "Date\n",
      "\n",
      "May 4, 1944[55]\n",
      "\n",
      "June 27, 1944[55]\n",
      "\n",
      "June 1, 1946[55]\n",
      "\n",
      "April 1, 1952[55]\n",
      "\n",
      "July 1, 1957[55][n 1]\n",
      "\n",
      "August 2, 1973[55]\n",
      "\n",
      "December 15, 1983[37]/redesignated November 8, 1985[56]\n",
      "\n",
      "\n",
      "Item: \n",
      "\n",
      "Defense Distinguished Service Medal(1986)\n",
      "\n",
      "Legion of Merit(1967)\n",
      "\n",
      "Meritorious Service Medal(1980)\n",
      "\n",
      "\n",
      "Presidential Medal of Freedom(2016, Posthumous)\n",
      "\n",
      "American Campaign Medal(1944)\n",
      "\n",
      "World War II Victory Medal(1945)\n",
      "\n",
      "\n",
      "National Defense Service Medal with bronze service star(1953, 1966)\n",
      "\n",
      "Armed Forces Reserve Medalwith two bronze hourglass devices(1963, 1973, 1983)\n",
      "\n",
      "Naval Reserve Medal(1953)\n",
      "\n"
     ]
    }
   ],
   "source": [
    "for item in soup.select('.wikitable'):\n",
    "    print('\\nItem: ' + item.text)"
   ]
  },
  {
   "cell_type": "code",
   "execution_count": 29,
   "id": "9aaac357-fc48-47a7-b809-d18fc2b3e9c6",
   "metadata": {},
   "outputs": [
    {
     "data": {
      "text/plain": [
       "<img alt=\"\" aria-hidden=\"true\" class=\"mw-logo-icon\" height=\"50\" src=\"/static/images/icons/wikipedia.png\" width=\"50\"/>"
      ]
     },
     "execution_count": 29,
     "metadata": {},
     "output_type": "execute_result"
    }
   ],
   "source": [
    "soup.select('img')[0]"
   ]
  },
  {
   "cell_type": "code",
   "execution_count": 31,
   "id": "34304904-a379-4990-b2a3-694b455e60a3",
   "metadata": {},
   "outputs": [
    {
     "data": {
      "text/plain": [
       "<img class=\"mw-file-element\" data-file-height=\"2051\" data-file-width=\"1542\" decoding=\"async\" height=\"319\" src=\"//upload.wikimedia.org/wikipedia/commons/thumb/9/98/Commodore_Grace_M._Hopper%2C_USN_%28covered%29_head_and_shoulders_crop.jpg/240px-Commodore_Grace_M._Hopper%2C_USN_%28covered%29_head_and_shoulders_crop.jpg\" srcset=\"//upload.wikimedia.org/wikipedia/commons/thumb/9/98/Commodore_Grace_M._Hopper%2C_USN_%28covered%29_head_and_shoulders_crop.jpg/360px-Commodore_Grace_M._Hopper%2C_USN_%28covered%29_head_and_shoulders_crop.jpg 1.5x, //upload.wikimedia.org/wikipedia/commons/thumb/9/98/Commodore_Grace_M._Hopper%2C_USN_%28covered%29_head_and_shoulders_crop.jpg/480px-Commodore_Grace_M._Hopper%2C_USN_%28covered%29_head_and_shoulders_crop.jpg 2x\" width=\"240\"/>"
      ]
     },
     "execution_count": 31,
     "metadata": {},
     "output_type": "execute_result"
    }
   ],
   "source": [
    "soup.select('.mw-file-element')[0]"
   ]
  },
  {
   "cell_type": "code",
   "execution_count": 32,
   "id": "de53f5bf-bb0e-434c-9d8d-fd532686ce70",
   "metadata": {},
   "outputs": [],
   "source": [
    "# open th src in brower to see images"
   ]
  },
  {
   "cell_type": "code",
   "execution_count": 33,
   "id": "c3d99df6-d4d0-4217-b1f6-6d7e9a0677cf",
   "metadata": {},
   "outputs": [],
   "source": [
    "Grace_Hopper = soup.select('.mw-file-element')[0]"
   ]
  },
  {
   "cell_type": "code",
   "execution_count": 34,
   "id": "e775f9cd-8552-48ba-8617-a488bc6f3848",
   "metadata": {},
   "outputs": [
    {
     "data": {
      "text/plain": [
       "<img class=\"mw-file-element\" data-file-height=\"2051\" data-file-width=\"1542\" decoding=\"async\" height=\"319\" src=\"//upload.wikimedia.org/wikipedia/commons/thumb/9/98/Commodore_Grace_M._Hopper%2C_USN_%28covered%29_head_and_shoulders_crop.jpg/240px-Commodore_Grace_M._Hopper%2C_USN_%28covered%29_head_and_shoulders_crop.jpg\" srcset=\"//upload.wikimedia.org/wikipedia/commons/thumb/9/98/Commodore_Grace_M._Hopper%2C_USN_%28covered%29_head_and_shoulders_crop.jpg/360px-Commodore_Grace_M._Hopper%2C_USN_%28covered%29_head_and_shoulders_crop.jpg 1.5x, //upload.wikimedia.org/wikipedia/commons/thumb/9/98/Commodore_Grace_M._Hopper%2C_USN_%28covered%29_head_and_shoulders_crop.jpg/480px-Commodore_Grace_M._Hopper%2C_USN_%28covered%29_head_and_shoulders_crop.jpg 2x\" width=\"240\"/>"
      ]
     },
     "execution_count": 34,
     "metadata": {},
     "output_type": "execute_result"
    }
   ],
   "source": [
    "Grace_Hopper"
   ]
  },
  {
   "cell_type": "code",
   "execution_count": 35,
   "id": "26df5d65-e9fc-4b27-9000-a0375671f217",
   "metadata": {},
   "outputs": [
    {
     "data": {
      "text/plain": [
       "'//upload.wikimedia.org/wikipedia/commons/thumb/9/98/Commodore_Grace_M._Hopper%2C_USN_%28covered%29_head_and_shoulders_crop.jpg/240px-Commodore_Grace_M._Hopper%2C_USN_%28covered%29_head_and_shoulders_crop.jpg'"
      ]
     },
     "execution_count": 35,
     "metadata": {},
     "output_type": "execute_result"
    }
   ],
   "source": [
    "Grace_Hopper['src']"
   ]
  },
  {
   "cell_type": "code",
   "execution_count": 36,
   "id": "a2993def-c46e-46b9-96a2-b98b250c9512",
   "metadata": {},
   "outputs": [],
   "source": [
    "# Below cell in markdown to display image using <img src=\" \"/>"
   ]
  },
  {
   "cell_type": "markdown",
   "id": "912a83b7-a0e5-4703-af64-a2ab381bc01f",
   "metadata": {},
   "source": [
    "<img src = '//upload.wikimedia.org/wikipedia/commons/thumb/9/98/Commodore_Grace_M._Hopper%2C_USN_%28covered%29_head_and_shoulders_crop.jpg/240px-Commodore_Grace_M._Hopper%2C_USN_%28covered%29_head_and_shoulders_crop.jpg' />"
   ]
  },
  {
   "cell_type": "code",
   "execution_count": 37,
   "id": "8e97d69a-8381-4a38-a681-5be5936825ce",
   "metadata": {},
   "outputs": [],
   "source": [
    "image_link = Grace_Hopper['src']"
   ]
  },
  {
   "cell_type": "code",
   "execution_count": 38,
   "id": "9c7da6c8-daf4-46bf-8b22-23f8ca8d1df0",
   "metadata": {},
   "outputs": [
    {
     "data": {
      "text/plain": [
       "'//upload.wikimedia.org/wikipedia/commons/thumb/9/98/Commodore_Grace_M._Hopper%2C_USN_%28covered%29_head_and_shoulders_crop.jpg/240px-Commodore_Grace_M._Hopper%2C_USN_%28covered%29_head_and_shoulders_crop.jpg'"
      ]
     },
     "execution_count": 38,
     "metadata": {},
     "output_type": "execute_result"
    }
   ],
   "source": [
    "image_link"
   ]
  },
  {
   "cell_type": "code",
   "execution_count": 45,
   "id": "df563b4d-3aa0-4c7f-8fa1-3ebaf495b262",
   "metadata": {},
   "outputs": [],
   "source": [
    "Image = requests.get('https:' + image_link)"
   ]
  },
  {
   "cell_type": "code",
   "execution_count": 46,
   "id": "38671942-fecc-48d0-ac61-2d5753dcf715",
   "metadata": {},
   "outputs": [],
   "source": [
    "#Image.content"
   ]
  },
  {
   "cell_type": "code",
   "execution_count": 47,
   "id": "ae406a7f-73f6-4b32-810d-902a73c1b245",
   "metadata": {},
   "outputs": [],
   "source": [
    "f = open('grass_hopper_image.jpg','wb')"
   ]
  },
  {
   "cell_type": "code",
   "execution_count": 48,
   "id": "5316f701-9809-4fb9-a077-98bb1920f032",
   "metadata": {},
   "outputs": [
    {
     "data": {
      "text/plain": [
       "20225"
      ]
     },
     "execution_count": 48,
     "metadata": {},
     "output_type": "execute_result"
    }
   ],
   "source": [
    "f.write(Image.content)"
   ]
  },
  {
   "cell_type": "code",
   "execution_count": 49,
   "id": "a2b8566b-6960-453e-be42-640ee3fe1ed2",
   "metadata": {},
   "outputs": [],
   "source": [
    "f.close()"
   ]
  },
  {
   "cell_type": "code",
   "execution_count": null,
   "id": "cfd10cc4-b2a2-467a-8556-58b7806ed296",
   "metadata": {},
   "outputs": [],
   "source": []
  }
 ],
 "metadata": {
  "kernelspec": {
   "display_name": "Python 3 (ipykernel)",
   "language": "python",
   "name": "python3"
  },
  "language_info": {
   "codemirror_mode": {
    "name": "ipython",
    "version": 3
   },
   "file_extension": ".py",
   "mimetype": "text/x-python",
   "name": "python",
   "nbconvert_exporter": "python",
   "pygments_lexer": "ipython3",
   "version": "3.12.7"
  }
 },
 "nbformat": 4,
 "nbformat_minor": 5
}
