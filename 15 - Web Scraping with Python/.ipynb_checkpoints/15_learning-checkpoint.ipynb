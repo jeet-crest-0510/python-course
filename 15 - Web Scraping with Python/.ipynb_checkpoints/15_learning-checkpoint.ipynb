{
 "cells": [
  {
   "cell_type": "code",
   "execution_count": 1,
   "id": "30044e4a-cf43-45f6-81fb-fc18e2d2b153",
   "metadata": {},
   "outputs": [],
   "source": [
    "import requests"
   ]
  },
  {
   "cell_type": "code",
   "execution_count": 3,
   "id": "74283713-def1-4f07-b0f8-636d78e399ac",
   "metadata": {},
   "outputs": [],
   "source": [
    "result = requests.get('https://en.wikipedia.org/wiki/Jonas_Salk')"
   ]
  },
  {
   "cell_type": "code",
   "execution_count": 4,
   "id": "eceafd86-9d24-4ed5-af4f-e63653516986",
   "metadata": {},
   "outputs": [
    {
     "data": {
      "text/plain": [
       "requests.models.Response"
      ]
     },
     "execution_count": 4,
     "metadata": {},
     "output_type": "execute_result"
    }
   ],
   "source": [
    "type(result)"
   ]
  },
  {
   "cell_type": "code",
   "execution_count": 13,
   "id": "3b2446b0-91ed-4437-b920-163d0088c5f0",
   "metadata": {},
   "outputs": [],
   "source": [
    "#result.text"
   ]
  },
  {
   "cell_type": "code",
   "execution_count": 2,
   "id": "354ea80e-3035-4870-9bce-07e5c145e815",
   "metadata": {},
   "outputs": [],
   "source": [
    "import bs4"
   ]
  },
  {
   "cell_type": "code",
   "execution_count": 6,
   "id": "81b83270-8468-4898-af6b-372a22a9dc78",
   "metadata": {},
   "outputs": [],
   "source": [
    "soup = bs4.BeautifulSoup(result.text,'lxml')"
   ]
  },
  {
   "cell_type": "code",
   "execution_count": 14,
   "id": "ad1002f2-cd3e-45e1-9d1a-11ca58fb4186",
   "metadata": {},
   "outputs": [],
   "source": [
    "#soup"
   ]
  },
  {
   "cell_type": "code",
   "execution_count": 8,
   "id": "6ccad966-7049-4594-8881-ee39a7fe64a8",
   "metadata": {},
   "outputs": [
    {
     "data": {
      "text/plain": [
       "[<title>Jonas Salk - Wikipedia</title>]"
      ]
     },
     "execution_count": 8,
     "metadata": {},
     "output_type": "execute_result"
    }
   ],
   "source": [
    "soup.select('title')"
   ]
  },
  {
   "cell_type": "code",
   "execution_count": 9,
   "id": "cbafe0a0-506e-414c-9d45-7f9b7e1c6b2b",
   "metadata": {},
   "outputs": [
    {
     "data": {
      "text/plain": [
       "'Jonas Salk - Wikipedia'"
      ]
     },
     "execution_count": 9,
     "metadata": {},
     "output_type": "execute_result"
    }
   ],
   "source": [
    "soup.select('title')[0].getText()"
   ]
  },
  {
   "cell_type": "code",
   "execution_count": 11,
   "id": "ddb92f52-f6d4-407b-ac9a-a41583b58f65",
   "metadata": {},
   "outputs": [
    {
     "data": {
      "text/plain": [
       "[<h2 class=\"vector-pinnable-header-label\">Contents</h2>,\n",
       " <h2 id=\"Early_life_and_education\">Early life and education</h2>,\n",
       " <h2 id=\"Polio_research\">Polio research</h2>,\n",
       " <h2 id=\"Becoming_a_public_figure\">Becoming a public figure</h2>,\n",
       " <h2 id=\"Establishing_the_Salk_Institute\">Establishing the Salk Institute</h2>,\n",
       " <h2 id=\"AIDS_vaccine_work\">AIDS vaccine work</h2>,\n",
       " <h2 id=\"Salk's_biophilosophy\"><span id=\"Salk.27s_biophilosophy\"></span>Salk's biophilosophy</h2>,\n",
       " <h2 id=\"Personal_life_and_death\">Personal life and death</h2>,\n",
       " <h2 id=\"Honors_and_recognition\">Honors and recognition</h2>,\n",
       " <h2 id=\"Selected_publications\">Selected publications</h2>,\n",
       " <h2 id=\"References\">References</h2>,\n",
       " <h2 id=\"Further_reading\">Further reading</h2>,\n",
       " <h2 id=\"External_links\">External links</h2>]"
      ]
     },
     "execution_count": 11,
     "metadata": {},
     "output_type": "execute_result"
    }
   ],
   "source": [
    "soup.select('h2')"
   ]
  },
  {
   "cell_type": "code",
   "execution_count": 12,
   "id": "085bb98c-a536-4358-b141-9f916d5d4aab",
   "metadata": {},
   "outputs": [
    {
     "data": {
      "text/plain": [
       "<h2 class=\"vector-pinnable-header-label\">Contents</h2>"
      ]
     },
     "execution_count": 12,
     "metadata": {},
     "output_type": "execute_result"
    }
   ],
   "source": [
    "soup.select_one('h2')"
   ]
  },
  {
   "cell_type": "code",
   "execution_count": 15,
   "id": "d87b7c3e-a5cd-4f1a-ba8c-8e47ebb7c935",
   "metadata": {},
   "outputs": [
    {
     "data": {
      "text/plain": [
       "'Contents'"
      ]
     },
     "execution_count": 15,
     "metadata": {},
     "output_type": "execute_result"
    }
   ],
   "source": [
    "soup.select('h2')[0].getText()"
   ]
  },
  {
   "cell_type": "code",
   "execution_count": 16,
   "id": "23e7a786-4248-41e0-bb9a-93d5995687c8",
   "metadata": {},
   "outputs": [
    {
     "data": {
      "text/plain": [
       "bs4.element.Tag"
      ]
     },
     "execution_count": 16,
     "metadata": {},
     "output_type": "execute_result"
    }
   ],
   "source": [
    "type(soup.select_one('h2'))"
   ]
  },
  {
   "cell_type": "code",
   "execution_count": 17,
   "id": "9e77ce56-3ea5-4440-822b-5d3a1699a836",
   "metadata": {},
   "outputs": [
    {
     "data": {
      "text/plain": [
       "str"
      ]
     },
     "execution_count": 17,
     "metadata": {},
     "output_type": "execute_result"
    }
   ],
   "source": [
    "type(soup.select('h2')[0].getText())"
   ]
  },
  {
   "cell_type": "code",
   "execution_count": 18,
   "id": "f227cb22-ce7c-421b-87ec-8e6528c8d96f",
   "metadata": {},
   "outputs": [],
   "source": [
    "res = requests.get('https://en.wikipedia.org/wiki/Grace_Hopper')"
   ]
  },
  {
   "cell_type": "code",
   "execution_count": 19,
   "id": "d7bee3f1-6877-486d-b62c-59dc30d7da64",
   "metadata": {},
   "outputs": [],
   "source": [
    "soup = bs4.BeautifulSoup(res.text,'lxml')"
   ]
  },
  {
   "cell_type": "code",
   "execution_count": 21,
   "id": "0098c216-a868-4b0c-ae2c-6bc13be6eb47",
   "metadata": {},
   "outputs": [],
   "source": [
    "#soup"
   ]
  },
  {
   "cell_type": "code",
   "execution_count": 22,
   "id": "823cfe61-dbe4-444e-b217-9a7cbeacc504",
   "metadata": {},
   "outputs": [
    {
     "data": {
      "text/plain": [
       "[<table class=\"wikitable\" style=\"text-align:center;\">\n",
       " <tbody><tr>\n",
       " <th scope=\"row\">Rank\n",
       " </th>\n",
       " <th scope=\"col\"><a href=\"/wiki/Midshipman\" title=\"Midshipman\">Midshipman</a><br/>MIDN\n",
       " </th>\n",
       " <th scope=\"col\"><a href=\"/wiki/Lieutenant_(junior_grade)\" title=\"Lieutenant (junior grade)\">Lieutenant junior grade</a><br/>O-2\n",
       " </th>\n",
       " <th scope=\"col\"><a href=\"/wiki/Lieutenant_(navy)\" title=\"Lieutenant (navy)\">Lieutenant</a><br/>O-3\n",
       " </th>\n",
       " <th scope=\"col\"><a href=\"/wiki/Lieutenant_commander_(United_States)\" title=\"Lieutenant commander (United States)\">Lieutenant commander</a><br/>O-4\n",
       " </th>\n",
       " <th scope=\"col\"><a href=\"/wiki/Commander_(United_States)\" title=\"Commander (United States)\">Commander</a><br/>O-5\n",
       " </th>\n",
       " <th scope=\"col\"><a href=\"/wiki/Captain_(United_States_O-6)\" title=\"Captain (United States O-6)\">Captain</a><br/>O-6\n",
       " </th>\n",
       " <th scope=\"col\"><a href=\"/wiki/Commodore_(United_States)\" title=\"Commodore (United States)\">Commodore</a>/<br/><a href=\"/wiki/Rear_admiral_(United_States)\" title=\"Rear admiral (United States)\">Rear admiral (lower half)</a><br/>O-7\n",
       " </th></tr>\n",
       " <tr>\n",
       " <th scope=\"row\">Insignia\n",
       " </th>\n",
       " <td>N/A\n",
       " </td>\n",
       " <td><span typeof=\"mw:File\"><a class=\"mw-file-description\" href=\"/wiki/File:US_Navy_O2_insignia.svg\"><img class=\"mw-file-element\" data-file-height=\"420\" data-file-width=\"245\" decoding=\"async\" height=\"103\" src=\"//upload.wikimedia.org/wikipedia/commons/thumb/3/38/US_Navy_O2_insignia.svg/60px-US_Navy_O2_insignia.svg.png\" srcset=\"//upload.wikimedia.org/wikipedia/commons/thumb/3/38/US_Navy_O2_insignia.svg/90px-US_Navy_O2_insignia.svg.png 1.5x, //upload.wikimedia.org/wikipedia/commons/thumb/3/38/US_Navy_O2_insignia.svg/120px-US_Navy_O2_insignia.svg.png 2x\" width=\"60\"/></a></span>\n",
       " </td>\n",
       " <td><span typeof=\"mw:File\"><a class=\"mw-file-description\" href=\"/wiki/File:US_Navy_O3_insignia.svg\"><img class=\"mw-file-element\" data-file-height=\"420\" data-file-width=\"245\" decoding=\"async\" height=\"103\" src=\"//upload.wikimedia.org/wikipedia/commons/thumb/0/02/US_Navy_O3_insignia.svg/60px-US_Navy_O3_insignia.svg.png\" srcset=\"//upload.wikimedia.org/wikipedia/commons/thumb/0/02/US_Navy_O3_insignia.svg/90px-US_Navy_O3_insignia.svg.png 1.5x, //upload.wikimedia.org/wikipedia/commons/thumb/0/02/US_Navy_O3_insignia.svg/120px-US_Navy_O3_insignia.svg.png 2x\" width=\"60\"/></a></span>\n",
       " </td>\n",
       " <td><span typeof=\"mw:File\"><a class=\"mw-file-description\" href=\"/wiki/File:U.S._Navy_O-4_insignia.svg\"><img class=\"mw-file-element\" data-file-height=\"420\" data-file-width=\"245\" decoding=\"async\" height=\"103\" src=\"//upload.wikimedia.org/wikipedia/commons/thumb/8/87/U.S._Navy_O-4_insignia.svg/60px-U.S._Navy_O-4_insignia.svg.png\" srcset=\"//upload.wikimedia.org/wikipedia/commons/thumb/8/87/U.S._Navy_O-4_insignia.svg/90px-U.S._Navy_O-4_insignia.svg.png 1.5x, //upload.wikimedia.org/wikipedia/commons/thumb/8/87/U.S._Navy_O-4_insignia.svg/120px-U.S._Navy_O-4_insignia.svg.png 2x\" width=\"60\"/></a></span>\n",
       " </td>\n",
       " <td><span typeof=\"mw:File\"><a class=\"mw-file-description\" href=\"/wiki/File:US_Navy_O5_insignia.svg\"><img class=\"mw-file-element\" data-file-height=\"420\" data-file-width=\"245\" decoding=\"async\" height=\"103\" src=\"//upload.wikimedia.org/wikipedia/commons/thumb/b/be/US_Navy_O5_insignia.svg/60px-US_Navy_O5_insignia.svg.png\" srcset=\"//upload.wikimedia.org/wikipedia/commons/thumb/b/be/US_Navy_O5_insignia.svg/90px-US_Navy_O5_insignia.svg.png 1.5x, //upload.wikimedia.org/wikipedia/commons/thumb/b/be/US_Navy_O5_insignia.svg/120px-US_Navy_O5_insignia.svg.png 2x\" width=\"60\"/></a></span>\n",
       " </td>\n",
       " <td><span typeof=\"mw:File\"><a class=\"mw-file-description\" href=\"/wiki/File:US_Navy_O6_insignia.svg\"><img class=\"mw-file-element\" data-file-height=\"420\" data-file-width=\"245\" decoding=\"async\" height=\"103\" src=\"//upload.wikimedia.org/wikipedia/commons/thumb/c/c0/US_Navy_O6_insignia.svg/60px-US_Navy_O6_insignia.svg.png\" srcset=\"//upload.wikimedia.org/wikipedia/commons/thumb/c/c0/US_Navy_O6_insignia.svg/90px-US_Navy_O6_insignia.svg.png 1.5x, //upload.wikimedia.org/wikipedia/commons/thumb/c/c0/US_Navy_O6_insignia.svg/120px-US_Navy_O6_insignia.svg.png 2x\" width=\"60\"/></a></span>\n",
       " </td>\n",
       " <td><span typeof=\"mw:File\"><a class=\"mw-file-description\" href=\"/wiki/File:US_Navy_O7_insignia.svg\"><img class=\"mw-file-element\" data-file-height=\"420\" data-file-width=\"245\" decoding=\"async\" height=\"103\" src=\"//upload.wikimedia.org/wikipedia/commons/thumb/d/d9/US_Navy_O7_insignia.svg/60px-US_Navy_O7_insignia.svg.png\" srcset=\"//upload.wikimedia.org/wikipedia/commons/thumb/d/d9/US_Navy_O7_insignia.svg/90px-US_Navy_O7_insignia.svg.png 1.5x, //upload.wikimedia.org/wikipedia/commons/thumb/d/d9/US_Navy_O7_insignia.svg/120px-US_Navy_O7_insignia.svg.png 2x\" width=\"60\"/></a></span>\n",
       " </td></tr>\n",
       " <tr>\n",
       " <th scope=\"row\">Date\n",
       " </th>\n",
       " <td>May 4, 1944<sup class=\"reference\" id=\"cite_ref-USNavy_55-0\"><a href=\"#cite_note-USNavy-55\"><span class=\"cite-bracket\">[</span>55<span class=\"cite-bracket\">]</span></a></sup>\n",
       " </td>\n",
       " <td>June 27, 1944<sup class=\"reference\" id=\"cite_ref-USNavy_55-1\"><a href=\"#cite_note-USNavy-55\"><span class=\"cite-bracket\">[</span>55<span class=\"cite-bracket\">]</span></a></sup>\n",
       " </td>\n",
       " <td>June 1, 1946<sup class=\"reference\" id=\"cite_ref-USNavy_55-2\"><a href=\"#cite_note-USNavy-55\"><span class=\"cite-bracket\">[</span>55<span class=\"cite-bracket\">]</span></a></sup>\n",
       " </td>\n",
       " <td>April 1, 1952<sup class=\"reference\" id=\"cite_ref-USNavy_55-3\"><a href=\"#cite_note-USNavy-55\"><span class=\"cite-bracket\">[</span>55<span class=\"cite-bracket\">]</span></a></sup>\n",
       " </td>\n",
       " <td>July 1, 1957<sup class=\"reference\" id=\"cite_ref-USNavy_55-4\"><a href=\"#cite_note-USNavy-55\"><span class=\"cite-bracket\">[</span>55<span class=\"cite-bracket\">]</span></a></sup><sup class=\"reference\" id=\"cite_ref-56\"><a href=\"#cite_note-56\"><span class=\"cite-bracket\">[</span>n 1<span class=\"cite-bracket\">]</span></a></sup>\n",
       " </td>\n",
       " <td>August 2, 1973<sup class=\"reference\" id=\"cite_ref-USNavy_55-6\"><a href=\"#cite_note-USNavy-55\"><span class=\"cite-bracket\">[</span>55<span class=\"cite-bracket\">]</span></a></sup>\n",
       " </td>\n",
       " <td>December 15, 1983<sup class=\"reference\" id=\"cite_ref-commodore_37-1\"><a href=\"#cite_note-commodore-37\"><span class=\"cite-bracket\">[</span>37<span class=\"cite-bracket\">]</span></a></sup>/<br/>redesignated November 8, 1985<sup class=\"reference\" id=\"cite_ref-57\"><a href=\"#cite_note-57\"><span class=\"cite-bracket\">[</span>56<span class=\"cite-bracket\">]</span></a></sup>\n",
       " </td></tr></tbody></table>,\n",
       " <table class=\"wikitable\" style=\"margin: 0 auto; text-align: center;\">\n",
       " <tbody><tr>\n",
       " <td colspan=\"2\"><a href=\"/wiki/Defense_Distinguished_Service_Medal\" title=\"Defense Distinguished Service Medal\">Defense Distinguished Service Medal</a><br/>(1986)\n",
       " </td>\n",
       " <td colspan=\"2\"><a href=\"/wiki/Legion_of_Merit\" title=\"Legion of Merit\">Legion of Merit</a><br/>(1967)\n",
       " </td>\n",
       " <td colspan=\"2\"><a href=\"/wiki/Meritorious_Service_Medal_(United_States)\" title=\"Meritorious Service Medal (United States)\">Meritorious Service Medal</a><br/>(1980)\n",
       " </td></tr>\n",
       " <tr>\n",
       " <td colspan=\"2\"><a href=\"/wiki/Presidential_Medal_of_Freedom\" title=\"Presidential Medal of Freedom\">Presidential Medal of Freedom</a><br/>(2016, Posthumous)\n",
       " </td>\n",
       " <td colspan=\"2\"><a href=\"/wiki/American_Campaign_Medal\" title=\"American Campaign Medal\">American Campaign Medal</a><br/>(1944)\n",
       " </td>\n",
       " <td colspan=\"2\"><a href=\"/wiki/World_War_II_Victory_Medal\" title=\"World War II Victory Medal\">World War II Victory Medal</a><br/>(1945)\n",
       " </td></tr>\n",
       " <tr>\n",
       " <td colspan=\"2\"><a href=\"/wiki/National_Defense_Service_Medal\" title=\"National Defense Service Medal\">National Defense Service Medal</a> <br/>with bronze service star<br/>(1953, 1966)\n",
       " </td>\n",
       " <td colspan=\"2\"><a href=\"/wiki/Armed_Forces_Reserve_Medal\" title=\"Armed Forces Reserve Medal\">Armed Forces Reserve Medal</a><br/>with two bronze hourglass devices<br/>(1963, 1973, 1983)\n",
       " </td>\n",
       " <td colspan=\"2\"><a href=\"/wiki/Naval_Reserve_Medal\" title=\"Naval Reserve Medal\">Naval Reserve Medal</a><br/>(1953)\n",
       " </td></tr></tbody></table>]"
      ]
     },
     "execution_count": 22,
     "metadata": {},
     "output_type": "execute_result"
    }
   ],
   "source": [
    "soup.select('.wikitable')"
   ]
  },
  {
   "cell_type": "code",
   "execution_count": 24,
   "id": "752e9b68-9788-4afa-9d9e-1f1fbcf5a8d0",
   "metadata": {},
   "outputs": [
    {
     "data": {
      "text/plain": [
       "'\\n\\nRank\\n\\nMidshipmanMIDN\\n\\nLieutenant junior gradeO-2\\n\\nLieutenantO-3\\n\\nLieutenant commanderO-4\\n\\nCommanderO-5\\n\\nCaptainO-6\\n\\nCommodore/Rear admiral (lower half)O-7\\n\\n\\nInsignia\\n\\nN/A\\n\\n\\n\\n\\n\\n\\n\\n\\n\\n\\n\\n\\n\\n\\nDate\\n\\nMay 4, 1944[55]\\n\\nJune 27, 1944[55]\\n\\nJune 1, 1946[55]\\n\\nApril 1, 1952[55]\\n\\nJuly 1, 1957[55][n 1]\\n\\nAugust 2, 1973[55]\\n\\nDecember 15, 1983[37]/redesignated November 8, 1985[56]\\n'"
      ]
     },
     "execution_count": 24,
     "metadata": {},
     "output_type": "execute_result"
    }
   ],
   "source": [
    "soup.select('.wikitable')[0].getText()"
   ]
  },
  {
   "cell_type": "code",
   "execution_count": 25,
   "id": "4b91fbed-c9ad-4fae-bf66-218a197aee5f",
   "metadata": {},
   "outputs": [
    {
     "name": "stdout",
     "output_type": "stream",
     "text": [
      "\n",
      "Item: \n",
      "\n",
      "Rank\n",
      "\n",
      "MidshipmanMIDN\n",
      "\n",
      "Lieutenant junior gradeO-2\n",
      "\n",
      "LieutenantO-3\n",
      "\n",
      "Lieutenant commanderO-4\n",
      "\n",
      "CommanderO-5\n",
      "\n",
      "CaptainO-6\n",
      "\n",
      "Commodore/Rear admiral (lower half)O-7\n",
      "\n",
      "\n",
      "Insignia\n",
      "\n",
      "N/A\n",
      "\n",
      "\n",
      "\n",
      "\n",
      "\n",
      "\n",
      "\n",
      "\n",
      "\n",
      "\n",
      "\n",
      "\n",
      "\n",
      "\n",
      "Date\n",
      "\n",
      "May 4, 1944[55]\n",
      "\n",
      "June 27, 1944[55]\n",
      "\n",
      "June 1, 1946[55]\n",
      "\n",
      "April 1, 1952[55]\n",
      "\n",
      "July 1, 1957[55][n 1]\n",
      "\n",
      "August 2, 1973[55]\n",
      "\n",
      "December 15, 1983[37]/redesignated November 8, 1985[56]\n",
      "\n",
      "\n",
      "Item: \n",
      "\n",
      "Defense Distinguished Service Medal(1986)\n",
      "\n",
      "Legion of Merit(1967)\n",
      "\n",
      "Meritorious Service Medal(1980)\n",
      "\n",
      "\n",
      "Presidential Medal of Freedom(2016, Posthumous)\n",
      "\n",
      "American Campaign Medal(1944)\n",
      "\n",
      "World War II Victory Medal(1945)\n",
      "\n",
      "\n",
      "National Defense Service Medal with bronze service star(1953, 1966)\n",
      "\n",
      "Armed Forces Reserve Medalwith two bronze hourglass devices(1963, 1973, 1983)\n",
      "\n",
      "Naval Reserve Medal(1953)\n",
      "\n"
     ]
    }
   ],
   "source": [
    "for item in soup.select('.wikitable'):\n",
    "    print('\\nItem: ' + item.getText())"
   ]
  },
  {
   "cell_type": "code",
   "execution_count": 26,
   "id": "0f07dd73-b546-4924-a1f7-12ac713066e5",
   "metadata": {},
   "outputs": [
    {
     "name": "stdout",
     "output_type": "stream",
     "text": [
      "\n",
      "Item: \n",
      "\n",
      "Rank\n",
      "\n",
      "MidshipmanMIDN\n",
      "\n",
      "Lieutenant junior gradeO-2\n",
      "\n",
      "LieutenantO-3\n",
      "\n",
      "Lieutenant commanderO-4\n",
      "\n",
      "CommanderO-5\n",
      "\n",
      "CaptainO-6\n",
      "\n",
      "Commodore/Rear admiral (lower half)O-7\n",
      "\n",
      "\n",
      "Insignia\n",
      "\n",
      "N/A\n",
      "\n",
      "\n",
      "\n",
      "\n",
      "\n",
      "\n",
      "\n",
      "\n",
      "\n",
      "\n",
      "\n",
      "\n",
      "\n",
      "\n",
      "Date\n",
      "\n",
      "May 4, 1944[55]\n",
      "\n",
      "June 27, 1944[55]\n",
      "\n",
      "June 1, 1946[55]\n",
      "\n",
      "April 1, 1952[55]\n",
      "\n",
      "July 1, 1957[55][n 1]\n",
      "\n",
      "August 2, 1973[55]\n",
      "\n",
      "December 15, 1983[37]/redesignated November 8, 1985[56]\n",
      "\n",
      "\n",
      "Item: \n",
      "\n",
      "Defense Distinguished Service Medal(1986)\n",
      "\n",
      "Legion of Merit(1967)\n",
      "\n",
      "Meritorious Service Medal(1980)\n",
      "\n",
      "\n",
      "Presidential Medal of Freedom(2016, Posthumous)\n",
      "\n",
      "American Campaign Medal(1944)\n",
      "\n",
      "World War II Victory Medal(1945)\n",
      "\n",
      "\n",
      "National Defense Service Medal with bronze service star(1953, 1966)\n",
      "\n",
      "Armed Forces Reserve Medalwith two bronze hourglass devices(1963, 1973, 1983)\n",
      "\n",
      "Naval Reserve Medal(1953)\n",
      "\n"
     ]
    }
   ],
   "source": [
    "for item in soup.select('.wikitable'):\n",
    "    print('\\nItem: ' + item.text)"
   ]
  },
  {
   "cell_type": "code",
   "execution_count": 29,
   "id": "9aaac357-fc48-47a7-b809-d18fc2b3e9c6",
   "metadata": {},
   "outputs": [
    {
     "data": {
      "text/plain": [
       "<img alt=\"\" aria-hidden=\"true\" class=\"mw-logo-icon\" height=\"50\" src=\"/static/images/icons/wikipedia.png\" width=\"50\"/>"
      ]
     },
     "execution_count": 29,
     "metadata": {},
     "output_type": "execute_result"
    }
   ],
   "source": [
    "soup.select('img')[0]"
   ]
  },
  {
   "cell_type": "code",
   "execution_count": 31,
   "id": "34304904-a379-4990-b2a3-694b455e60a3",
   "metadata": {},
   "outputs": [
    {
     "data": {
      "text/plain": [
       "<img class=\"mw-file-element\" data-file-height=\"2051\" data-file-width=\"1542\" decoding=\"async\" height=\"319\" src=\"//upload.wikimedia.org/wikipedia/commons/thumb/9/98/Commodore_Grace_M._Hopper%2C_USN_%28covered%29_head_and_shoulders_crop.jpg/240px-Commodore_Grace_M._Hopper%2C_USN_%28covered%29_head_and_shoulders_crop.jpg\" srcset=\"//upload.wikimedia.org/wikipedia/commons/thumb/9/98/Commodore_Grace_M._Hopper%2C_USN_%28covered%29_head_and_shoulders_crop.jpg/360px-Commodore_Grace_M._Hopper%2C_USN_%28covered%29_head_and_shoulders_crop.jpg 1.5x, //upload.wikimedia.org/wikipedia/commons/thumb/9/98/Commodore_Grace_M._Hopper%2C_USN_%28covered%29_head_and_shoulders_crop.jpg/480px-Commodore_Grace_M._Hopper%2C_USN_%28covered%29_head_and_shoulders_crop.jpg 2x\" width=\"240\"/>"
      ]
     },
     "execution_count": 31,
     "metadata": {},
     "output_type": "execute_result"
    }
   ],
   "source": [
    "soup.select('.mw-file-element')[0]"
   ]
  },
  {
   "cell_type": "code",
   "execution_count": 32,
   "id": "de53f5bf-bb0e-434c-9d8d-fd532686ce70",
   "metadata": {},
   "outputs": [],
   "source": [
    "# open th src in brower to see images"
   ]
  },
  {
   "cell_type": "code",
   "execution_count": 33,
   "id": "c3d99df6-d4d0-4217-b1f6-6d7e9a0677cf",
   "metadata": {},
   "outputs": [],
   "source": [
    "Grace_Hopper = soup.select('.mw-file-element')[0]"
   ]
  },
  {
   "cell_type": "code",
   "execution_count": 34,
   "id": "e775f9cd-8552-48ba-8617-a488bc6f3848",
   "metadata": {},
   "outputs": [
    {
     "data": {
      "text/plain": [
       "<img class=\"mw-file-element\" data-file-height=\"2051\" data-file-width=\"1542\" decoding=\"async\" height=\"319\" src=\"//upload.wikimedia.org/wikipedia/commons/thumb/9/98/Commodore_Grace_M._Hopper%2C_USN_%28covered%29_head_and_shoulders_crop.jpg/240px-Commodore_Grace_M._Hopper%2C_USN_%28covered%29_head_and_shoulders_crop.jpg\" srcset=\"//upload.wikimedia.org/wikipedia/commons/thumb/9/98/Commodore_Grace_M._Hopper%2C_USN_%28covered%29_head_and_shoulders_crop.jpg/360px-Commodore_Grace_M._Hopper%2C_USN_%28covered%29_head_and_shoulders_crop.jpg 1.5x, //upload.wikimedia.org/wikipedia/commons/thumb/9/98/Commodore_Grace_M._Hopper%2C_USN_%28covered%29_head_and_shoulders_crop.jpg/480px-Commodore_Grace_M._Hopper%2C_USN_%28covered%29_head_and_shoulders_crop.jpg 2x\" width=\"240\"/>"
      ]
     },
     "execution_count": 34,
     "metadata": {},
     "output_type": "execute_result"
    }
   ],
   "source": [
    "Grace_Hopper"
   ]
  },
  {
   "cell_type": "code",
   "execution_count": 35,
   "id": "26df5d65-e9fc-4b27-9000-a0375671f217",
   "metadata": {},
   "outputs": [
    {
     "data": {
      "text/plain": [
       "'//upload.wikimedia.org/wikipedia/commons/thumb/9/98/Commodore_Grace_M._Hopper%2C_USN_%28covered%29_head_and_shoulders_crop.jpg/240px-Commodore_Grace_M._Hopper%2C_USN_%28covered%29_head_and_shoulders_crop.jpg'"
      ]
     },
     "execution_count": 35,
     "metadata": {},
     "output_type": "execute_result"
    }
   ],
   "source": [
    "Grace_Hopper['src']"
   ]
  },
  {
   "cell_type": "code",
   "execution_count": 36,
   "id": "a2993def-c46e-46b9-96a2-b98b250c9512",
   "metadata": {},
   "outputs": [],
   "source": [
    "# Below cell in markdown to display image using <img src=\" \"/>"
   ]
  },
  {
   "cell_type": "markdown",
   "id": "912a83b7-a0e5-4703-af64-a2ab381bc01f",
   "metadata": {},
   "source": [
    "<img src = '//upload.wikimedia.org/wikipedia/commons/thumb/9/98/Commodore_Grace_M._Hopper%2C_USN_%28covered%29_head_and_shoulders_crop.jpg/240px-Commodore_Grace_M._Hopper%2C_USN_%28covered%29_head_and_shoulders_crop.jpg' />"
   ]
  },
  {
   "cell_type": "code",
   "execution_count": 37,
   "id": "8e97d69a-8381-4a38-a681-5be5936825ce",
   "metadata": {},
   "outputs": [],
   "source": [
    "image_link = Grace_Hopper['src']"
   ]
  },
  {
   "cell_type": "code",
   "execution_count": 38,
   "id": "9c7da6c8-daf4-46bf-8b22-23f8ca8d1df0",
   "metadata": {},
   "outputs": [
    {
     "data": {
      "text/plain": [
       "'//upload.wikimedia.org/wikipedia/commons/thumb/9/98/Commodore_Grace_M._Hopper%2C_USN_%28covered%29_head_and_shoulders_crop.jpg/240px-Commodore_Grace_M._Hopper%2C_USN_%28covered%29_head_and_shoulders_crop.jpg'"
      ]
     },
     "execution_count": 38,
     "metadata": {},
     "output_type": "execute_result"
    }
   ],
   "source": [
    "image_link"
   ]
  },
  {
   "cell_type": "code",
   "execution_count": 45,
   "id": "df563b4d-3aa0-4c7f-8fa1-3ebaf495b262",
   "metadata": {},
   "outputs": [],
   "source": [
    "Image = requests.get('https:' + image_link)"
   ]
  },
  {
   "cell_type": "code",
   "execution_count": 46,
   "id": "38671942-fecc-48d0-ac61-2d5753dcf715",
   "metadata": {},
   "outputs": [],
   "source": [
    "#Image.content"
   ]
  },
  {
   "cell_type": "code",
   "execution_count": 47,
   "id": "ae406a7f-73f6-4b32-810d-902a73c1b245",
   "metadata": {},
   "outputs": [],
   "source": [
    "f = open('grass_hopper_image.jpg','wb')"
   ]
  },
  {
   "cell_type": "code",
   "execution_count": 48,
   "id": "5316f701-9809-4fb9-a077-98bb1920f032",
   "metadata": {},
   "outputs": [
    {
     "data": {
      "text/plain": [
       "20225"
      ]
     },
     "execution_count": 48,
     "metadata": {},
     "output_type": "execute_result"
    }
   ],
   "source": [
    "f.write(Image.content)"
   ]
  },
  {
   "cell_type": "code",
   "execution_count": 49,
   "id": "a2b8566b-6960-453e-be42-640ee3fe1ed2",
   "metadata": {},
   "outputs": [],
   "source": [
    "f.close()"
   ]
  },
  {
   "cell_type": "code",
   "execution_count": 52,
   "id": "cfd10cc4-b2a2-467a-8556-58b7806ed296",
   "metadata": {},
   "outputs": [],
   "source": [
    "# Scrapping from https://books.toscrape.com/\n",
    "# https://books.toscrape.com/catalogue/page-1.html\n",
    "# https://books.toscrape.com/catalogue/page-2.html\n",
    "# https://books.toscrape.com/catalogue/page-3.html"
   ]
  },
  {
   "cell_type": "code",
   "execution_count": 53,
   "id": "c7635555-8c62-45ba-896a-939d69bd3091",
   "metadata": {},
   "outputs": [],
   "source": [
    "import requests\n",
    "import bs4"
   ]
  },
  {
   "cell_type": "code",
   "execution_count": 54,
   "id": "05ac140b-f7b1-4fa2-8697-2197f3959d79",
   "metadata": {},
   "outputs": [],
   "source": [
    "base_url = 'https://books.toscrape.com/catalogue/page-{}.html'"
   ]
  },
  {
   "cell_type": "code",
   "execution_count": 55,
   "id": "524645cf-6758-46ad-b8b1-8739744a6a97",
   "metadata": {},
   "outputs": [
    {
     "data": {
      "text/plain": [
       "'https://books.toscrape.com/catalogue/page-2.html'"
      ]
     },
     "execution_count": 55,
     "metadata": {},
     "output_type": "execute_result"
    }
   ],
   "source": [
    "base_url.format(2)"
   ]
  },
  {
   "cell_type": "code",
   "execution_count": 56,
   "id": "9bcdafa5-21c7-4494-89c0-ce8d2ac85e4b",
   "metadata": {},
   "outputs": [],
   "source": [
    "res = requests.get(base_url.format(1))"
   ]
  },
  {
   "cell_type": "code",
   "execution_count": 57,
   "id": "2b6ebe14-0ecb-4039-8bc8-351524dab2a5",
   "metadata": {},
   "outputs": [],
   "source": [
    "soup = bs4.BeautifulSoup(res.text, 'lxml')"
   ]
  },
  {
   "cell_type": "code",
   "execution_count": 60,
   "id": "2a6e3396-0e31-4fe2-a3f9-d3fdf23628e5",
   "metadata": {},
   "outputs": [
    {
     "data": {
      "text/plain": [
       "20"
      ]
     },
     "execution_count": 60,
     "metadata": {},
     "output_type": "execute_result"
    }
   ],
   "source": [
    "len(soup.select('.product_pod'))"
   ]
  },
  {
   "cell_type": "code",
   "execution_count": 61,
   "id": "53d2d8d0-14db-48ab-b5a8-d24c4aa23631",
   "metadata": {},
   "outputs": [],
   "source": [
    "products = soup.select('.product_pod')"
   ]
  },
  {
   "cell_type": "code",
   "execution_count": 62,
   "id": "eb6038cc-ce8a-49b2-b351-76082f2d2185",
   "metadata": {},
   "outputs": [
    {
     "data": {
      "text/plain": [
       "<article class=\"product_pod\">\n",
       "<div class=\"image_container\">\n",
       "<a href=\"a-light-in-the-attic_1000/index.html\"><img alt=\"A Light in the Attic\" class=\"thumbnail\" src=\"../media/cache/2c/da/2cdad67c44b002e7ead0cc35693c0e8b.jpg\"/></a>\n",
       "</div>\n",
       "<p class=\"star-rating Three\">\n",
       "<i class=\"icon-star\"></i>\n",
       "<i class=\"icon-star\"></i>\n",
       "<i class=\"icon-star\"></i>\n",
       "<i class=\"icon-star\"></i>\n",
       "<i class=\"icon-star\"></i>\n",
       "</p>\n",
       "<h3><a href=\"a-light-in-the-attic_1000/index.html\" title=\"A Light in the Attic\">A Light in the ...</a></h3>\n",
       "<div class=\"product_price\">\n",
       "<p class=\"price_color\">Â£51.77</p>\n",
       "<p class=\"instock availability\">\n",
       "<i class=\"icon-ok\"></i>\n",
       "    \n",
       "        In stock\n",
       "    \n",
       "</p>\n",
       "<form>\n",
       "<button class=\"btn btn-primary btn-block\" data-loading-text=\"Adding...\" type=\"submit\">Add to basket</button>\n",
       "</form>\n",
       "</div>\n",
       "</article>"
      ]
     },
     "execution_count": 62,
     "metadata": {},
     "output_type": "execute_result"
    }
   ],
   "source": [
    "example = products[0]\n",
    "example"
   ]
  },
  {
   "cell_type": "code",
   "execution_count": 65,
   "id": "bfbdd49b-7d57-42f7-8c01-963336038a74",
   "metadata": {},
   "outputs": [
    {
     "data": {
      "text/plain": [
       "True"
      ]
     },
     "execution_count": 65,
     "metadata": {},
     "output_type": "execute_result"
    }
   ],
   "source": [
    "'star-rating Three' in str(example)"
   ]
  },
  {
   "cell_type": "code",
   "execution_count": 67,
   "id": "3e07a257-d678-444c-b822-29dd84a05891",
   "metadata": {},
   "outputs": [
    {
     "data": {
      "text/plain": [
       "[]"
      ]
     },
     "execution_count": 67,
     "metadata": {},
     "output_type": "execute_result"
    }
   ],
   "source": [
    "example.select('.star-rating Three')"
   ]
  },
  {
   "cell_type": "code",
   "execution_count": 68,
   "id": "187b1a97-7c33-4878-9dfe-d996296f4cbf",
   "metadata": {},
   "outputs": [
    {
     "data": {
      "text/plain": [
       "[<p class=\"star-rating Three\">\n",
       " <i class=\"icon-star\"></i>\n",
       " <i class=\"icon-star\"></i>\n",
       " <i class=\"icon-star\"></i>\n",
       " <i class=\"icon-star\"></i>\n",
       " <i class=\"icon-star\"></i>\n",
       " </p>]"
      ]
     },
     "execution_count": 68,
     "metadata": {},
     "output_type": "execute_result"
    }
   ],
   "source": [
    "example.select('.star-rating.Three')"
   ]
  },
  {
   "cell_type": "code",
   "execution_count": 69,
   "id": "86d2ac9e-6e2c-4478-a8ee-160f7792e756",
   "metadata": {},
   "outputs": [
    {
     "data": {
      "text/plain": [
       "True"
      ]
     },
     "execution_count": 69,
     "metadata": {},
     "output_type": "execute_result"
    }
   ],
   "source": [
    "[] == example.select('.star-rating.Two')"
   ]
  },
  {
   "cell_type": "code",
   "execution_count": 70,
   "id": "c7dac62a-9cc2-4c7a-88cc-5c07fe61b969",
   "metadata": {},
   "outputs": [
    {
     "data": {
      "text/plain": [
       "[]"
      ]
     },
     "execution_count": 70,
     "metadata": {},
     "output_type": "execute_result"
    }
   ],
   "source": [
    "example.select('title')"
   ]
  },
  {
   "cell_type": "code",
   "execution_count": 80,
   "id": "dbbe25b2-589a-4c50-aa1b-5a1bef1bb392",
   "metadata": {},
   "outputs": [
    {
     "data": {
      "text/plain": [
       "'A Light in the Attic'"
      ]
     },
     "execution_count": 80,
     "metadata": {},
     "output_type": "execute_result"
    }
   ],
   "source": [
    "example.select('a')[1]['title']"
   ]
  },
  {
   "cell_type": "code",
   "execution_count": 83,
   "id": "4468b119-4f69-40dc-b383-5213d0c02ea1",
   "metadata": {},
   "outputs": [],
   "source": [
    "two_star_titles = []\n",
    "\n",
    "for n in range(1,51):\n",
    "    scrape_url = base_url.format(n)\n",
    "    res = requests.get(scrape_url)\n",
    "    soup = bs4.BeautifulSoup(res.text,'lxml')\n",
    "    books = soup.select('.product_pod')\n",
    "    for book in books:\n",
    "        # if 'star-rating.Two' in str(book):\n",
    "        if len(book.select('.star-rating.Two')):\n",
    "            book_title = book.select('a')[1]['title']\n",
    "            two_star_titles.append(book_title)\n",
    "            "
   ]
  },
  {
   "cell_type": "code",
   "execution_count": 84,
   "id": "3f3c760e-ca04-4d74-a7b2-7c2a1b86a3ec",
   "metadata": {},
   "outputs": [
    {
     "data": {
      "text/plain": [
       "['Starving Hearts (Triangular Trade Trilogy, #1)',\n",
       " 'Libertarianism for Beginners',\n",
       " \"It's Only the Himalayas\",\n",
       " 'How Music Works',\n",
       " 'Maude (1883-1993):She Grew Up with the country',\n",
       " \"You can't bury them all: Poems\",\n",
       " 'Reasons to Stay Alive',\n",
       " 'Without Borders (Wanderlove #1)',\n",
       " 'Soul Reader',\n",
       " 'Security',\n",
       " 'Saga, Volume 5 (Saga (Collected Editions) #5)',\n",
       " 'Reskilling America: Learning to Labor in the Twenty-First Century',\n",
       " 'Political Suicide: Missteps, Peccadilloes, Bad Calls, Backroom Hijinx, Sordid Pasts, Rotten Breaks, and Just Plain Dumb Mistakes in the Annals of American Politics',\n",
       " 'Obsidian (Lux #1)',\n",
       " 'My Paris Kitchen: Recipes and Stories',\n",
       " 'Masks and Shadows',\n",
       " 'Lumberjanes, Vol. 2: Friendship to the Max (Lumberjanes #5-8)',\n",
       " 'Lumberjanes Vol. 3: A Terrible Plan (Lumberjanes #9-12)',\n",
       " 'Judo: Seven Steps to Black Belt (an Introductory Guide for Beginners)',\n",
       " 'I Hate Fairyland, Vol. 1: Madly Ever After (I Hate Fairyland (Compilations) #1-5)',\n",
       " 'Giant Days, Vol. 2 (Giant Days #5-8)',\n",
       " 'Everydata: The Misinformation Hidden in the Little Data You Consume Every Day',\n",
       " \"Don't Be a Jerk: And Other Practical Advice from Dogen, Japan's Greatest Zen Master\",\n",
       " 'Bossypants',\n",
       " 'Bitch Planet, Vol. 1: Extraordinary Machine (Bitch Planet (Collected Editions))',\n",
       " 'Avatar: The Last Airbender: Smoke and Shadow, Part 3 (Smoke and Shadow #3)',\n",
       " 'Tuesday Nights in 1980',\n",
       " 'The Psychopath Test: A Journey Through the Madness Industry',\n",
       " 'The Power of Now: A Guide to Spiritual Enlightenment',\n",
       " \"The Omnivore's Dilemma: A Natural History of Four Meals\",\n",
       " 'The Love and Lemons Cookbook: An Apple-to-Zucchini Celebration of Impromptu Cooking',\n",
       " 'The Girl on the Train',\n",
       " 'The Emerald Mystery',\n",
       " 'The Argonauts',\n",
       " 'Suddenly in Love (Lake Haven #1)',\n",
       " 'Soft Apocalypse',\n",
       " \"So You've Been Publicly Shamed\",\n",
       " 'Shoe Dog: A Memoir by the Creator of NIKE',\n",
       " 'Louisa: The Extraordinary Life of Mrs. Adams',\n",
       " 'Large Print Heart of the Pride',\n",
       " 'Grumbles',\n",
       " 'Chasing Heaven: What Dying Taught Me About Living',\n",
       " 'Becoming Wise: An Inquiry into the Mystery and Art of Living',\n",
       " 'Beauty Restored (Riley Family Legacy Novellas #3)',\n",
       " 'Batman: The Long Halloween (Batman)',\n",
       " \"Ayumi's Violin\",\n",
       " 'Wild Swans',\n",
       " \"What's It Like in Space?: Stories from Astronauts Who've Been There\",\n",
       " 'Until Friday Night (The Field Party #1)',\n",
       " 'Unbroken: A World War II Story of Survival, Resilience, and Redemption',\n",
       " 'Twenty Yawns',\n",
       " 'Through the Woods',\n",
       " 'This Is Where It Ends',\n",
       " 'The Year of Magical Thinking',\n",
       " 'The Last Mile (Amos Decker #2)',\n",
       " 'The Immortal Life of Henrietta Lacks',\n",
       " 'The Hidden Oracle (The Trials of Apollo #1)',\n",
       " 'The Guilty (Will Robie #4)',\n",
       " 'Red Hood/Arsenal, Vol. 1: Open for Business (Red Hood/Arsenal #1)',\n",
       " 'Once Was a Time',\n",
       " 'No Dream Is Too High: Life Lessons From a Man Who Walked on the Moon',\n",
       " 'Naruto (3-in-1 Edition), Vol. 14: Includes Vols. 40, 41 & 42 (Naruto: Omnibus #14)',\n",
       " 'More Than Music (Chasing the Dream #1)',\n",
       " 'Lowriders to the Center of the Earth (Lowriders in Space #2)',\n",
       " 'Eat Fat, Get Thin',\n",
       " 'Doctor Sleep (The Shining #2)',\n",
       " 'Crazy Love: Overwhelmed by a Relentless God',\n",
       " 'Carrie',\n",
       " 'Batman: Europa',\n",
       " 'Angels Walking (Angels Walking #1)',\n",
       " 'Adulthood Is a Myth: A \"Sarah\\'s Scribbles\" Collection',\n",
       " 'A Study in Scarlet (Sherlock Holmes #1)',\n",
       " 'A Series of Catastrophes and Miracles: A True Story of Love, Science, and Cancer',\n",
       " \"A People's History of the United States\",\n",
       " 'My Kitchen Year: 136 Recipes That Saved My Life',\n",
       " 'The Lonely City: Adventures in the Art of Being Alone',\n",
       " 'The Dinner Party',\n",
       " 'Stars Above (The Lunar Chronicles #4.5)',\n",
       " 'Love, Lies and Spies',\n",
       " 'Troublemaker: Surviving Hollywood and Scientology',\n",
       " 'The Widow',\n",
       " 'Setting the World on Fire: The Brief, Astonishing Life of St. Catherine of Siena',\n",
       " 'Mothering Sunday',\n",
       " 'Lilac Girls',\n",
       " '10% Happier: How I Tamed the Voice in My Head, Reduced Stress Without Losing My Edge, and Found Self-Help That Actually Works',\n",
       " 'Underlying Notes',\n",
       " 'The Flowers Lied',\n",
       " 'Modern Day Fables',\n",
       " \"Chernobyl 01:23:40: The Incredible True Story of the World's Worst Nuclear Disaster\",\n",
       " '23 Degrees South: A Tropical Tale of Changing Whether...',\n",
       " 'When Breath Becomes Air',\n",
       " 'Vagabonding: An Uncommon Guide to the Art of Long-Term World Travel',\n",
       " 'The Martian (The Martian #1)',\n",
       " \"Miller's Valley\",\n",
       " \"Love That Boy: What Two Presidents, Eight Road Trips, and My Son Taught Me About a Parent's Expectations\",\n",
       " 'Left Behind (Left Behind #1)',\n",
       " 'Howl and Other Poems',\n",
       " \"Heaven is for Real: A Little Boy's Astounding Story of His Trip to Heaven and Back\",\n",
       " \"Brazen: The Courage to Find the You That's Been Hiding\",\n",
       " '32 Yolks',\n",
       " 'Wildlife of New York: A Five-Borough Coloring Book',\n",
       " 'Unreasonable Hope: Finding Faith in the God Who Brings Purpose to Your Pain',\n",
       " 'The Art Book',\n",
       " 'Steal Like an Artist: 10 Things Nobody Told You About Being Creative',\n",
       " 'Raymie Nightingale',\n",
       " 'Like Never Before (Walker Family #2)',\n",
       " 'How to Be a Domestic Goddess: Baking and the Art of Comfort Cooking',\n",
       " 'Finding God in the Ruins: How God Redeems Pain',\n",
       " 'Chronicles, Vol. 1',\n",
       " 'A Summer In Europe',\n",
       " 'The Rise and Fall of the Third Reich: A History of Nazi Germany',\n",
       " 'The Makings of a Fatherless Child',\n",
       " 'The Fellowship of the Ring (The Lord of the Rings #1)',\n",
       " \"Tell the Wolves I'm Home\",\n",
       " 'In the Woods (Dublin Murder Squad #1)',\n",
       " 'Give It Back',\n",
       " 'Why Save the Bankers?: And Other Essays on Our Economic and Political Crisis',\n",
       " 'The Raven King (The Raven Cycle #4)',\n",
       " 'The Expatriates',\n",
       " 'The 5th Wave (The 5th Wave #1)',\n",
       " 'Peak: Secrets from the New Science of Expertise',\n",
       " 'Logan Kade (Fallen Crest High #5.5)',\n",
       " \"I Know Why the Caged Bird Sings (Maya Angelou's Autobiography #1)\",\n",
       " 'Drama',\n",
       " \"America's War for the Greater Middle East: A Military History\",\n",
       " 'A Game of Thrones (A Song of Ice and Fire #1)',\n",
       " \"The Pilgrim's Progress\",\n",
       " 'The Hound of the Baskervilles (Sherlock Holmes #5)',\n",
       " \"The Geography of Bliss: One Grump's Search for the Happiest Places in the World\",\n",
       " 'The Demonists (Demonist #1)',\n",
       " 'The Demon Prince of Momochi House, Vol. 4 (The Demon Prince of Momochi House #4)',\n",
       " 'Misery',\n",
       " 'Far From True (Promise Falls Trilogy #2)',\n",
       " 'Confessions of a Shopaholic (Shopaholic #1)',\n",
       " 'Vegan Vegetarian Omnivore: Dinner for Everyone at the Table',\n",
       " 'Two Boys Kissing',\n",
       " 'Twilight (Twilight #1)',\n",
       " 'Twenties Girl',\n",
       " 'The Tipping Point: How Little Things Can Make a Big Difference',\n",
       " 'The Stand',\n",
       " 'The Picture of Dorian Gray',\n",
       " 'The Name of God is Mercy',\n",
       " \"The Lover's Dictionary\",\n",
       " 'The Last Painting of Sara de Vos',\n",
       " 'The Guns of August',\n",
       " 'The Girl Who Played with Fire (Millennium Trilogy #2)',\n",
       " 'The Da Vinci Code (Robert Langdon #2)',\n",
       " 'The Cat in the Hat (Beginner Books B-1)',\n",
       " 'The Book Thief',\n",
       " 'The Autobiography of Malcolm X',\n",
       " \"Surely You're Joking, Mr. Feynman!: Adventures of a Curious Character\",\n",
       " 'Soldier (Talon #3)',\n",
       " 'Shopaholic & Baby (Shopaholic #5)',\n",
       " 'Seven Days in the Art World',\n",
       " 'Rework',\n",
       " 'Packing for Mars: The Curious Science of Life in the Void',\n",
       " 'Orange Is the New Black',\n",
       " 'One for the Money (Stephanie Plum #1)',\n",
       " 'Midnight Riot (Peter Grant/ Rivers of London - books #1)',\n",
       " 'Me Talk Pretty One Day',\n",
       " 'Manuscript Found in Accra',\n",
       " 'Lust & Wonder',\n",
       " \"Life, the Universe and Everything (Hitchhiker's Guide to the Galaxy #3)\",\n",
       " 'Life After Life',\n",
       " 'I Am Malala: The Girl Who Stood Up for Education and Was Shot by the Taliban',\n",
       " 'House of Lost Worlds: Dinosaurs, Dynasties, and the Story of Life on Earth',\n",
       " 'Horrible Bear!',\n",
       " 'Holidays on Ice',\n",
       " 'Girl in the Blue Coat',\n",
       " 'Fruits Basket, Vol. 3 (Fruits Basket #3)',\n",
       " 'Cosmos',\n",
       " 'Civilization and Its Discontents',\n",
       " \"Catastrophic Happiness: Finding Joy in Childhood's Messy Years\",\n",
       " 'Career of Evil (Cormoran Strike #3)',\n",
       " 'Born to Run: A Hidden Tribe, Superathletes, and the Greatest Race the World Has Never Seen',\n",
       " \"Best of My Love (Fool's Gold #20)\",\n",
       " 'Beowulf',\n",
       " 'Awkward',\n",
       " 'And Then There Were None',\n",
       " 'A Storm of Swords (A Song of Ice and Fire #3)',\n",
       " 'The Suffragettes (Little Black Classics, #96)',\n",
       " 'Vampire Girl (Vampire Girl #1)',\n",
       " 'Three Wishes (River of Time: California #1)',\n",
       " 'The Wicked + The Divine, Vol. 1: The Faust Act (The Wicked + The Divine)',\n",
       " 'The Little Prince',\n",
       " 'The Last Girl (The Dominion Trilogy #1)',\n",
       " 'Taking Shots (Assassins #1)',\n",
       " 'Settling the Score (The Summer Games #1)',\n",
       " 'Rhythm, Chord & Malykhin',\n",
       " 'One Second (Seven #7)',\n",
       " \"Old Records Never Die: One Man's Quest for His Vinyl and His Past\",\n",
       " 'Of Mice and Men',\n",
       " 'My Perfect Mistake (Over the Top #1)',\n",
       " 'Meditations',\n",
       " 'Frankenstein',\n",
       " 'Emma']"
      ]
     },
     "execution_count": 84,
     "metadata": {},
     "output_type": "execute_result"
    }
   ],
   "source": [
    "two_star_titles"
   ]
  },
  {
   "cell_type": "code",
   "execution_count": null,
   "id": "420fee95-296e-41e9-9be5-52bbd3a1f368",
   "metadata": {},
   "outputs": [],
   "source": []
  }
 ],
 "metadata": {
  "kernelspec": {
   "display_name": "Python 3 (ipykernel)",
   "language": "python",
   "name": "python3"
  },
  "language_info": {
   "codemirror_mode": {
    "name": "ipython",
    "version": 3
   },
   "file_extension": ".py",
   "mimetype": "text/x-python",
   "name": "python",
   "nbconvert_exporter": "python",
   "pygments_lexer": "ipython3",
   "version": "3.12.7"
  }
 },
 "nbformat": 4,
 "nbformat_minor": 5
}
