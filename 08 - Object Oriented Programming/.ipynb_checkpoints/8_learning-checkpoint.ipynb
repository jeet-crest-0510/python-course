{
 "cells": [
  {
   "cell_type": "markdown",
   "id": "367a9c02-807c-4f71-968b-ba9e697f0084",
   "metadata": {
    "jp-MarkdownHeadingCollapsed": true
   },
   "source": [
    "# Class, Attributes, Method"
   ]
  },
  {
   "cell_type": "code",
   "execution_count": 1,
   "id": "43373a46-7562-4177-a485-f89bcec3101e",
   "metadata": {},
   "outputs": [],
   "source": [
    "class Animal:\n",
    "    def __init__(self, name):\n",
    "        self.animal_name = name\n",
    "A = Animal(\"Dog\")"
   ]
  },
  {
   "cell_type": "code",
   "execution_count": 2,
   "id": "ab06e983-2ffb-4398-9dd3-b4c4f5ad6c95",
   "metadata": {},
   "outputs": [
    {
     "data": {
      "text/plain": [
       "'Dog'"
      ]
     },
     "execution_count": 2,
     "metadata": {},
     "output_type": "execute_result"
    }
   ],
   "source": [
    "A.animal_name"
   ]
  },
  {
   "cell_type": "code",
   "execution_count": 5,
   "id": "f05fdad5-d87c-4c6b-bb8a-f2479f6c46c1",
   "metadata": {},
   "outputs": [
    {
     "data": {
      "text/plain": [
       "__main__.Animal"
      ]
     },
     "execution_count": 5,
     "metadata": {},
     "output_type": "execute_result"
    }
   ],
   "source": [
    "type(A)"
   ]
  },
  {
   "cell_type": "code",
   "execution_count": 6,
   "id": "3a8507cf-9e6e-4242-aa62-d074b60388ca",
   "metadata": {},
   "outputs": [],
   "source": [
    "A1 = Animal(name = 'Cat')"
   ]
  },
  {
   "cell_type": "code",
   "execution_count": 8,
   "id": "f25ebf4e-ab7c-4960-b970-d5ad781c83ac",
   "metadata": {},
   "outputs": [
    {
     "data": {
      "text/plain": [
       "<__main__.Animal at 0x12563f60ad0>"
      ]
     },
     "execution_count": 8,
     "metadata": {},
     "output_type": "execute_result"
    }
   ],
   "source": [
    "A1"
   ]
  },
  {
   "cell_type": "code",
   "execution_count": 9,
   "id": "a5dd6cde-99c2-40a7-a050-8a10ff7a36bb",
   "metadata": {},
   "outputs": [
    {
     "data": {
      "text/plain": [
       "'Cat'"
      ]
     },
     "execution_count": 9,
     "metadata": {},
     "output_type": "execute_result"
    }
   ],
   "source": [
    "A1.animal_name"
   ]
  },
  {
   "cell_type": "code",
   "execution_count": 10,
   "id": "47b35eab-34f4-4fcf-a119-d1f56d98a616",
   "metadata": {},
   "outputs": [],
   "source": [
    "A1.animal_name = 'Cow'"
   ]
  },
  {
   "cell_type": "code",
   "execution_count": 11,
   "id": "b288bdb8-85cb-454d-b1ca-baee307d3fa0",
   "metadata": {},
   "outputs": [
    {
     "data": {
      "text/plain": [
       "'Cow'"
      ]
     },
     "execution_count": 11,
     "metadata": {},
     "output_type": "execute_result"
    }
   ],
   "source": [
    "A1.animal_name"
   ]
  },
  {
   "cell_type": "code",
   "execution_count": 12,
   "id": "748fb3dc-bb6a-49fa-b9c4-b4976b094f63",
   "metadata": {},
   "outputs": [],
   "source": [
    "class Vehicle:\n",
    "    def __init__(self, name, year):\n",
    "        self.name = name\n",
    "        self.year = year"
   ]
  },
  {
   "cell_type": "code",
   "execution_count": 14,
   "id": "c9cbda3a-228d-4a12-b381-a93ec3d3783c",
   "metadata": {},
   "outputs": [],
   "source": [
    "v1 = Vehicle(\"BMW\",2019)"
   ]
  },
  {
   "cell_type": "code",
   "execution_count": 15,
   "id": "ba26dcf2-a69a-45ad-a65f-5d35ae349553",
   "metadata": {},
   "outputs": [
    {
     "data": {
      "text/plain": [
       "<__main__.Vehicle at 0x12564367e60>"
      ]
     },
     "execution_count": 15,
     "metadata": {},
     "output_type": "execute_result"
    }
   ],
   "source": [
    "v1"
   ]
  },
  {
   "cell_type": "code",
   "execution_count": 19,
   "id": "968c9e79-8208-47c2-bb80-55702b4a98c9",
   "metadata": {},
   "outputs": [
    {
     "name": "stdout",
     "output_type": "stream",
     "text": [
      "Name: BMW, Year: 2019\n"
     ]
    }
   ],
   "source": [
    "print(f'Name: {v1.name}, Year: {v1.year}')"
   ]
  },
  {
   "cell_type": "code",
   "execution_count": 20,
   "id": "623003ad-fb2c-4e18-831b-a463e0c042dc",
   "metadata": {},
   "outputs": [],
   "source": [
    "v2 = Vehicle(year=2020, name='Audi')"
   ]
  },
  {
   "cell_type": "code",
   "execution_count": 21,
   "id": "3a4dd356-4a66-49fd-afca-da216ef556df",
   "metadata": {},
   "outputs": [
    {
     "name": "stdout",
     "output_type": "stream",
     "text": [
      "Name: Audi, Year: 2020\n"
     ]
    }
   ],
   "source": [
    "print(f'Name: {v2.name}, Year: {v2.year}')"
   ]
  },
  {
   "cell_type": "code",
   "execution_count": 33,
   "id": "1b97b502-7c44-4e4f-8fd0-833cd1a10f16",
   "metadata": {},
   "outputs": [],
   "source": [
    "class Animal1:\n",
    "    species = 'Mammal'\n",
    "    def __init__(self, name):\n",
    "        self.animal_name = name\n",
    "    def sound(self, s):\n",
    "        print(f'{self.animal_name} {s} !!')\n",
    "A1 = Animal1(\"Dog\")"
   ]
  },
  {
   "cell_type": "code",
   "execution_count": 34,
   "id": "2b2816c0-fc00-453a-89f6-53e1ce3b5d3f",
   "metadata": {},
   "outputs": [
    {
     "name": "stdout",
     "output_type": "stream",
     "text": [
      "Dog Barks !!\n"
     ]
    }
   ],
   "source": [
    "A1.sound('Barks')"
   ]
  },
  {
   "cell_type": "code",
   "execution_count": 24,
   "id": "688cf719-9a54-4b3c-8cfd-97700cab2656",
   "metadata": {},
   "outputs": [],
   "source": [
    "class Circle():\n",
    "    pi = 3.14\n",
    "    def __init__(self, radius = 1):\n",
    "        self.radius = radius\n",
    "        self.area = Circle.pi * radius * radius\n",
    "        \n",
    "    def circumference(self):\n",
    "        return self.pi * 2* self.radius"
   ]
  },
  {
   "cell_type": "code",
   "execution_count": 25,
   "id": "41de766a-9a7e-459a-b02b-dba3dd3a8c07",
   "metadata": {},
   "outputs": [],
   "source": [
    "c1 = Circle()"
   ]
  },
  {
   "cell_type": "code",
   "execution_count": 26,
   "id": "5c51edc3-c8fa-4b92-b3f2-fa61f7ba28c2",
   "metadata": {},
   "outputs": [
    {
     "name": "stdout",
     "output_type": "stream",
     "text": [
      "<__main__.Circle object at 0x0000012565BB7620>\n"
     ]
    }
   ],
   "source": [
    "print(c1)"
   ]
  },
  {
   "cell_type": "code",
   "execution_count": 27,
   "id": "23275fd6-7995-4720-abf4-b7e2ce4dc25c",
   "metadata": {},
   "outputs": [
    {
     "data": {
      "text/plain": [
       "6.28"
      ]
     },
     "execution_count": 27,
     "metadata": {},
     "output_type": "execute_result"
    }
   ],
   "source": [
    "c1.circumference()"
   ]
  },
  {
   "cell_type": "code",
   "execution_count": 28,
   "id": "b7c7aafd-e569-4ee6-9416-5f86753c1af9",
   "metadata": {},
   "outputs": [
    {
     "data": {
      "text/plain": [
       "3.14"
      ]
     },
     "execution_count": 28,
     "metadata": {},
     "output_type": "execute_result"
    }
   ],
   "source": [
    "c1.area"
   ]
  },
  {
   "cell_type": "code",
   "execution_count": 29,
   "id": "a3c19895-b6f6-4d1e-b685-8262d026d71f",
   "metadata": {},
   "outputs": [],
   "source": [
    "c2 = Circle(2)"
   ]
  },
  {
   "cell_type": "code",
   "execution_count": 30,
   "id": "79383971-caa6-4e12-9f14-3ef53569b35b",
   "metadata": {},
   "outputs": [
    {
     "data": {
      "text/plain": [
       "12.56"
      ]
     },
     "execution_count": 30,
     "metadata": {},
     "output_type": "execute_result"
    }
   ],
   "source": [
    "c2.circumference()"
   ]
  },
  {
   "cell_type": "code",
   "execution_count": 31,
   "id": "d47dfedf-3ca4-46ed-aa54-6e144a826ed0",
   "metadata": {},
   "outputs": [
    {
     "data": {
      "text/plain": [
       "3.14"
      ]
     },
     "execution_count": 31,
     "metadata": {},
     "output_type": "execute_result"
    }
   ],
   "source": [
    "Circle.pi"
   ]
  },
  {
   "cell_type": "code",
   "execution_count": 32,
   "id": "836f1687-ca39-4ce9-ac62-02afbca6f44d",
   "metadata": {},
   "outputs": [
    {
     "data": {
      "text/plain": [
       "3.14"
      ]
     },
     "execution_count": 32,
     "metadata": {},
     "output_type": "execute_result"
    }
   ],
   "source": [
    "c1.pi"
   ]
  },
  {
   "cell_type": "markdown",
   "id": "4dd39c79-ad6a-4294-9fd0-59e9366a7021",
   "metadata": {},
   "source": [
    "# Inheritance and polymorphism"
   ]
  },
  {
   "cell_type": "code",
   "execution_count": 50,
   "id": "fbd5bc89-4818-426e-b787-286278f88ee4",
   "metadata": {},
   "outputs": [],
   "source": [
    "class Animal():\n",
    "    def __init__(self):\n",
    "        print(\"Class: Animal\")\n",
    "        \n",
    "    def who_am_i(self):\n",
    "        print(\"Class: Animal, Method: who_am_i\")"
   ]
  },
  {
   "cell_type": "code",
   "execution_count": 51,
   "id": "563af4ef-49a3-4541-be65-0752f2db5d92",
   "metadata": {},
   "outputs": [
    {
     "name": "stdout",
     "output_type": "stream",
     "text": [
      "Class: Animal\n"
     ]
    }
   ],
   "source": [
    "a1 = Animal()"
   ]
  },
  {
   "cell_type": "code",
   "execution_count": 52,
   "id": "fd2e276e-fb9b-4670-a8df-43e90f42f7ea",
   "metadata": {},
   "outputs": [
    {
     "name": "stdout",
     "output_type": "stream",
     "text": [
      "Class: Animal, Method: who_am_i\n"
     ]
    }
   ],
   "source": [
    "a1.who_am_i()"
   ]
  },
  {
   "cell_type": "code",
   "execution_count": 59,
   "id": "c8229771-1fdc-4ef8-8863-11d4a72cf748",
   "metadata": {},
   "outputs": [],
   "source": [
    "class Dog(Animal):\n",
    "    pass  "
   ]
  },
  {
   "cell_type": "code",
   "execution_count": 60,
   "id": "b0d79fcf-45e9-470a-a7c6-31cee6767598",
   "metadata": {},
   "outputs": [
    {
     "name": "stdout",
     "output_type": "stream",
     "text": [
      "Class: Animal\n"
     ]
    }
   ],
   "source": [
    "d1 = Dog()"
   ]
  },
  {
   "cell_type": "code",
   "execution_count": 61,
   "id": "5dcde616-8fcd-4b48-811c-cacaebe56d1d",
   "metadata": {},
   "outputs": [],
   "source": [
    "class Dog(Animal):\n",
    "    def __init__(self):\n",
    "        Animal.__init__(self)\n",
    "        print(\"class: Dog\") "
   ]
  },
  {
   "cell_type": "code",
   "execution_count": 62,
   "id": "4a40bd9c-03c4-4d00-bb30-430409eb1cd2",
   "metadata": {},
   "outputs": [
    {
     "name": "stdout",
     "output_type": "stream",
     "text": [
      "Class: Animal\n",
      "class: Dog\n"
     ]
    }
   ],
   "source": [
    "d1 = Dog()"
   ]
  },
  {
   "cell_type": "code",
   "execution_count": 63,
   "id": "3ad04284-1d00-43de-af2f-cee157c4590c",
   "metadata": {},
   "outputs": [
    {
     "name": "stdout",
     "output_type": "stream",
     "text": [
      "Class: Animal, Method: who_am_i\n"
     ]
    }
   ],
   "source": [
    "d1.who_am_i()"
   ]
  },
  {
   "cell_type": "code",
   "execution_count": 67,
   "id": "70a7fa21-3e7d-4fa1-8e16-90317ca50145",
   "metadata": {},
   "outputs": [],
   "source": [
    "class Dog(Animal):\n",
    "    def __init__(self):\n",
    "        Animal.__init__(self)\n",
    "        print(\"class: Dog\")\n",
    "        \n",
    "    def who_am_i(self):\n",
    "        print(\"Class: Dog, Method: who_am_i\")\n",
    "        \n",
    "    def bark(self):\n",
    "        print(\"WOOF!!\")"
   ]
  },
  {
   "cell_type": "code",
   "execution_count": 68,
   "id": "1b2c98d1-4349-48ff-bed8-ed853ac8e8e6",
   "metadata": {},
   "outputs": [
    {
     "name": "stdout",
     "output_type": "stream",
     "text": [
      "Class: Animal\n",
      "class: Dog\n"
     ]
    }
   ],
   "source": [
    "d1 = Dog()"
   ]
  },
  {
   "cell_type": "code",
   "execution_count": 69,
   "id": "7143dd8a-791b-4b8c-9a93-86e9d1e44662",
   "metadata": {},
   "outputs": [
    {
     "name": "stdout",
     "output_type": "stream",
     "text": [
      "Class: Dog, Method: who_am_i\n"
     ]
    }
   ],
   "source": [
    "d1.who_am_i()"
   ]
  },
  {
   "cell_type": "code",
   "execution_count": 70,
   "id": "7a5ad410-45bc-4123-846c-98795da51309",
   "metadata": {},
   "outputs": [
    {
     "name": "stdout",
     "output_type": "stream",
     "text": [
      "WOOF!!\n"
     ]
    }
   ],
   "source": [
    "d1.bark()"
   ]
  },
  {
   "cell_type": "code",
   "execution_count": 71,
   "id": "8874a28b-47d7-42c4-ad7f-dbbf19055609",
   "metadata": {},
   "outputs": [],
   "source": [
    "class Dog():\n",
    "    def __init__(self, name):\n",
    "        self.name = name\n",
    "        \n",
    "    def speak(self):\n",
    "        return self.name + \" says woof!!\""
   ]
  },
  {
   "cell_type": "code",
   "execution_count": 72,
   "id": "77f967c2-8dc1-4cf8-931f-893e544eb4b2",
   "metadata": {},
   "outputs": [],
   "source": [
    "class Cat():\n",
    "    def __init__(self, name):\n",
    "        self.name = name\n",
    "        \n",
    "    def speak(self):\n",
    "        return self.name + \" says meow!!\""
   ]
  },
  {
   "cell_type": "code",
   "execution_count": 73,
   "id": "1b77b44a-8354-44ec-b6db-42b5aec97ef6",
   "metadata": {},
   "outputs": [],
   "source": [
    "niko = Dog(\"niko\")"
   ]
  },
  {
   "cell_type": "code",
   "execution_count": 74,
   "id": "96fb8f58-b5f4-434e-977f-c09e5ade225b",
   "metadata": {},
   "outputs": [],
   "source": [
    "felix = Cat(\"felix\")"
   ]
  },
  {
   "cell_type": "code",
   "execution_count": 75,
   "id": "ed97ee26-5556-48f6-860c-748c31c98d5c",
   "metadata": {},
   "outputs": [
    {
     "name": "stdout",
     "output_type": "stream",
     "text": [
      "niko says woof!!\n"
     ]
    }
   ],
   "source": [
    "print(niko.speak())"
   ]
  },
  {
   "cell_type": "code",
   "execution_count": 76,
   "id": "203b3875-84a3-4b27-82ac-0572c6dea90e",
   "metadata": {},
   "outputs": [
    {
     "name": "stdout",
     "output_type": "stream",
     "text": [
      "felix says meow!!\n"
     ]
    }
   ],
   "source": [
    "print(felix.speak())"
   ]
  },
  {
   "cell_type": "code",
   "execution_count": 77,
   "id": "c7251590-1b31-4d25-a628-ed4988a04433",
   "metadata": {},
   "outputs": [],
   "source": [
    "def pet_speak(pet):\n",
    "    print(pet.speak())"
   ]
  },
  {
   "cell_type": "code",
   "execution_count": 78,
   "id": "e038b6f8-9afa-4196-a55e-f0d5b0d9a39b",
   "metadata": {},
   "outputs": [
    {
     "name": "stdout",
     "output_type": "stream",
     "text": [
      "niko says woof!!\n"
     ]
    }
   ],
   "source": [
    "pet_speak(niko)"
   ]
  },
  {
   "cell_type": "code",
   "execution_count": 79,
   "id": "64af3a75-325f-4c70-82a6-c415e4fe9758",
   "metadata": {},
   "outputs": [
    {
     "name": "stdout",
     "output_type": "stream",
     "text": [
      "felix says meow!!\n"
     ]
    }
   ],
   "source": [
    "pet_speak(felix)"
   ]
  },
  {
   "cell_type": "code",
   "execution_count": 80,
   "id": "0d846f36-217b-4b58-a2d2-0ccb3bb15ba2",
   "metadata": {},
   "outputs": [],
   "source": [
    "class Animal:\n",
    "    def __init__(self, name):\n",
    "        self.name = name\n",
    "    def speak(self):\n",
    "        raise NotImplementedError(\"Subclass must Implement Abstract Method\")"
   ]
  },
  {
   "cell_type": "code",
   "execution_count": 82,
   "id": "d57261e7-58f6-402b-a82e-9e3628231c56",
   "metadata": {},
   "outputs": [],
   "source": [
    "a1= Animal(\"dog\")"
   ]
  },
  {
   "cell_type": "code",
   "execution_count": 83,
   "id": "db94f62f-4083-4314-8210-1739b9f115ee",
   "metadata": {},
   "outputs": [
    {
     "ename": "NotImplementedError",
     "evalue": "Subclass must Implement Abstract Method",
     "output_type": "error",
     "traceback": [
      "\u001b[1;31m---------------------------------------------------------------------------\u001b[0m",
      "\u001b[1;31mNotImplementedError\u001b[0m                       Traceback (most recent call last)",
      "Cell \u001b[1;32mIn[83], line 1\u001b[0m\n\u001b[1;32m----> 1\u001b[0m a1\u001b[38;5;241m.\u001b[39mspeak()\n",
      "Cell \u001b[1;32mIn[80], line 5\u001b[0m, in \u001b[0;36mAnimal.speak\u001b[1;34m(self)\u001b[0m\n\u001b[0;32m      4\u001b[0m \u001b[38;5;28;01mdef\u001b[39;00m \u001b[38;5;21mspeak\u001b[39m(\u001b[38;5;28mself\u001b[39m):\n\u001b[1;32m----> 5\u001b[0m     \u001b[38;5;28;01mraise\u001b[39;00m \u001b[38;5;167;01mNotImplementedError\u001b[39;00m(\u001b[38;5;124m\"\u001b[39m\u001b[38;5;124mSubclass must Implement Abstract Method\u001b[39m\u001b[38;5;124m\"\u001b[39m)\n",
      "\u001b[1;31mNotImplementedError\u001b[0m: Subclass must Implement Abstract Method"
     ]
    }
   ],
   "source": [
    "a1.speak()"
   ]
  },
  {
   "cell_type": "code",
   "execution_count": 84,
   "id": "5a7d9a73-dc2f-4bb1-87a6-17e74b8d8469",
   "metadata": {},
   "outputs": [],
   "source": [
    "class Dog(Animal):\n",
    "    def speak(self):\n",
    "        print(f'{self.name} woofs!!')"
   ]
  },
  {
   "cell_type": "code",
   "execution_count": 85,
   "id": "520944d3-6820-4c43-a820-b34f147c28d4",
   "metadata": {},
   "outputs": [],
   "source": [
    "d1 = Dog(\"Fido\")"
   ]
  },
  {
   "cell_type": "code",
   "execution_count": 86,
   "id": "da58a42f-71ea-49b3-95c1-7934361ba4bb",
   "metadata": {},
   "outputs": [
    {
     "name": "stdout",
     "output_type": "stream",
     "text": [
      "Fido woofs!!\n"
     ]
    }
   ],
   "source": [
    "d1.speak()"
   ]
  },
  {
   "cell_type": "code",
   "execution_count": null,
   "id": "37268a3f-6e87-4c1c-9c74-6fe87121174c",
   "metadata": {},
   "outputs": [],
   "source": []
  }
 ],
 "metadata": {
  "kernelspec": {
   "display_name": "Python 3 (ipykernel)",
   "language": "python",
   "name": "python3"
  },
  "language_info": {
   "codemirror_mode": {
    "name": "ipython",
    "version": 3
   },
   "file_extension": ".py",
   "mimetype": "text/x-python",
   "name": "python",
   "nbconvert_exporter": "python",
   "pygments_lexer": "ipython3",
   "version": "3.12.7"
  }
 },
 "nbformat": 4,
 "nbformat_minor": 5
}
