{
 "cells": [
  {
   "cell_type": "code",
   "execution_count": 3,
   "id": "98ba9ac8-b36a-41ca-a528-5e6563139020",
   "metadata": {},
   "outputs": [],
   "source": [
    "try:\n",
    "    result = 10+10\n",
    "except:\n",
    "    print(\"You aren't adding th numbers correctly!\")"
   ]
  },
  {
   "cell_type": "code",
   "execution_count": 4,
   "id": "07274534-caaf-4869-8050-97ac44225cbe",
   "metadata": {},
   "outputs": [
    {
     "name": "stdout",
     "output_type": "stream",
     "text": [
      "20\n"
     ]
    }
   ],
   "source": [
    "print(result)"
   ]
  },
  {
   "cell_type": "code",
   "execution_count": 5,
   "id": "29907cbf-4045-48d6-b163-f1304be07ba1",
   "metadata": {},
   "outputs": [
    {
     "name": "stdout",
     "output_type": "stream",
     "text": [
      "You aren't adding th numbers correctly!\n"
     ]
    }
   ],
   "source": [
    "try:\n",
    "    result = 10+ '10'\n",
    "    print(result)\n",
    "except:\n",
    "    print(\"You aren't adding th numbers correctly!\")"
   ]
  },
  {
   "cell_type": "code",
   "execution_count": 6,
   "id": "df8b1362-5256-4e84-acff-56823f089b63",
   "metadata": {},
   "outputs": [
    {
     "name": "stdout",
     "output_type": "stream",
     "text": [
      "20\n"
     ]
    }
   ],
   "source": [
    "try:\n",
    "    result = 10+ 10\n",
    "except:\n",
    "    print(\"You aren't adding th numbers correctly!\")\n",
    "else:\n",
    "    print(result)"
   ]
  },
  {
   "cell_type": "code",
   "execution_count": 7,
   "id": "c89dd070-45d2-4ed8-9a93-9f838bfe2eee",
   "metadata": {},
   "outputs": [
    {
     "name": "stdout",
     "output_type": "stream",
     "text": [
      "I always run\n"
     ]
    }
   ],
   "source": [
    "try:\n",
    "    f = open('myfile.txt','w')\n",
    "    f.write(\"Write a test line\")\n",
    "except TypeError:\n",
    "    print(\"it's a type error\")\n",
    "except OSError:\n",
    "    print(\"You have IO/OS error\")\n",
    "finally:\n",
    "    print(\"I always run\")"
   ]
  },
  {
   "cell_type": "code",
   "execution_count": 9,
   "id": "e3908a17-40d6-4945-826d-2c3d8d05377e",
   "metadata": {},
   "outputs": [
    {
     "name": "stdout",
     "output_type": "stream",
     "text": [
      "You have IO/OS error\n",
      "I always run\n"
     ]
    }
   ],
   "source": [
    "try:\n",
    "    f = open('myfile.txt','r')\n",
    "    f.write(\"Write a test line\")\n",
    "except TypeError:\n",
    "    print(\"it's a type error\")\n",
    "except OSError:\n",
    "    print(\"You have IO/OS error\")\n",
    "except:\n",
    "    print(\"All other Exceptions\")\n",
    "finally:\n",
    "    print(\"I always run\")"
   ]
  },
  {
   "cell_type": "code",
   "execution_count": 12,
   "id": "1f6be3db-8d34-4bb2-a69e-71a060df2ff6",
   "metadata": {},
   "outputs": [],
   "source": [
    "def ask_for_int():\n",
    "    while True:\n",
    "        try:\n",
    "            num = int(input(\"Enter the Number: \"))\n",
    "        except:\n",
    "            print(\"Whoops! It's not a number\")\n",
    "            continue\n",
    "        else:\n",
    "            print(\"Thank You\")\n",
    "            break\n",
    "        finally:\n",
    "            print(\"I will always run\")\n",
    "            print(\"End of Excution\")"
   ]
  },
  {
   "cell_type": "code",
   "execution_count": 13,
   "id": "cb719bcb-4959-4c25-a051-906912361e6b",
   "metadata": {},
   "outputs": [
    {
     "name": "stdin",
     "output_type": "stream",
     "text": [
      "Enter the Number:  }a\n"
     ]
    },
    {
     "name": "stdout",
     "output_type": "stream",
     "text": [
      "Whoops! It's not a number\n",
      "I will always run\n",
      "End of Excution\n"
     ]
    },
    {
     "name": "stdin",
     "output_type": "stream",
     "text": [
      "Enter the Number:  1\n"
     ]
    },
    {
     "name": "stdout",
     "output_type": "stream",
     "text": [
      "Thank You\n",
      "I will always run\n",
      "End of Excution\n"
     ]
    }
   ],
   "source": [
    "ask_for_int()"
   ]
  },
  {
   "cell_type": "code",
   "execution_count": null,
   "id": "93c96173-60d5-4521-a017-915851fe3cd5",
   "metadata": {},
   "outputs": [],
   "source": []
  }
 ],
 "metadata": {
  "kernelspec": {
   "display_name": "Python 3 (ipykernel)",
   "language": "python",
   "name": "python3"
  },
  "language_info": {
   "codemirror_mode": {
    "name": "ipython",
    "version": 3
   },
   "file_extension": ".py",
   "mimetype": "text/x-python",
   "name": "python",
   "nbconvert_exporter": "python",
   "pygments_lexer": "ipython3",
   "version": "3.12.7"
  }
 },
 "nbformat": 4,
 "nbformat_minor": 5
}
